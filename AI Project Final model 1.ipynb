{
 "cells": [
  {
   "cell_type": "code",
   "execution_count": 1,
   "metadata": {},
   "outputs": [],
   "source": [
    "#importing packages\n",
    "import pandas as pd\n",
    "import numpy as np\n",
    "import os"
   ]
  },
  {
   "cell_type": "code",
   "execution_count": 2,
   "metadata": {},
   "outputs": [],
   "source": [
    "#importing dialog data pt.1\n",
    "dialog_data=[]\n",
    "path='D:/BDA/AI project/DAIZ-WOZ_Distress_Corpus/Unzipped_Data/Transcripts/transcripts1'\n",
    "for i in os.listdir(path):\n",
    "    temp=[]\n",
    "    new_path=os.path.join(path,i)\n",
    "    data=pd.read_csv(new_path)\n",
    "    for i in range(len(data)):\n",
    "        temp.append(data.iloc[i][0])\n",
    "    dialog_data.append(temp)"
   ]
  },
  {
   "cell_type": "code",
   "execution_count": 3,
   "metadata": {},
   "outputs": [],
   "source": [
    "#importing dialog data pt.2\n",
    "dialog_data1=[]\n",
    "path='D:/BDA/AI project/DAIZ-WOZ_Distress_Corpus/Unzipped_Data/Transcripts/transcripts2'\n",
    "for i in os.listdir(path):\n",
    "    temp=[]\n",
    "    new_path=os.path.join(path,i)\n",
    "    data=pd.read_csv(new_path)\n",
    "    for i in range(len(data)):\n",
    "        temp.append(data.iloc[i][0])\n",
    "    dialog_data1.append(temp)"
   ]
  },
  {
   "cell_type": "code",
   "execution_count": 4,
   "metadata": {},
   "outputs": [],
   "source": [
    "#defining contraction words' dctionary for transformation\n",
    "contraction_dict = {\"ain't\": \"is not\", \"aren't\": \"are not\",\"can't\": \"cannot\", \"'cause\": \"because\", \"could've\": \"could have\", \n",
    "                    \"couldn't\": \"could not\", \"didn't\": \"did not\",  \"doesn't\": \"does not\", \"don't\": \"do not\", \"hadn't\": \"had not\",\n",
    "                    \"hasn't\": \"has not\", \"haven't\": \"have not\", \"he'd\": \"he would\",\"he'll\": \"he will\", \"he's\": \"he is\", \n",
    "                    \"how'd\": \"how did\", \"how'd'y\": \"how do you\", \"how'll\": \"how will\", \"how's\": \"how is\",  \"I'd\": \"I would\",\n",
    "                    \"I'd've\": \"I would have\", \"I'll\": \"I will\", \"I'll've\": \"I will have\",\"I'm\": \"I am\", \"I've\": \"I have\", \n",
    "                    \"i'd\": \"i would\", \"i'd've\": \"i would have\", \"i'll\": \"i will\",  \"i'll've\": \"i will have\",\"i'm\": \"i am\", \n",
    "                    \"i've\": \"i have\", \"isn't\": \"is not\", \"it'd\": \"it would\", \"it'd've\": \"it would have\", \"it'll\": \"it will\", \n",
    "                    \"it'll've\": \"it will have\",\"it's\": \"it is\", \"let's\": \"let us\", \"ma'am\": \"madam\", \"mayn't\": \"may not\", \n",
    "                    \"might've\": \"might have\",\"mightn't\": \"might not\",\"mightn't've\": \"might not have\", \"must've\": \"must have\", \n",
    "                    \"mustn't\": \"must not\", \"mustn't've\": \"must not have\", \"needn't\": \"need not\", \"needn't've\": \"need not have\",\n",
    "                    \"o'clock\": \"of the clock\", \"oughtn't\": \"ought not\", \"oughtn't've\": \"ought not have\", \"shan't\": \"shall not\",\n",
    "                    \"sha'n't\": \"shall not\", \"shan't've\": \"shall not have\", \"she'd\": \"she would\", \"she'd've\": \"she would have\",\n",
    "                    \"she'll\": \"she will\", \"she'll've\": \"she will have\", \"she's\": \"she is\", \"should've\": \"should have\",\n",
    "                    \"shouldn't\": \"should not\", \"shouldn't've\": \"should not have\", \"so've\": \"so have\",\"so's\": \"so as\", \n",
    "                    \"this's\": \"this is\",\"that'd\": \"that would\", \"that'd've\": \"that would have\", \"that's\": \"that is\", \n",
    "                    \"there'd\": \"there would\", \"there'd've\": \"there would have\", \"there's\": \"there is\", \"here's\": \"here is\",\n",
    "                    \"they'd\": \"they would\", \"they'd've\": \"they would have\", \"they'll\": \"they will\", \n",
    "                    \"they'll've\": \"they will have\", \"they're\": \"they are\", \"they've\": \"they have\", \"to've\": \"to have\", \n",
    "                    \"wasn't\": \"was not\", \"we'd\": \"we would\", \"we'd've\": \"we would have\", \"we'll\": \"we will\", \n",
    "                    \"we'll've\": \"we will have\", \"we're\": \"we are\", \"we've\": \"we have\", \"weren't\": \"were not\", \n",
    "                    \"what'll\": \"what will\", \"what'll've\": \"what will have\", \"what're\": \"what are\",  \"what's\": \"what is\",\n",
    "                    \"what've\": \"what have\", \"when's\": \"when is\", \"when've\": \"when have\", \"where'd\": \"where did\", \n",
    "                    \"where's\": \"where is\", \"where've\": \"where have\", \"who'll\": \"who will\", \"who'll've\": \"who will have\",\n",
    "                    \"who's\": \"who is\", \"who've\": \"who have\", \"why's\": \"why is\", \"why've\": \"why have\", \"will've\": \"will have\",\n",
    "                    \"won't\": \"will not\", \"won't've\": \"will not have\", \"would've\": \"would have\", \"wouldn't\": \"would not\", \n",
    "                    \"wouldn't've\": \"would not have\", \"y'all\": \"you all\", \"y'all'd\": \"you all would\",\"y'all'd've\": \"you all would have\",\n",
    "                    \"y'all're\": \"you all are\",\"y'all've\": \"you all have\",\"you'd\": \"you would\", \"you'd've\": \"you would have\", \n",
    "                    \"you'll\": \"you will\", \"you'll've\": \"you will have\", \"you're\": \"you are\", \"you've\": \"you have\", \"why'd\":\"why did\",\n",
    "                    \"who'd\":\"who did\", \"where'd\":\"where did\", \"when'd\":\"when did\", \"which'd\":\"which did\", \"what'd\":\"what did\", \"d'ya\":\"do you\", \n",
    "                    \"d'y'all\":\"do you all\", \"y'all'd've\":\"you all would have\", \"i'd've\":\"i would have\"}"
   ]
  },
  {
   "cell_type": "code",
   "execution_count": 11,
   "metadata": {},
   "outputs": [],
   "source": [
    "#function for data preprocessing\n",
    "import re\n",
    "def preprocess(data):\n",
    "    preprocessed_data=[]\n",
    "    for i in data:\n",
    "        temp_vect=[]\n",
    "        for j in i:\n",
    "            temp=re.sub(' ’ |’| \\' ','\\'',j) #changing ’ to '\n",
    "            temp=temp.strip() #removing beginning and tailing whitespaces\n",
    "            temp=re.sub('[^A-Za-z\\s.,?!\\-\\'() ]+','', temp) #Removing chracters except alphanumeric and ? ! . , '\n",
    "            temp=temp.lower() #coverting to lower case\n",
    "            temp=re.sub('[\\?]+(?=[\\?])|[\\!]+(?=[\\!])|[\\']+(?=[\\'])|[\\.]+(?=[\\.])','', temp) #removing occurences of consecutive special characters\n",
    "            temp=re.sub('\\?',' ? ',temp) \n",
    "            temp=re.sub('\\!',' ! ',temp)\n",
    "            temp=re.sub('\\.',' . ',temp)\n",
    "            temp=re.sub('[\\s]+(?=[\\s])','',temp)#these 4 lines ensures a single whitespace at the beginning and the end of \n",
    "                                                          #special characters and words.\n",
    "            for key,val in contraction_dict.items():\n",
    "                temp=re.sub(key.lower(),val.lower(),temp)\n",
    "            temp1=['' if i=='um' else i for i in temp.split()]\n",
    "            temp2=['' if i == 'uh' else i for i in temp1]\n",
    "            temp3=['hmm' if i == 'mm' else i for i in temp2]\n",
    "            temp4=['hmm' if i == 'hm' else i for i in temp3]\n",
    "            temp5=['hmm' if i == 'mhm' else i for i in temp4]\n",
    "            temp6=['hmm' if i == 'mmm' else i for i in temp5]\n",
    "            temp=' '.join(temp6)\n",
    "            temp=temp.replace('laughter','haha')\n",
    "            temp=temp.replace('(laughter)','haha') #above lines replacing few strings\n",
    "            start=None\n",
    "            start = re.search(r'[a-z]', temp, re.I) \n",
    "            if start is not None: \n",
    "                start1 = start.start()  #finds the starting index of the dialog ignoring other non-alphabets\n",
    "            if len(temp)>0:\n",
    "                temp_vect.append(temp[start1:])\n",
    "        preprocessed_data.append(temp_vect)\n",
    "    return preprocessed_data"
   ]
  },
  {
   "cell_type": "code",
   "execution_count": 6,
   "metadata": {},
   "outputs": [
    {
     "name": "stdout",
     "output_type": "stream",
     "text": [
      "Before preprocessing: \n",
      "\n",
      "[[\"36.588\\t39.668\\tEllie\\thi i'm ellie thanks for coming in today\", '39.888\\t43.378\\tEllie\\ti was created to talk to people in a safe and secure environment', \"43.728\\t48.498\\tEllie\\tthink of me as a friend i don't judge i can't i'm a computer\", \"49.188\\t52.388\\tEllie\\ti'm here to learn about people and would love to learn about you\", \"52.658\\t58.958\\tEllie\\ti'll ask a few questions to get us started and please feel free to tell me anything your answers are totally confidential\", '60.028\\t61.378\\tEllie\\thow are you doing today', '62.328\\t63.178\\tParticipant\\tgood', \"63.798\\t64.738\\tEllie\\tthat's good\", '65.858\\t67.528\\tEllie\\twhere are you from originally', '68.978\\t70.288\\tParticipant\\tatlanta georgia', '70.978\\t71.868\\tEllie\\treally', \"72.788\\t74.198\\tEllie\\twhy'd you move to l_a\", '75.028\\t78.128\\tParticipant\\tum my parents are from here um', '82.218\\t83.578\\tEllie\\thow do you like l_a', '83.808\\t84.588\\tParticipant\\ti love it', '85.558\\t87.898\\tEllie\\twhat are some things you really like about l_a', '88.458\\t89.968\\tParticipant\\ti like the weather', '90.278\\t93.568\\tParticipant\\ti like the opportunities', '94.738\\t95.298\\tParticipant\\tum', '96.588\\t97.278\\tParticipant\\tyes', '98.228\\t100.868\\tEllie\\thow easy was it for you to get used to living in l_a', '102.428\\t103.268\\tParticipant\\tum', '104.278\\t105.558\\tParticipant\\tit took a minute', '107.738\\t108.798\\tParticipant\\tsomewhat easy', \"110.788\\t113.168\\tEllie\\twhat are some things you don't really like about l_a\", '114.038\\t115.558\\tParticipant\\tcongestion', '119.218\\t119.978\\tEllie\\tmhm', \"120.268\\t121.158\\tParticipant\\tthat's it\", '122.828\\t123.768\\tEllie\\tokay', \"125.548\\t126.958\\tEllie\\twhat'd you study at school\", '128.488\\t132.628\\tParticipant\\tum i took up business and administration', '133.718\\t134.438\\tEllie\\tcool', '134.818\\t136.178\\tEllie\\tare you still doing that', '136.748\\t139.418\\tParticipant\\tuh yeah i am', \"139.868\\t144.548\\tParticipant\\there and there i'm on a break right now but i plan on going back in the uh next semester\", \"146.008\\t147.468\\tEllie\\twhat's your dream job\", '149.258\\t152.168\\tParticipant\\tuh probably to open up my own business', '155.698\\t156.678\\tEllie\\tawesome', '159.448\\t160.858\\tEllie\\tdo you travel a lot', '161.248\\t162.068\\tParticipant\\tno', '163.618\\t164.328\\tEllie\\twhy', '165.608\\t168.968\\tParticipant\\tum no specific reason i just', \"169.518\\t170.978\\tParticipant\\tdon't travel a lot\", \"171.308\\t172.978\\tParticipant\\ti'm pretty local\", '174.148\\t174.968\\tEllie\\tokay', '175.558\\t177.668\\tEllie\\thow often do you go back to your hometown', '178.578\\t179.918\\tParticipant\\tonce a year', '182.508\\t183.268\\tEllie\\tnice', '184.998\\t186.858\\tEllie\\tdo you consider yourself an introvert', '189.098\\t191.068\\tParticipant\\tcan you be a little bit more specific', '193.678\\t195.248\\tEllie\\twhatever comes to your mind', '196.868\\t197.998\\tParticipant\\tno answer', '199.288\\t200.088\\tEllie\\tokay', '200.818\\t202.398\\tEllie\\twhat do you do to relax', '203.318\\t206.358\\tParticipant\\ti like reading books i enjoy i enjoy cooking', '206.728\\t208.658\\tParticipant\\tum exercising is great', '211.648\\t212.618\\tEllie\\tawesome', '213.878\\t216.068\\tEllie\\thow are you at controlling your temper', \"217.728\\t219.868\\tParticipant\\ti'm i'm i'm pretty good at it\", '220.228\\t221.058\\tParticipant\\tum', '221.358\\t222.068\\tEllie\\treally', '221.358\\t222.068\\tParticipant\\tyeah', '223.708\\t227.208\\tEllie\\twhen was the last time you argued with someone and what was it about', '227.998\\t230.118\\tParticipant\\tum probably about', '231.088\\t232.368\\tParticipant\\ttwo weeks ago', '235.458\\t237.378\\tEllie\\thow did you feel in that moment', '238.298\\t240.168\\tParticipant\\tuh frustrated', '242.218\\t243.518\\tEllie\\ttell me more about that', '244.748\\t245.808\\tParticipant\\tum', \"246.338\\t247.918\\tParticipant\\ti don't like bias\", \"248.488\\t252.298\\tParticipant\\tum i don't like um when someone says they're gonna do something and they don't\", '252.938\\t253.678\\tEllie\\tmhm', '257.578\\t258.848\\tEllie\\thow close are you to them', '260.238\\t261.168\\tParticipant\\tuh somewhat', '262.748\\t263.938\\tEllie\\thow do you know them', '266.918\\t267.988\\tParticipant\\tfriendship', '269.898\\t270.658\\tEllie\\tokay', '274.918\\t276.788\\tEllie\\twhat are some things you like to do for fun', '279.618\\t285.988\\tParticipant\\ti like to play sports i enjoy uh going out with friends and family', '286.918\\t288.078\\tParticipant\\tplaying games', '288.858\\t289.678\\tEllie\\tnice', \"290.868\\t293.268\\tEllie\\twho's someone that's been a positive influence in your life\", '294.678\\t295.778\\tParticipant\\tgrandparents', '296.648\\t297.618\\tParticipant\\tparents', '298.928\\t299.668\\tEllie\\taww', '302.228\\t303.498\\tEllie\\tcan you tell me about that', \"305.218\\t309.358\\tParticipant\\tum yeah i mean they've always given me great advice\", \"310.538\\t312.208\\tParticipant\\tthey've always kept it real\", '314.148\\t316.388\\tEllie\\thow close are you to your family', '316.868\\t318.008\\tParticipant\\treal close', '322.918\\t324.388\\tEllie\\tis there anything you regret', '325.738\\t333.468\\tParticipant\\ti would say going to college right after high school', '334.268\\t335.058\\tEllie\\twhy', \"336.988\\t339.728\\tParticipant\\twell i would've been done by now you know\", '340.568\\t344.168\\tParticipant\\ti would have been probably out in the field', '344.788\\t346.068\\tParticipant\\tin the career field', '347.178\\t348.808\\tEllie\\twhat made you decide to do that', '349.998\\t351.988\\tParticipant\\tuh taking a job off the street', '354.178\\t356.448\\tEllie\\tcould you have done anything to avoid it', \"357.818\\t360.198\\tParticipant\\ti'm sure i could've yes\", \"363.928\\t366.448\\tEllie\\twhat's one of your most memorable experiences\", \"372.098\\t373.218\\tParticipant\\ti'm not sure\", '373.588\\t375.488\\tParticipant\\tmaybe when i graduated from high school', '377.588\\t378.288\\tEllie\\tyeah', \"381.848\\t383.678\\tEllie\\ti'd love to hear all about it\", '386.728\\t390.328\\tParticipant\\twell uh i um i got my diploma', '390.748\\t395.448\\tParticipant\\tmy my diploma that i finished school and i met all the requirements ', '396.628\\t397.708\\tParticipant\\thigh school', '398.588\\t399.988\\tParticipant\\tand i was approved to go', '401.208\\t402.878\\tParticipant\\tdo whatever i wanted to do', \"403.468\\t404.498\\tEllie\\tthat's great\", \"406.968\\t408.618\\tEllie\\twhat's it like for you living with them\", '409.408\\t410.428\\tParticipant\\tliving with who', '411.438\\t413.158\\tEllie\\thow do you like your living situation', \"414.148\\t416.448\\tParticipant\\tum it's alright it could be better\", '417.418\\t418.688\\tEllie\\tdo you have roommates', '417.428\\t417.858\\tParticipant\\tnot', '419.038\\t419.508\\tParticipant\\tno', \"420.608\\t421.748\\tEllie\\tthat's good\", \"426.758\\t429.278\\tEllie\\thow easy is it for you to get a good night's sleep\", \"430.858\\t432.458\\tParticipant\\tuh it's pretty easy\", '433.978\\t435.538\\tEllie\\tdo you feel that way often', '436.538\\t437.598\\tParticipant\\tuh yes', \"438.558\\t440.548\\tEllie\\twhat are you like when you don't sleep well\", '448.468\\t449.568\\tParticipant\\trepeat that', \"450.498\\t452.478\\tEllie\\twhat are you like when you don't sleep well\", '453.188\\t455.558\\tParticipant\\tirritated um', '457.348\\t458.258\\tParticipant\\tlazy', '462.288\\t463.488\\tEllie\\tdo you feel down', '463.868\\t464.468\\tParticipant\\tno', \"466.278\\t467.108\\tEllie\\tthat's good\", '468.348\\t470.378\\tEllie\\thave you been diagnosed with depression', '470.658\\t471.348\\tParticipant\\tno', '471.878\\t474.188\\tEllie\\thave you ever been diagnosed with p_t_s_d', '474.638\\t475.248\\tParticipant\\tno', '475.948\\t477.648\\tEllie\\thave you ever served in the military', '477.868\\t478.478\\tParticipant\\tno', '479.228\\t480.088\\tEllie\\tokay', '487.698\\t490.348\\tEllie\\twhen was the last time you felt really happy', '492.328\\t494.708\\tParticipant\\tum the other day', '496.448\\t497.608\\tEllie\\ttell me more about that', '499.508\\t502.038\\tParticipant\\tweather was great sun was out', '503.878\\t505.988\\tEllie\\tthat sounds like a great situation', \"507.578\\t509.258\\tEllie\\twhat do you think of today's kids\", '511.028\\t511.888\\tParticipant\\tdifferent', '515.528\\t517.188\\tEllie\\tcan you give me an example of that', '525.478\\t526.528\\tParticipant\\tless', '527.978\\t529.288\\tParticipant\\tless um', '530.038\\t531.008\\tParticipant\\tinterested', '533.118\\t534.128\\tEllie\\t[laughter]', '535.148\\t536.268\\tEllie\\ti see what you mean', \"544.928\\t546.488\\tEllie\\twhat do you do when you're annoyed\", '548.568\\t550.018\\tParticipant\\tuh shut down', '553.558\\t555.528\\tEllie\\twhen was the last time that happened', '559.768\\t562.228\\tParticipant\\tuh about two weeks ago', '564.208\\t564.818\\tEllie\\tmhm', '566.098\\t567.478\\tEllie\\tcan you tell me about that', '568.678\\t571.798\\tParticipant\\tuh yeah a friend of mine was annoying me and i just', '572.458\\t573.568\\tParticipant\\tcut them off', \"574.868\\t576.008\\tEllie\\ti'm sorry\", \"576.178\\t577.558\\tParticipant\\t[laughter] it's alright\", '579.098\\t580.348\\tEllie\\thow do you know them', '581.178\\t582.128\\tParticipant\\tfriendship', '583.928\\t584.558\\tEllie\\tcool', '589.148\\t590.918\\tEllie\\thow would your best friend describe you', '598.238\\t599.708\\tParticipant\\tchocolate', '600.608\\t601.378\\tParticipant\\ttall', '601.718\\t602.688\\tEllie\\t[laughter]', '602.738\\t603.478\\tParticipant\\tthin', '610.398\\t611.098\\tEllie\\tokay', \"614.228\\t616.878\\tEllie\\tokay i think i've asked everything i need to\", '618.308\\t619.078\\tParticipant\\tthank you', '619.488\\t620.348\\tEllie\\tgoodbye', '620.538\\t621.268\\tParticipant\\tbye bye'], [\"29.428\\t35.888\\tEllie\\thi i'm ellie thanks for coming in today i was created to talk to people in a safe and secure environment\", '32.738\\t33.068\\tParticipant\\tthank you', \"36.598\\t40.948\\tEllie\\tthink of me as a friend i don't judge i can't i'm a computer\", '42.088\\t42.518\\tParticipant\\tmmm k', \"42.358\\t51.738\\tEllie\\ti'm here to learn about people and would love to learn about you i'll ask a few questions to get us started and please feel free to tell me anything your answers are totally confidential\", '52.928\\t53.868\\tEllie\\thow are you doing today', \"54.328\\t55.758\\tParticipant\\ti'm doing good thank you\", \"55.938\\t56.378\\tEllie\\tthat's good\", '58.308\\t59.518\\tEllie\\twhere are you from originally', \"59.858\\t60.948\\tParticipant\\ti'm from los angeles\", '61.718\\t63.048\\tEllie\\treally me too', '63.538\\t64.108\\tParticipant\\toh great', '66.308\\t67.028\\tEllie\\twhere do you live', '67.388\\t69.858\\tParticipant\\ti live in west los angeles the west side', '70.828\\t71.458\\tEllie\\tnice', '72.638\\t74.168\\tEllie\\thow do you like your living situation', \"74.678\\t75.248\\tParticipant\\tit's alright\", '76.398\\t76.708\\tParticipant\\ti xxx', '76.578\\t77.738\\tEllie\\tdo you have roommates', '78.218\\t79.588\\tParticipant\\tno i live alone so', \"81.208\\t81.978\\tEllie\\tthat's great\", '83.818\\t84.878\\tEllie\\thow do you like l_a', \"85.398\\t89.468\\tParticipant\\ti love it i'm from here so i grew up here it's natural\", '90.778\\t91.168\\tEllie\\tyeah', '92.508\\t94.528\\tEllie\\twhat are some things you really like about l_a', '95.388\\t98.598\\tParticipant\\tthe weather um well the weather', \"99.728\\t107.748\\tParticipant\\tit's always good it's never it's never bad uh um there's always something to do it's rarely a dull moment\", '100.458\\t101.288\\tEllie\\t<laughter>', '108.638\\t108.998\\tEllie\\tmhm', \"109.848\\t111.858\\tEllie\\twhat are some things you don't really like about l_a\", '112.268\\t113.068\\tParticipant\\tthe traffic', '115.248\\t116.128\\tEllie\\ti see what you mean', '116.188\\t122.918\\tParticipant\\tthe traffic is horrible well probably traffic is horrible in almost any major city but i hate the traffic', '122.438\\t122.828\\tEllie\\tyeah', '125.078\\t126.068\\tEllie\\tdo you travel a lot', \"126.698\\t135.338\\tParticipant\\tnot really i mean i have enough things going on here so if i travel it's usually somewhere that's within driving distance\", '136.468\\t137.838\\tEllie\\taw okay', \"140.108\\t141.248\\tEllie\\twhat'd you study at school\", '142.168\\t144.338\\tParticipant\\ti studied uh business', '145.058\\t145.518\\tParticipant\\ti did', '145.358\\t146.308\\tEllie\\tare you still doing that', \"146.708\\t151.218\\tParticipant\\tno i've i've been done for a few years so i haven't gone to school for a while\", \"151.928\\t154.488\\tParticipant\\tone of these days i'll go back to graduate school but\", '157.378\\t158.068\\tEllie\\tawesome', \"159.118\\t160.278\\tEllie\\twhat's your dream job\", '161.458\\t166.668\\tParticipant\\tmy dream job would be to just work for myself and making lots of money um', \"168.078\\t172.408\\tParticipant\\ti don't know i don't really have a dream job just something that i can\", '173.438\\t181.178\\tParticipant\\ti can work under my own terms and get paid decently and and be in a creative creative environment', '182.638\\t182.998\\tEllie\\tmhm', '183.718\\t184.658\\tEllie\\thow hard is that', '185.978\\t186.758\\tParticipant\\tum', \"188.908\\t206.318\\tParticipant\\ti don't know i think it's just a matter of finding the right situation so right now eh it's been people are a little conservative about what they want so and how they want it so it's a little tougher than it seems <se> it should be but i don't know i think when the situation's right i don't think it's too difficult\", '207.678\\t207.988\\tEllie\\tyeah', '208.728\\t210.898\\tEllie\\tit can be tough to find a good job these days', '211.108\\t211.438\\tParticipant\\tyep', '212.028\\t212.888\\tEllie\\twhat do you do now', '213.688\\t217.938\\tParticipant\\ti work as an assistant <as> administrative assistant through a temp agency so', \"219.488\\t222.118\\tParticipant\\tit's just basically i get sent out to do uh\", '219.898\\t220.228\\tEllie\\tcool', '223.118\\t224.508\\tParticipant\\tto do desk jobs ', '225.468\\t226.448\\tEllie\\tare you happy you did that', '227.338\\t234.948\\tParticipant\\tum yes and no i mean i feel like i feel like i could do more but you know it works so ', '236.228\\t236.968\\tParticipant\\tyou know yeah', '236.568\\t236.938\\tEllie\\tokay', '239.878\\t241.418\\tEllie\\thow close are you to your family', \"242.008\\t244.708\\tParticipant\\ti'm pretty close i mean they're around so\", '249.738\\t250.268\\tEllie\\thmm', '253.958\\t256.058\\tEllie\\twhat are some things that make you really mad', '257.418\\t259.938\\tParticipant\\tum god really mad', '261.208\\t266.238\\tParticipant\\tstupid people just basically doing just doing anything to annoy me', '267.068\\t267.798\\tParticipant\\tum', \"269.098\\t278.598\\tParticipant\\tthat's basically <ba> that's the big thing just just irritating stupid people <laughter> who just do things just to provoke provoke me for no reason at all\", '279.408\\t279.778\\tEllie\\tmhm', '280.208\\t281.438\\tEllie\\tcan you give me an example of that', \"283.018\\t285.558\\tParticipant\\tum what's a good example\", \"287.098\\t295.308\\tParticipant\\tjust random people who who think it's funny to just sit there and get a rise out of me just it doesn't have to be one any specific\", \"296.338\\t312.268\\tParticipant\\tsituation it's just people who just think it's funny to i think they're just generally sadistic and they just think it's it's funny to to just prod you like it's like poking a stick at an angry dog knowing that they know how to they just wanna push your buttons for no reason so\", '313.018\\t313.338\\tEllie\\tright', '314.188\\t315.698\\tEllie\\twhen was the last time that happened', '317.728\\t321.138\\tParticipant\\tuh god', \"322.648\\t334.408\\tParticipant\\ti don't remember i with those situations i usually try not to remember <laughter> when when it happens i just i just let it go and just like the past is the past i just tend not to look back\", '335.078\\t335.908\\tEllie\\ti understand', '336.978\\t338.478\\tEllie\\tdo you consider yourself an introvert', '339.648\\t340.278\\tParticipant\\twhat do you mean', \"344.478\\t345.838\\tEllie\\tlet's come back to that later\", '345.848\\t346.248\\tParticipant\\tokay', '347.078\\t348.408\\tEllie\\twhat do you do to relax', '349.438\\t354.278\\tParticipant\\tgod what do i do to relax i like to run i like to go to the gym', \"355.648\\t362.088\\tParticipant\\tlisten to music i have a lot of musician friends so i just so i'm usually around musicians so\", '363.198\\t364.558\\tParticipant\\tanything of that sort i like', \"365.608\\t373.528\\tParticipant\\ti like everything from punk rock art to tattoos to just anything that's that's generally art and creative\", '374.458\\t375.118\\tEllie\\tawesome', \"377.488\\t379.838\\tEllie\\twho's someone that's been a positive influence in your life\", \"381.198\\t382.278\\tParticipant\\twho's been a positive <pos>\", \"384.158\\t392.208\\tParticipant\\ti think it's just friends in general who who seem to who seem to do well and i think they they're very inspiring and\", \"393.298\\t402.478\\tParticipant\\twhich is sometimes a a bit tough in in a town like los angeles where i think everybody's on the go trying to accomplish their own goals so they don't\", '402.718\\t403.098\\tEllie\\tmhm', \"403.148\\t409.858\\tParticipant\\tit's sometimes hard to find someone who's gonna be uplifting or try to be inspiring so\", \"410.938\\t416.708\\tParticipant\\ti don't really have anybody in particular but people have kind of brought up things here and there\", '418.748\\t419.318\\tEllie\\tlike what', \"420.078\\t436.018\\tParticipant\\tyou know just like hey instead of instead of doing this how about doing that or hey you're good at this why aren't you doing that or something like that just you know i'm always looking for new opportunities so they always point out things that maybe i might i could do differently\", \"436.528\\t443.208\\tParticipant\\tinstead of just being negative saying hey don't do that that's no that's why are you doing that it's a waste of time\", '444.388\\t444.738\\tEllie\\tmmm', \"445.238\\t445.748\\tEllie\\tthat's good\", '448.588\\t450.428\\tEllie\\thow are you at controlling your temper', '451.948\\t455.628\\tParticipant\\tum i guess it depends on who you talk to', '457.468\\t458.208\\tEllie\\t<laughter>', \"457.888\\t463.068\\tParticipant\\ti'm i'm okay at it i could probably work at that\", '464.048\\t464.648\\tParticipant\\tum', \"465.538\\t469.728\\tParticipant\\ti don't know i mean i can i i think i can do better at it\", '470.858\\t472.138\\tEllie\\tcan you give me an example of that', '473.298\\t484.118\\tParticipant\\twell back to the point about people provoking me so i mean i try not to blow steam and let them get under my skin so i just usually try not to let it get to me', \"484.988\\t489.698\\tParticipant\\tbut i don't know i guess with temper i guess it depends on how i handle my stress\", \"490.438\\t495.248\\tParticipant\\tlately i've been better at it just because i think my situation's been a little bit better\", \"497.098\\t497.688\\tEllie\\tthat's good\", '501.898\\t503.618\\tEllie\\thave you been diagnosed with depression', '504.238\\t504.628\\tParticipant\\tno', '505.798\\t507.738\\tEllie\\thave you ever been diagnosed with p_t_s_d', '508.218\\t508.618\\tParticipant\\tno', '509.498\\t511.028\\tEllie\\thave you ever served in the military', '511.298\\t511.628\\tParticipant\\tno', '512.738\\t513.138\\tEllie\\tokay', '515.378\\t516.408\\tEllie\\tis there anything you regret', '518.208\\t519.448\\tParticipant\\tum', '520.658\\t521.578\\tParticipant\\tnothing major', \"522.448\\t533.018\\tParticipant\\ti mean maybe when i was younger i could've traveled more or i could've worked towards something that paid better job-wise but i mean\", \"533.708\\t540.138\\tParticipant\\tthose are all things that i think at any point in life you always think like well i coulda shoulda would've done but you know\", \"541.278\\t552.838\\tParticipant\\tbut then again i think that's natural for anybody i mean i could i could've become a banker or i could've become a lawyer or a doctor and made about ten times the money that i make now but\", \"553.538\\t559.818\\tParticipant\\tbut then again i don't like the law and i don't like medicine so so i'm it wasn't meant to be so\", '560.518\\t560.828\\tEllie\\tright', \"561.808\\t563.778\\tEllie\\tthere are always trade offs in life aren't there\", '563.948\\t564.398\\tParticipant\\tyeah', '565.188\\t566.548\\tEllie\\twhat made you decide to do that', '565.218\\t565.468\\tParticipant\\tso', '567.718\\t568.748\\tParticipant\\tum i think', '569.918\\t570.658\\tParticipant\\ti think my', '571.488\\t573.608\\tParticipant\\tin my life i knew that', \"574.368\\t590.858\\tParticipant\\ti there's a lot of things i have <ha> there's more dislikes <laughter> than likes so i kinda narrowed it down to what am i good at and what am i not good at and what am i gonna work well or who who am i gonna work well with and who will i not work well with\", '591.348\\t595.318\\tParticipant\\tso i kind of i kinda sorted out and then the list kind of', '596.498\\t598.648\\tParticipant\\tmmm kind of answered itself so', '599.658\\t600.998\\tEllie\\tthat sounds really hard', \"602.078\\t616.388\\tParticipant\\tno it i don't think it was hard but it was just but i think it was a real reality check and i think it it's kind of a good thing 'cause sometimes trying to conform to doing things that doesn't really fit you doesn't make sense\", \"616.738\\t631.878\\tParticipant\\tit's like trying to shove a a round peg into a square a square hole and it's like it just no matter how you try to shove it in it's not gonna go in so sometimes it's just might as well go down a path that seems to work better for you\", '633.018\\t633.288\\tEllie\\tright', '633.918\\t634.848\\tEllie\\tthat makes sense', \"638.598\\t640.838\\tEllie\\twhat's one of your most memorable experiences\", '642.398\\t646.818\\tParticipant\\tmemorable experiences um hmm', \"650.488\\t665.948\\tParticipant\\ti think it's just i don't really have like any one in particular i think i think every day is almost like a memorable experience whether it's positive or negative i think it's just everything from getting it just just the fact that\", \"667.058\\t679.768\\tParticipant\\ti got a job and i can i can take care of myself is already almost like a memorable experience maybe for the average person it it sounds stupid but you know i think just the fact that i'm able\", \"680.588\\t688.298\\tParticipant\\ti'm able to get this far in life without like completely self-destructing is already an accomplishment so i feel like\", \"689.468\\t690.498\\tParticipant\\ti've gotten somewhere\", \"691.578\\t692.328\\tEllie\\tthat's great\", \"691.628\\t700.358\\tParticipant\\tmaybe not to not maybe not to the point to the average person they might think like well why aren't you a millionaire but you know what not everybody can be a millionaire\", '701.508\\t701.878\\tEllie\\tyeah', '703.828\\t704.628\\tEllie\\ti see what you mean', '704.798\\t705.218\\tParticipant\\tyeah', '709.968\\t712.398\\tEllie\\twhen was the last time you felt really happy', '714.098\\t715.168\\tParticipant\\tum', '716.108\\t718.408\\tParticipant\\twhen was the last time i really felt happy', '719.978\\t721.358\\tParticipant\\tum', \"722.488\\t725.798\\tParticipant\\ti don't know i'm not really someone who's like\", \"727.038\\t732.338\\tParticipant\\ti don't have any real high highs or low lows i mean i haven't hit any lows so i mean i\", \"733.908\\t742.868\\tParticipant\\ti don't know i'm usually pretty i feel like i'm a level person and i'm pretty happy <ha> every day i feel like if i accomplish one thing then i'm pretty happy so\", '743.548\\t745.318\\tParticipant\\ti guess to answer the question probably', \"746.718\\t753.888\\tParticipant\\tmmm probably yesterday i just feel like if i if i'm able to accomplish something then then hey i'm happy\", \"755.188\\t755.978\\tEllie\\tthat's great\", '757.798\\t759.348\\tEllie\\thow would your best friend describe you', \"760.978\\t766.638\\tParticipant\\ti don't know i don't really have a best friend but i mean i well to answer the question generally friends\", \"767.758\\t771.618\\tParticipant\\ti think they would say that i'm very <ver> pretty outgoing i'm pretty\", '772.648\\t773.438\\tParticipant\\tdetermined', \"774.748\\t782.358\\tParticipant\\ti'm trying you know i try to you know i try to interact as much as possible i'm always out networking as much as possible\", '783.178\\t783.648\\tParticipant\\tso', \"784.788\\t790.018\\tParticipant\\ti don't know i guess that's basically what i think they would describe me as\", '791.338\\t791.848\\tEllie\\tokay', \"795.508\\t797.868\\tEllie\\tokay i think i've asked everything i need to\", '797.918\\t798.338\\tParticipant\\tokay', '799.208\\t800.658\\tEllie\\tthanks for sharing your thoughts with me', '800.678\\t801.278\\tParticipant\\tno problem', '801.828\\t802.358\\tEllie\\tgoodbye', '802.388\\t802.828\\tParticipant\\talright', '803.458\\t803.828\\tParticipant\\tbye']] \n",
      "\n",
      "After preprocessing: \n",
      "\n",
      "[['ellie hi im ellie thanks for coming in today', 'ellie i was created to talk to people in a safe and secure environment', 'ellie think of me as a friend i dont judge i cant im a computer', 'ellie im here to learn about people and would love to learn about you', 'ellie ill ask a few questions to get us started and please feel free to tell me anything your answers are totally confidential', 'ellie how are you doing today', 'participant good', 'ellie thats good', 'ellie where are you from originally', 'participant atlanta georgia', 'ellie really', 'ellie whyd you move to la', 'participant  my parents are from here ', 'ellie how do you like la', 'participant i love it', 'ellie what are some things you really like about la', 'participant i like the weather', 'participant i like the opportunities', 'participant ', 'participant yes', 'ellie how easy was it for you to get used to living in la', 'participant ', 'participant it took a minute', 'participant somewhat easy', 'ellie what are some things you dont really like about la', 'participant congestion', 'ellie hmm', 'participant thats it', 'ellie okay', 'ellie whatd you study at school', 'participant  i took up business and administration', 'ellie cool', 'ellie are you still doing that', 'participant  yeah i am', 'participant here and there im on a break right now but i plan on going back in the  next semester', 'ellie whats your dream job', 'participant  probably to open up my own business', 'ellie awesome', 'ellie do you travel a lot', 'participant no', 'ellie why', 'participant  no specific reason i just', 'participant dont travel a lot', 'participant im pretty local', 'ellie okay', 'ellie how often do you go back to your hometown', 'participant once a year', 'ellie nice', 'ellie do you consider yourself an introvert', 'participant can you be a little bit more specific', 'ellie whatever comes to your mind', 'participant no answer', 'ellie okay', 'ellie what do you do to relax', 'participant i like reading books i enjoy i enjoy cooking', 'participant  exercising is great', 'ellie awesome', 'ellie how are you at controlling your temper', 'participant im im im pretty good at it', 'participant ', 'ellie really', 'participant yeah', 'ellie when was the last time you argued with someone and what was it about', 'participant  probably about', 'participant two weeks ago', 'ellie how did you feel in that moment', 'participant  frustrated', 'ellie tell me more about that', 'participant ', 'participant i dont like bias', 'participant  i dont like  when someone says theyre gonna do something and they dont', 'ellie hmm', 'ellie how close are you to them', 'participant  somewhat', 'ellie how do you know them', 'participant friendship', 'ellie okay', 'ellie what are some things you like to do for fun', 'participant i like to play sports i enjoy  going out with friends and family', 'participant playing games', 'ellie nice', 'ellie whos someone thats been a positive influence in your life', 'participant grandparents', 'participant parents', 'ellie aww', 'ellie can you tell me about that', 'participant  yeah i mean theyve always given me great advice', 'participant theyve always kept it real', 'ellie how close are you to your family', 'participant real close', 'ellie is there anything you regret', 'participant i would say going to college right after high school', 'ellie why', 'participant well i wouldve been done by now you know', 'participant i would have been probably out in the field', 'participant in the career field', 'ellie what made you decide to do that', 'participant  taking a job off the street', 'ellie could you have done anything to avoid it', 'participant im sure i couldve yes', 'ellie whats one of your most memorable experiences', 'participant im not sure', 'participant maybe when i graduated from high school', 'ellie yeah', 'ellie id love to hear all about it', 'participant well  i  i got my diploma', 'participant my my diploma that i finished school and i met all the requirements', 'participant high school', 'participant and i was approved to go', 'participant do whatever i wanted to do', 'ellie thats great', 'ellie whats it like for you living with them', 'participant living with who', 'ellie how do you like your living situation', 'participant  its alright it could be better', 'ellie do you have roommates', 'participant not', 'participant no', 'ellie thats good', 'ellie how easy is it for you to get a good nights sleep', 'participant  its pretty easy', 'ellie do you feel that way often', 'participant  yes', 'ellie what are you like when you dont sleep well', 'participant repeat that', 'ellie what are you like when you dont sleep well', 'participant irritated ', 'participant lazy', 'ellie do you feel down', 'participant no', 'ellie thats good', 'ellie have you been diagnosed with depression', 'participant no', 'ellie have you ever been diagnosed with ptsd', 'participant no', 'ellie have you ever served in the military', 'participant no', 'ellie okay', 'ellie when was the last time you felt really happy', 'participant  the other day', 'ellie tell me more about that', 'participant weather was great sun was out', 'ellie that sounds like a great situation', 'ellie what do you think of todays kids', 'participant different', 'ellie can you give me an example of that', 'participant less', 'participant less ', 'participant interested', 'ellie haha', 'ellie i see what you mean', 'ellie what do you do when youre annoyed', 'participant  shut down', 'ellie when was the last time that happened', 'participant  about two weeks ago', 'ellie hmm', 'ellie can you tell me about that', 'participant  yeah a friend of mine was annoying me and i just', 'participant cut them off', 'ellie im sorry', 'participant haha its alright', 'ellie how do you know them', 'participant friendship', 'ellie cool', 'ellie how would your best friend describe you', 'participant chocolate', 'participant tall', 'ellie haha', 'participant thin', 'ellie okay', 'ellie okay i think ive asked everything i need to', 'participant thank you', 'ellie goodbye', 'participant bye bye'], ['ellie hi im ellie thanks for coming in today i was created to talk to people in a safe and secure environment', 'participant thank you', 'ellie think of me as a friend i dont judge i cant im a computer', 'participant hmm k', 'ellie im here to learn about people and would love to learn about you ill ask a few questions to get us started and please feel free to tell me anything your answers are totally confidential', 'ellie how are you doing today', 'participant im doing good thank you', 'ellie thats good', 'ellie where are you from originally', 'participant im from los angeles', 'ellie really me too', 'participant oh great', 'ellie where do you live', 'participant i live in west los angeles the west side', 'ellie nice', 'ellie how do you like your living situation', 'participant its alright', 'participant i xxx', 'ellie do you have roommates', 'participant no i live alone so', 'ellie thats great', 'ellie how do you like la', 'participant i love it im from here so i grew up here its natural', 'ellie yeah', 'ellie what are some things you really like about la', 'participant the weather  well the weather', 'participant its always good its never its never bad   theres always something to do its rarely a dull moment', 'ellie haha', 'ellie hmm', 'ellie what are some things you dont really like about la', 'participant the traffic', 'ellie i see what you mean', 'participant the traffic is horrible well probably traffic is horrible in almost any major city but i hate the traffic', 'ellie yeah', 'ellie do you travel a lot', 'participant not really i mean i have enough things going on here so if i travel its usually somewhere thats within driving distance', 'ellie aw okay', 'ellie whatd you study at school', 'participant i studied  business', 'participant i did', 'ellie are you still doing that', 'participant no ive ive been done for a few years so i havent gone to school for a while', 'participant one of these days ill go back to graduate school but', 'ellie awesome', 'ellie whats your dream job', 'participant my dream job would be to just work for myself and making lots of money ', 'participant i dont know i dont really have a dream job just something that i can', 'participant i can work under my own terms and get paid decently and and be in a creative creative environment', 'ellie hmm', 'ellie how hard is that', 'participant ', 'participant i dont know i think its just a matter of finding the right situation so right now eh its been people are a little conservative about what they want so and how they want it so its a little tougher than it seems se it should be but i dont know i think when the situations right i dont think its too difficult', 'ellie yeah', 'ellie it can be tough to find a good job these days', 'participant yep', 'ellie what do you do now', 'participant i work as an assistant as administrative assistant through a temp agency so', 'participant its just basically i get sent out to do ', 'ellie cool', 'participant to do desk jobs', 'ellie are you happy you did that', 'participant  yes and no i mean i feel like i feel like i could do more but you know it works so', 'participant you know yeah', 'ellie okay', 'ellie how close are you to your family', 'participant im pretty close i mean theyre around so', 'ellie hmm', 'ellie what are some things that make you really mad', 'participant  god really mad', 'participant stupid people just basically doing just doing anything to annoy me', 'participant ', 'participant thats basically ba thats the big thing just just irritating stupid people haha who just do things just to provoke provoke me for no reason at all', 'ellie hmm', 'ellie can you give me an example of that', 'participant  whats a good example', 'participant just random people who who think its funny to just sit there and get a rise out of me just it doesnt have to be one any specific', 'participant situation its just people who just think its funny to i think theyre just generally sadistic and they just think its its funny to to just prod you like its like poking a stick at an angry dog knowing that they know how to they just wanna push your buttons for no reason so', 'ellie right', 'ellie when was the last time that happened', 'participant  god', 'participant i dont remember i with those situations i usually try not to remember haha when when it happens i just i just let it go and just like the past is the past i just tend not to look back', 'ellie i understand', 'ellie do you consider yourself an introvert', 'participant what do you mean', 'ellie lets come back to that later', 'participant okay', 'ellie what do you do to relax', 'participant god what do i do to relax i like to run i like to go to the gym', 'participant listen to music i have a lot of musician friends so i just so im usually around musicians so', 'participant anything of that sort i like', 'participant i like everything from punk rock art to tattoos to just anything thats thats generally art and creative', 'ellie awesome', 'ellie whos someone thats been a positive influence in your life', 'participant whos been a positive pos', 'participant i think its just friends in general who who seem to who seem to do well and i think they theyre very inspiring and', 'participant which is sometimes a a bit tough in in a town like los angeles where i think everybodys on the go trying to accomplish their own goals so they dont', 'ellie hmm', 'participant its sometimes hard to find someone whos gonna be uplifting or try to be inspiring so', 'participant i dont really have anybody in particular but people have kind of brought up things here and there', 'ellie like what', 'participant you know just like hey instead of instead of doing this how about doing that or hey youre good at this why arent you doing that or something like that just you know im always looking for new opportunities so they always point out things that maybe i might i could do differently', 'participant instead of just being negative saying hey dont do that thats no thats why are you doing that its a waste of time', 'ellie hmm', 'ellie thats good', 'ellie how are you at controlling your temper', 'participant  i guess it depends on who you talk to', 'ellie haha', 'participant im im okay at it i could probably work at that', 'participant ', 'participant i dont know i mean i can i i think i can do better at it', 'ellie can you give me an example of that', 'participant well back to the point about people provoking me so i mean i try not to blow steam and let them get under my skin so i just usually try not to let it get to me', 'participant but i dont know i guess with temper i guess it depends on how i handle my stress', 'participant lately ive been better at it just because i think my situations been a little bit better', 'ellie thats good', 'ellie have you been diagnosed with depression', 'participant no', 'ellie have you ever been diagnosed with ptsd', 'participant no', 'ellie have you ever served in the military', 'participant no', 'ellie okay', 'ellie is there anything you regret', 'participant ', 'participant nothing major', 'participant i mean maybe when i was younger i couldve traveled more or i couldve worked towards something that paid better jobwise but i mean', 'participant those are all things that i think at any point in life you always think like well i coulda shoulda wouldve done but you know', 'participant but then again i think thats natural for anybody i mean i could i couldve become a banker or i couldve become a lawyer or a doctor and made about ten times the money that i make now but', 'participant but then again i dont like the law and i dont like medicine so so im it wasnt meant to be so', 'ellie right', 'ellie there are always trade offs in life arent there', 'participant yeah', 'ellie what made you decide to do that', 'participant so', 'participant  i think', 'participant i think my', 'participant in my life i knew that', 'participant i theres a lot of things i have ha theres more dislikes haha than likes so i kinda narrowed it down to what am i good at and what am i not good at and what am i gonna work well or who who am i gonna work well with and who will i not work well with', 'participant so i kind of i kinda sorted out and then the list kind of', 'participant hmm kind of answered itself so', 'ellie that sounds really hard', 'participant no it i dont think it was hard but it was just but i think it was a real reality check and i think it its kind of a good thing cause sometimes trying to conform to doing things that doesnt really fit you doesnt make sense', 'participant its like trying to shove a a round peg into a square a square hole and its like it just no matter how you try to shove it in its not gonna go in so sometimes its just might as well go down a path that seems to work better for you', 'ellie right', 'ellie that makes sense', 'ellie whats one of your most memorable experiences', 'participant memorable experiences  hmm', 'participant i think its just i dont really have like any one in particular i think i think every day is almost like a memorable experience whether its positive or negative i think its just everything from getting it just just the fact that', 'participant i got a job and i can i can take care of myself is already almost like a memorable experience maybe for the average person it it sounds stupid but you know i think just the fact that im able', 'participant im able to get this far in life without like completely selfdestructing is already an accomplishment so i feel like', 'participant ive gotten somewhere', 'ellie thats great', 'participant maybe not to not maybe not to the point to the average person they might think like well why arent you a millionaire but you know what not everybody can be a millionaire', 'ellie yeah', 'ellie i see what you mean', 'participant yeah', 'ellie when was the last time you felt really happy', 'participant ', 'participant when was the last time i really felt happy', 'participant ', 'participant i dont know im not really someone whos like', 'participant i dont have any real high highs or low lows i mean i havent hit any lows so i mean i', 'participant i dont know im usually pretty i feel like im a level person and im pretty happy ha every day i feel like if i accomplish one thing then im pretty happy so', 'participant i guess to answer the question probably', 'participant hmm probably yesterday i just feel like if i if im able to accomplish something then then hey im happy', 'ellie thats great', 'ellie how would your best friend describe you', 'participant i dont know i dont really have a best friend but i mean i well to answer the question generally friends', 'participant i think they would say that im very ver pretty outgoing im pretty', 'participant determined', 'participant im trying you know i try to you know i try to interact as much as possible im always out networking as much as possible', 'participant so', 'participant i dont know i guess thats basically what i think they would describe me as', 'ellie okay', 'ellie okay i think ive asked everything i need to', 'participant okay', 'ellie thanks for sharing your thoughts with me', 'participant no problem', 'ellie goodbye', 'participant alright', 'participant bye']] \n",
      "\n"
     ]
    }
   ],
   "source": [
    "#Preprocessing training data pt.1\n",
    "preprocessed_data=preprocess(dialog_data)\n",
    "print(\"Before preprocessing: \\n\")\n",
    "print(dialog_data[:2],\"\\n\")\n",
    "print(\"After preprocessing: \\n\")\n",
    "print(preprocessed_data[:2],\"\\n\")"
   ]
  },
  {
   "cell_type": "code",
   "execution_count": 7,
   "metadata": {},
   "outputs": [
    {
     "name": "stdout",
     "output_type": "stream",
     "text": [
      "Before preprocessing: \n",
      "\n",
      "[['98.805\\t99.715\\tParticipant\\t<synch>', \"119.622\\t141.162\\tEllie\\tIntroV4Confirmation (hi i'm ellie thanks for coming in today i was created to talk to people in a safe and secure environment i'm not a therapist but i'm here to learn about people and would love to learn about you i'll ask a few questions to get us started and please feel free to tell me anything your answers are totally confidential are you ok with this)\", '141.312\\t141.692\\tParticipant\\tyes', '142.539\\t142.999\\tEllie\\tokay_confirm (okay)', '145.897\\t148.167\\tEllie\\thow_doingV (so how are you doing today)', '148.737\\t149.997\\tParticipant\\tgood how are you', \"151.052\\t152.562\\tEllie\\tgreat_thanks (i'm great thanks)\", '154.649\\t155.969\\tEllie\\twhere_originally (where are you from originally)', '156.784\\t158.824\\tParticipant\\ti am from los angeles', '159.419\\t160.009\\tEllie\\treally (really)', '161.139\\t161.559\\tParticipant\\tyes', '162.719\\t164.829\\tEllie\\tlike_about_LA (what are some things you really like about l_a)', '165.529\\t166.279\\tParticipant\\tum', \"167.061\\t175.281\\tParticipant\\tit's uh center of everything eh you can get to all the places you need to go to uh eh without having to drive very far\", '175.791\\t177.956\\tParticipant\\tum i like being in the city', '180.737\\t181.247\\tEllie\\tmhm (mhm)', \"182.212\\t184.562\\tEllie\\tdont_like_LA (what are some things you don't really like about l_a)\", '185.261\\t185.611\\tParticipant\\twell', \"186.171\\t190.566\\tParticipant\\tbeing in l_a also you're dealing with traffic a lot of congestion\", '191.023\\t197.638\\tParticipant\\tand um obviously uh the environment as far as uh the air quality is not that great', '198.21\\t198.5\\tParticipant\\tbut', '198.476\\t199.006\\tEllie\\tyeah2 (yeah)', '199.035\\t199.945\\tParticipant\\tyou know you live with that', '200.942\\t201.972\\tEllie\\tsee_mean (i see what you mean)', '203.862\\t205.002\\tEllie\\tstudy (what did you study at school)', '205.715\\t211.585\\tParticipant\\tum i was a business administration major so i studied business and um', '212.26\\t214.6\\tParticipant\\tafter i finished college i um', '215.355\\t218.235\\tParticipant\\tuh pursued a career in retail operations', '219.706\\t220.736\\tEllie\\tstill_doing_X (are you still doing that)', '221.055\\t225.73\\tParticipant\\tuh no i as a matter of fact i am not i kinda changed career', \"226.337\\t234.027\\tParticipant\\tuh over the last four or five years so i'm concentrating more on the human resources side of the business\", '235.315\\t236.745\\tEllie\\tchange_directions (what made you decide to do that)', '237.617\\t244.427\\tParticipant\\tum a couple of factors um i after working numerous years in the retail business', '244.907\\t255.362\\tParticipant\\ti um switched over and worked in a uh creative business which was a graphic design firm and i uh captured a knowledge <knowl> a lot of knowledge um', '255.785\\t263.835\\tParticipant\\tin the a in the human resources side because i was the operations manager slash benefits manager for a a small company', '265.076\\t266.076\\tEllie\\thappy_didthat (are you happy you did that)', \"266.605\\t272.065\\tParticipant\\tyes i'm very happy i did that um i picked up on lot of knowledge and uh\", \"272.795\\t273.925\\tParticipant\\tand it's very helpful\", \"275.068\\t275.968\\tEllie\\tthats_great (that's great)\", \"278.754\\t284.882\\tEllie\\tjob_virtually (i love my job you could almost say it's virtually made for me what's your dream job)\", '282.75\\t283.01\\tParticipant\\t<laughter>', '285.08\\t287.67\\tParticipant\\twell my dream job is um', \"289.38\\t293.23\\tParticipant\\ti'm basically kinda doing what i wanna do now because i am a uh\", '293.987\\t303.297\\tParticipant\\tindependent contractor i do freelance work as an h_r consultant using all the knowledge that i uh gained from previous jobs', '303.787\\t313.507\\tParticipant\\tand um i utilize that with the flexibility to do the things i wanna do as far as personally and have the time i need to to do the things i wanna do', '313.985\\t324.195\\tParticipant\\tand um obviously i worked hard early part of my career so the financial aspect of uh my retirement is already set in place so', \"325.08\\t335\\tParticipant\\ti do what i need to do as far as um maintaining a certain lifestyle but also i have i also enjoy what i do i'm not under as much stress as i used to be\", '335.966\\t337.846\\tEllie\\tgreat_situation (that sounds like a great situation)', '341.123\\t345.548\\tEllie\\tshyoutgoing (do you consider yourself more shy or outgoing)', '344.605\\t345.275\\tParticipant\\tmm', \"345.732\\t346.182\\tParticipant\\ti'm not\", \"346.944\\t352.824\\tParticipant\\twell i'm not totally outgoing but um i'm not i'm not extremely shy i'm\", \"353.485\\t358.84\\tParticipant\\tprobably right in the middle maybe more towards outgoing but i'm not totally outgoing i mean\", \"359.75\\t367.3\\tParticipant\\twhen i'm around other people i am uh in a social situation i i guess you could consider me an outgoing person but um\", '367.73\\t372.28\\tParticipant\\tobviously i do have my own little uh private issues that i keep to myself', '373.124\\t374.284\\tEllie\\ttell_about_that (can you tell me about that)', '375.125\\t377.225\\tParticipant\\toh sure you know i have um', '379.285\\t384.945\\tParticipant\\tuh couple years ago i had a heart attack and i had to have bypass operation and it had to', '384.547\\t385.227\\tEllie\\tEllie17Dec2012_06 (wow)', \"385.375\\t392.535\\tParticipant\\tyeah it had to do with stress and things like that i don't talk about that much other than those around me that are close to me\", \"393.02\\t401.58\\tParticipant\\tum if i meet someone new i don't just openly say well you know i've experienced this this and this so i just basically um\", \"402.115\\t409.085\\tParticipant\\tif it comes up i won't deny it or if it comes up and if it's if it i feel like it's something to talk about i will talk about it\", '410.721\\t411.181\\tEllie\\tokay_confirm (okay)', \"412.399\\t424.178\\tEllie\\trelax_fishtank (sometimes when i'm feeling tense i turn on the fish tank screensaver hey i know it's not hawaii but it's the best i've got what do you do to relax)\", '424.5\\t425.89\\tParticipant\\tactually um', \"426.605\\t430.175\\tParticipant\\tmy relaxation is um i'm currently um\", \"430.915\\t444.1\\tParticipant\\tliving with my mom my mother and uh she's a senior citizen and she's alone um so what i do for uh relaxation or to relieve stress is i actually help <he> help her do yard work\", \"444.49\\t450.53\\tParticipant\\ttake care of all the gardening and things like that and that's actually very uh therapeutic you know\", '452.15\\t452.83\\tEllie\\taw (aw)', '455.052\\t457.112\\tEllie\\tcontrol_temper (how are you at controlling your temper)', \"457.99\\t459.61\\tParticipant\\tum i'm not um\", \"460.39\\t461.31\\tParticipant\\ti'm not a\", \"462.31\\t469.645\\tParticipant\\tshort-fused kinda person it takes a lot to get me really angry so as far as um my temper's concerned\", \"470.412\\t472.232\\tParticipant\\tthere's not there's not much to that\", '473.785\\t476.835\\tEllie\\tlast_argument (when was the last time you argued with someone and what was it about)', '478.65\\t480.05\\tParticipant\\tum', \"481.125\\t492.09\\tParticipant\\ti'm trying to think here <sigh> i can't recall when the last time it was but it was probably last year sometime when i um had a creditor that i was dealing with um\", '492.6\\t495.11\\tParticipant\\tbeing very difficult to work with um', '495.63\\t503.59\\tParticipant\\tand i owed money as far as um some medical expenses that were incurred when i had my heart attack a few years ago and uh', \"504.06\\t511.24\\tParticipant\\tthey weren't very understanding of the situation and i uh i really got a little upset about that because\", \"511.865\\t521.17\\tParticipant\\tum i felt like i was being honest with them and i was i was more than willing to take care of my issues but uh they were playing hardball and i didn't care for that\", '521.73\\t522.26\\tEllie\\tyeah2 (yeah)', '525.253\\t526.093\\tEllie\\tthat_sucks (that sucks)', '526.565\\t528.105\\tParticipant\\tit does <laughter>', \"528.303\\t531.983\\tEllie\\thard_decisionB (tell me about the hardest decision you've ever had to make)\", '532.915\\t537.535\\tParticipant\\tprobably the hardest xxx decision i ever had to make was um', '539.08\\t546.455\\tParticipant\\tit had to do with a life and death situation with my my stepfather who was battling uh prostate cancer and', '547.052\\t559.685\\tParticipant\\tyeah uh making a decision with my mother whether to proceed with a procedure that was gonna either um help him or there was a slight chance it was gonna help him even though he was pretty terminal at that point', '560.17\\t562.3\\tParticipant\\tor it would it would kill him you know', '562.835\\t569.94\\tParticipant\\tum and that was really tough it was really tough decision to make but uh uh you know i', \"570.695\\t582.725\\tParticipant\\ti felt like if i didn't try and see if we could save his life <l> help save his life or if it we didn't take a chance and and take that extra step that i would regret it in the long run\", '583.702\\t584.142\\tEllie\\tyeah_downer (yeah)', '586.329\\t587.679\\tEllie\\tbeen_hard (that sounds really hard)', '587.91\\t588.5\\tParticipant\\tit is', '589.22\\t589.89\\tParticipant\\tit was', '589.973\\t592.675\\tEllie\\tfamily_relationship (tell me about your relationship with your family)', '593.025\\t593.515\\tParticipant\\tum', \"594.01\\t604.32\\tParticipant\\twell right now um i'm separated from my wife so uh she has her issues i have my issues but we are not divorced we're just separated\", \"604.825\\t610.315\\tParticipant\\tand um we still have a relationship where we still speak to each other we just don't live together\", \"611.555\\t618.355\\tParticipant\\tand the relationship with my mother's really great you know um she's very understanding i'm an only child so\", \"618.912\\t625.912\\tParticipant\\tshe likes having me around which is good because she's in her late she's in her later stage of her life she's eighty two years old\", '626.157\\t626.727\\tEllie\\twow (wow)', '626.522\\t626.762\\tParticipant\\tand', '627.097\\t628.777\\tParticipant\\tand so she needs to', \"629.622\\t637.132\\tParticipant\\tuh i guess it's good that in in in it's own way maybe fate has taken place because you know eh\", \"637.615\\t648.562\\tParticipant\\tsomeone eighty two years old by themselves in a huge house is not a good thing but with me there i think she feels <fe> there's a comfort level she feels with me there especially being her only child\", '649.596\\t650.036\\tEllie\\tyeah_downer (yeah)', \"652.463\\t654.484\\tEllie\\tfeelguilty (what's something you feel guilty about)\", '656.1\\t662.83\\tParticipant\\tprobably the most guilty i feel about anything are are the things that i did to hurt my marriage', '663.21\\t665.49\\tParticipant\\tum as far as um', '666.845\\t675.555\\tParticipant\\tthe things that i did the selfish things that i did when i was much younger that um obviously affected the relationship between myself and my wife', '676.628\\t677.958\\tEllie\\tgive_example (can you give me an example of that)', '678.645\\t680.435\\tParticipant\\tuh yeah i um', '681.73\\t684.9\\tParticipant\\tgot caught up in a situation where', '685.525\\t696.535\\tParticipant\\tum i was working tremendous amounts of hours under a lotta stress my wife was also working a lotta hours in a job that she had and uh we were growing apart', '696.995\\t704.445\\tParticipant\\tand um when she was away my form of release was to go uh to the casinos and gamble and so', '705.08\\t709.62\\tParticipant\\tyou know i spent a lot of time in in the casinos and what eventually happened was i spent a lot of money', '710.175\\t715.145\\tParticipant\\tand obviously that was a major issue regarding our relationship', '715.85\\t718.05\\tParticipant\\thad to do with trust because um', '719.67\\t721.39\\tParticipant\\tit it was devastating to my wife', '722.312\\t722.752\\tEllie\\tyeah_downer (yeah)', '723.574\\t725.114\\tEllie\\tdescribe_felt (how did you feel in that moment)', '726.25\\t729.24\\tParticipant\\ti felt uh when <whe> when it when it came to light', '729.745\\t731.565\\tParticipant\\tum i felt very guilty', '732.37\\t735.28\\tParticipant\\tand i felt less than a human being at that point in my life', \"736.641\\t737.381\\tEllie\\tim_sorry (i'm sorry)\", '739.034\\t741.074\\tEllie\\tptsd_diagnosed (have you ever been diagnosed with p_t_s_d)', '742.245\\t743.575\\tParticipant\\tno not at all', '744.124\\t745.934\\tEllie\\tdepression_diagnosed (have you been diagnosed with depression)', '746.6\\t748.2\\tParticipant\\tno not really no', \"749.251\\t751.691\\tEllie\\teasy_sleep (how easy is it for you to get a good night's sleep)\", \"752.555\\t757.47\\tParticipant\\ti don't have problems sleeping that's i i don't ever recall having any problem sleeping so no\", \"758.565\\t759.205\\tEllie\\tthats_good (that's good)\", '760.489\\t761.889\\tEllie\\tfeel_down (do you feel down)', '762.357\\t762.707\\tParticipant\\tno', '763.352\\t763.922\\tParticipant\\tnot at all', '765.316\\t768.486\\tEllie\\tbehavior_changes (have you noticed any changes in your behavior or thoughts lately)', '769.36\\t773.66\\tParticipant\\tno uh i well i just <deep breath> the only thing i could say is um', '774.875\\t777.545\\tParticipant\\tafter i had my heart attack a few years ago', \"778.015\\t785.97\\tParticipant\\tum i don't let i find myself not letting the small details or small things in life bother me as much as they did before\", '786.425\\t791.315\\tParticipant\\tso i tend to be a little bit more easygoing and my friends and family have noticed that', \"793.484\\t794.384\\tEllie\\tthats_great (that's great)\", '796.177\\t799.902\\tEllie\\thappy_lasttime (tell me about the last time you felt really happy)', '800.86\\t802.81\\tParticipant\\tthe last time i felt really happy', '805.475\\t806.275\\tParticipant\\tum', '808.365\\t809.735\\tParticipant\\tprobably when', '810.805\\t815.245\\tParticipant\\ti had a visit with my cardiologist after my heart attack', '815.895\\t816.915\\tParticipant\\tand um', '817.605\\t825.245\\tParticipant\\the basically said to me that after many tests and many uh months of uh rehabilitation that', '825.755\\t829.175\\tParticipant\\the was happy to explain to me that there was no scar tissue', '829.625\\t834.377\\tParticipant\\tno major scar tissue that had occurred with my heart because of my heart heart attack', '834.932\\t842.582\\tParticipant\\tand that um i could count on living a pretty much normal life as long as i watched my diet and took my medications', \"843.341\\t844.701\\tEllie\\tgood_hear (that's so good to hear)\", '847.791\\t850.666\\tEllie\\tself_change (what are some things you wish you could change about yourself)', '852.25\\t854.91\\tParticipant\\twell i guess number one thing is uh', '856.235\\t859.435\\tParticipant\\tmy physical being itself', '859.845\\t863.105\\tParticipant\\ti like to be a little bit more healthier lose some more weight', '863.675\\t864.255\\tParticipant\\tum', '864.625\\t867.625\\tParticipant\\tjust in general just be more healthier physically', '868.215\\t871.495\\tParticipant\\tand as far as mentally um just not', '872.24\\t879.59\\tParticipant\\tgo back to those ways of thinking where i was doing the wrong things instead of the right things and not to be so selfish', '881.828\\t882.938\\tEllie\\tsymptoms_cope (how do you cope with them)', '885.105\\t886.245\\tParticipant\\tjust one day at a time', '886.975\\t888.645\\tParticipant\\tyou know i just uh', '889.32\\t895.27\\tParticipant\\ttry to be at peace with my myself and try to have some peace of mind on a daily basis', '895.85\\t905.84\\tParticipant\\ti meditate i read you know i read some books i watch t_v i i do things that i know that um if i can i if i can help myself', '906.235\\t907.695\\tParticipant\\ti do things to help myself', '908.903\\t909.373\\tEllie\\tmm (mm)', '910.932\\t912.002\\tEllie\\tregret (is there anything you regret)', \"914.095\\t917.505\\tParticipant\\twell there's a lot that i regret obviously in my marriage\", '918.11\\t925.45\\tParticipant\\tuh my uh working career as far as i had a long career with this majors uh food chain and', '925.91\\t932.355\\tParticipant\\tand i basically because of my gambling issues i ended up ruining a a very good career but', '932.962\\t933.612\\tParticipant\\tum', \"934.904\\t939.304\\tParticipant\\tat this point right now there's not much i can do i can't change what's been done\", \"939.807\\t942.617\\tParticipant\\tso i don't focus too much on the past\", \"943.217\\t947.397\\tParticipant\\ti just look at what's in front of me and just focus on what's in front of me eh every day\", '948.043\\t948.483\\tEllie\\tyeah_downer (yeah)', '950.431\\t953.381\\tEllie\\tadvice_back (what advice would you give to yourself ten or twenty years ago)', \"954.687\\t959.307\\tParticipant\\twhat advice <laughter> wake up and see <s> and see what you're doing\", '959.892\\t963.952\\tParticipant\\tto yourself and you know make the changes that need to be changed', \"964.412\\t967.742\\tParticipant\\tum you know <kno> uh you know i'm not a uh\", \"968.932\\t975.922\\tParticipant\\ti'm not someone that's not intelligent but i was intelligent enough to know what's right from wrong and um\", '976.302\\t979.112\\tParticipant\\tscrubbed_entry', \"979.827\\t984.007\\tParticipant\\tyou're what you're doing is wrong you need to change your behavior immediately\", '984.474\\t984.944\\tEllie\\tuh_huh (uh huh)', '988.52\\t990.82\\tEllie\\tEllie17Dec2012_08 (what are you most proud of in your life)', '992.172\\t993.032\\tParticipant\\tprobably', \"996.482\\t1000.532\\tParticipant\\tthe proud <pro> what i'm proud about overall is the fact that\", \"1001.027\\t1008.992\\tParticipant\\tum i did all these awful things but deep down i don't think as a person i'm a bad person i have to remember that\", '1009.457\\t1017.837\\tParticipant\\tum when i was caught up in all the gambling and compulsive behavior it was because i had an illness a compulsive', '1018.705\\t1025.905\\tParticipant\\tuh obsessive compulsive behavior that made me ill and um that i was a sick person just trying to become healthy', \"1026.515\\t1030.882\\tParticipant\\tand every day that's what my life is about it's about recovery and uh\", '1031.427\\t1038.217\\tParticipant\\tjust making sure that uh i do the right things from the time i wake up in the morning to the time i go to sleep at night', '1039.302\\t1040.232\\tParticipant\\tone day at a time', '1041\\t1041.47\\tEllie\\tyeah3 (yeah)', '1042.102\\t1043.042\\tEllie\\tdifficult (how hard is that)', \"1044.287\\t1049.007\\tParticipant\\tit's not as hard as you think it's but it is a process where\", '1049.627\\t1053.797\\tParticipant\\tyou need to be diligent about your behavior and your routines', \"1054.202\\t1064.642\\tParticipant\\tand um just know that what's not right for you you know it could be okay for other people to do certain things but i cannot do those things anymore\", '1065.635\\t1066.145\\tEllie\\tmhm (mhm)', '1067.137\\t1068.827\\tEllie\\tBF_describe (how would your best friend describe you)', '1069.8\\t1073.1\\tParticipant\\tum most of my best friends can uh describe me as probably', '1073.985\\t1076.295\\tParticipant\\teasygoing generous', '1076.865\\t1079.165\\tParticipant\\tum a nice person to be around', '1079.68\\t1080.65\\tParticipant\\tand um', '1081.73\\t1082.14\\tParticipant\\tyou know', '1083.365\\t1087.755\\tParticipant\\tthey were obviously a little shocked when they found out of all my issues', '1088.295\\t1090.855\\tParticipant\\tuh related to the gambling and the', \"1091.515\\t1097.035\\tParticipant\\tmy and the break-up of break-up of my marriage which you know it's still not over yet you know\", '1097.821\\t1098.291\\tEllie\\tuh_huh (uh huh)', '1101.335\\t1103.536\\tEllie\\tideal_weekendC (tell me how you spend your ideal weekend)', '1104.37\\t1108.33\\tParticipant\\twell my ideal weekend starts off usually um', \"1108.95\\t1112.675\\tParticipant\\tafter i have breakfast with my mother early in the morning like around six o'clock\", \"1113.275\\t1117.71\\tParticipant\\tum i go to a local park and uh it's about\", \"1118.682\\t1126.817\\tParticipant\\tthis park is probably laid out where you can walk up a hill and down a hill it's about three and a half miles and i take a brisk walk in the morning\", '1127.417\\t1127.947\\tParticipant\\tum', '1128.417\\t1133.527\\tParticipant\\tget my blood flowing and get my heart rate going and then after that i um', '1134.827\\t1135.857\\tParticipant\\tyou know go home', '1136.507\\t1139.057\\tParticipant\\tum work in the yard a few hours', '1139.857\\t1141.967\\tParticipant\\ttake a shower and relax and then', '1142.502\\t1150.502\\tParticipant\\tjust uh kinda kick back for the rest of the day and then the the the next day i i do the same thing again in the morning i go for a walk', '1151.227\\t1152.417\\tParticipant\\twork out in the yard', '1153.112\\t1155.532\\tParticipant\\twatch t_v whatever just relax', \"1155.942\\t1157.522\\tParticipant\\tthat's how a weekend goes for me\", '1158.404\\t1159.134\\tEllie\\tnice (nice)', '1160.138\\t1162.578\\tEllie\\tasked_everything (okay i think i have asked everything i need to)', '1163.282\\t1164.722\\tEllie\\tappreciate_open (thanks for sharing your thoughts with me)', '1165.482\\t1166.112\\tParticipant\\tand thank you', '1166.747\\t1167.357\\tEllie\\tbye (goodbye)', '1167.627\\t1168.057\\tParticipant\\tbye'], ['103.485\\t104.205\\tParticipant\\t<synch>', \"115.583\\t137.123\\tEllie\\tIntroV4Confirmation (hi i'm ellie thanks for coming in today i was created to talk to people in a safe and secure environment i'm not a therapist but i'm here to learn about people and would love to learn about you i'll ask a few questions to get us started and please feel free to tell me anything your answers are totally confidential are you ok with this)\", '137.18\\t137.95\\tParticipant\\ti am', '138.622\\t139.082\\tEllie\\tokay_confirm (okay)', '141.546\\t143.816\\tEllie\\thow_doingV (so how are you doing today)', \"144.262\\t149.627\\tParticipant\\ti feel pretty good i'm wide awake i had an good breakfast and a nice cup of coffee\", \"150.117\\t159.457\\tParticipant\\tand uh i have an easy day today so i am just gonna chat with you then i'm going to the gym and run some errands so i plan on having a nice day today\", \"159.995\\t160.635\\tEllie\\tthats_good (that's good)\", '162.22\\t163.54\\tEllie\\twhere_originally (where are you from originally)', '164.352\\t166.792\\tParticipant\\ti was born and raised in los angeles', \"167.067\\t169.997\\tParticipant\\tand i'm one of the few locals from around here\", '170.587\\t174.147\\tParticipant\\tand uh i went to school away and uh', \"174.937\\t178.297\\tParticipant\\tbut i'm one of the few natives that are actually in los angeles\", '178.711\\t179.301\\tEllie\\treally (really)', '179.997\\t181.447\\tParticipant\\tyes i am', '181.36\\t183.47\\tEllie\\tlike_about_LA (what are some things you really like about l_a)', '184.502\\t186.612\\tParticipant\\ti like the weather', '186.822\\t189.882\\tParticipant\\thaving owned a vacation house in another state', '190.087\\t193.937\\tParticipant\\tthat i found to be too hot and humid in florida i love the weather here', '194.507\\t197.567\\tParticipant\\tum i like the culture i like the diversity', '198.112\\t199.782\\tParticipant\\ti like the familiarity', '200.472\\t202.182\\tParticipant\\ti like that beaches', '202.762\\t208.927\\tParticipant\\tuh but i also like that just an hour and a half away one can go to the desert say palm springs palm desert', '209.082\\t215.502\\tParticipant\\tbut also another hour and a half two hours away you can go to arrowhead or big bear and go snowboarding or skiing or things like that', \"215.877\\t218.937\\tParticipant\\tand uh i think it's a great place to live\", '219.535\\t220.065\\tEllie\\tyeah2 (yeah)', '221.83\\t222.86\\tEllie\\tsee_mean (i see what you mean)', '223.167\\t223.987\\tParticipant\\tthank you', \"224.577\\t226.927\\tEllie\\tdont_like_LA (what are some things you don't really like about l_a)\", '227.317\\t227.807\\tParticipant\\twell', '228.037\\t229.307\\tParticipant\\tmore of some maybe some of the', \"229.737\\t232.732\\tParticipant\\tthings i don't like about l_a or say california in general\", '233.032\\t234.582\\tParticipant\\tsay like the high tax rate', '235.152\\t239.912\\tParticipant\\twhich the state tax rate is up to thirteen point something now', '240.167\\t243.157\\tParticipant\\twhich is gonna chase business out of here also the regulations', \"243.317\\t244.787\\tParticipant\\ti'm a small business owner\", '245.327\\t256.142\\tParticipant\\tso all the regulations are clearly affecting business so many of my peers have moved their businesses to texas arizona nevada etcetera some of the other western states that are less regulated', \"256.76\\t259.99\\tParticipant\\tand uh that's a big problem here in uh\", '260.25\\t262.16\\tParticipant\\tuh california', '262.55\\t263.39\\tEllie\\tthat_sucks (that sucks)', \"263.485\\t267.21\\tParticipant\\tit really does most people don't understand it but  it's uh\", '267.96\\t269.06\\tParticipant\\talso uh', \"270.315\\t276.67\\tParticipant\\tyou know besides the high taxes you know there's a big immigration problem which being born and raised here most people don't\", \"277.127\\t280.937\\tParticipant\\tsee that but it's a big tax on the social service system\", \"281.337\\t283.107\\tParticipant\\tand that's what makes our taxes\", '283.507\\t287.477\\tParticipant\\tuh so high until they really secure the borders and get that taken care of', '288.065\\t288.535\\tEllie\\tmm (mm)', \"288.627\\t289.447\\tParticipant\\tso that's\", \"290.092\\t300.099\\tParticipant\\tyou know but people don't seem to want to really deal with uh deal with that but it clearly affects businesses because from all the other things that's why our taxes are so high and people are moving out of state\", '300.925\\t301.435\\tEllie\\tmhm (mhm)', \"302.213\\t308.394\\tEllie\\ttravel_shoes (i'm sure you can tell by my shoes i'm not much of a world explorer do you travel a lot)\", \"307.909\\t310.569\\tParticipant\\ti enjoy traveling i've been to sixty six countries\", '311.664\\t313.064\\tParticipant\\tand uh', \"313.559\\t315.689\\tParticipant\\ti don't travel as much as i used to\", \"315.989\\t318.159\\tParticipant\\tbut i've traveled quite a bit\", \"318.469\\t321.369\\tParticipant\\tand i've learned a couple of languages and uh\", '321.964\\t323.124\\tParticipant\\ti served', '322.546\\t323.086\\tEllie\\tlike_what (like what)', \"323.789\\t324.519\\tParticipant\\ti'm sorry\", '325.104\\t325.644\\tEllie\\tlike_what (like what)', '326.269\\t327.299\\tParticipant\\tuh', \"328.919\\t331.099\\tParticipant\\ti didn't really understand uh your question\", \"332.634\\t337.949\\tParticipant\\twhen you said like what i don't think you understood what i said but i'll just go back and\", \"339.144\\t341.874\\tParticipant\\ti've been all through europe eastern europe\", '342.094\\t342.884\\tParticipant\\tasia', '343.184\\t344.434\\tParticipant\\tsouth america', '344.914\\t346.084\\tParticipant\\tnorth africa', \"346.644\\t354.344\\tParticipant\\tum and i enjoy that and enjoy warm climates now especially where you can go and relax and there's warm water to surf\", \"354.564\\t357.004\\tParticipant\\t'cause the cold water kind of makes my back stiffen up\", '357.859\\t361.439\\tParticipant\\tand i also like to exercise and surf and do yoga', '361.704\\t364.174\\tParticipant\\tand work out and uh', '364.434\\t366.294\\tParticipant\\ti try to eat healthy and uh', \"366.954\\t369.224\\tParticipant\\tthat's a big part of my life\", \"369.869\\t371.549\\tEllie\\ttravel_trips (i'd love to hear about one of your trips)\", '371.744\\t372.214\\tParticipant\\toh', '372.574\\t373.274\\tParticipant\\tsure', '373.499\\t383.219\\tParticipant\\tum one of my favorite trips of all time was i used to when i was younger see how many countries i could do in a relatively short period of time say in a three or four week span', \"383.501\\t391.191\\tParticipant\\tbut about ten years ago we actually went to paris and stayed for about a week and really got to know the city even though i'd been there about ten times\", '391.511\\t395.571\\tParticipant\\twe got to know the city really well which was great really lived like a local', '395.856\\t397.896\\tParticipant\\tand rented a small flat and', '398.661\\t401.151\\tParticipant\\tcooked and did our own shopping but really', '401.566\\t404.896\\tParticipant\\thaving been there so many times i really never stayed for more than three or four days', '405.296\\t410.561\\tParticipant\\tit was fun to stay there for about you know almost a month and uh really get to learn the city', '410.861\\t414.461\\tParticipant\\tand it was fun even though i grew up in l_a i grew up taking french', \"414.826\\t419.711\\tParticipant\\twhich there wasn't a big spanish speaking population when i when i was younger\", '419.956\\t422.446\\tParticipant\\tmy mother insisted that all of us kids', \"422.656\\t427.886\\tParticipant\\ttake french even though spanish would've been a lot more valuable but i took french uh\", '428.716\\t433.256\\tParticipant\\tall through uh elementary junior high and uh high school', '433.834\\t434.564\\tEllie\\tnice (nice)', \"434.126\\t439.326\\tParticipant\\tso it was nice to practice my french even though i don't remember a whole lot and even though i stopped speaking french\", '439.486\\t440.486\\tParticipant\\twith the french', '440.721\\t446.106\\tParticipant\\tyou know and my accent is not the greatest so after a couple sentences they start talking english to me', '446.343\\t447.143\\tEllie\\twild_laughter3 ((laughter))', '447.666\\t449.801\\tParticipant\\t<laughter> so that was a', '449.679\\t450.819\\tEllie\\tstudy (what did you study at school)', '451.421\\t452.311\\tParticipant\\tuh', '452.851\\t454.951\\tParticipant\\ti have a few different degrees', '455.456\\t459.781\\tParticipant\\tso uh i was a naval science major as an undergraduate', '461.131\\t462.541\\tParticipant\\tand uh', '462.911\\t463.961\\tParticipant\\tthat was fun', '464.331\\t465.781\\tParticipant\\tand i also have a masters', '466.101\\t468.061\\tParticipant\\tuh degree in economics', '468.886\\t471.266\\tParticipant\\tand i have a degree in crisis management', '472.581\\t473.021\\tParticipant\\tso', '473.059\\t474.489\\tEllie\\tchange_directions (what made you decide to do that)', '475.061\\t476.761\\tParticipant\\tuh i found them um', '477.276\\t478.386\\tParticipant\\tinteresting', '478.796\\t479.996\\tParticipant\\tand uh', '480.901\\t482.601\\tParticipant\\tit was something that i wanted to do', '482.736\\t486.921\\tParticipant\\twhere i went to college i went to the naval academy i went there to play sports', '487.301\\t491.766\\tParticipant\\tand  i found it real interesting being from southern california going to school in maryland', '492.231\\t494.271\\tParticipant\\tand i originally wanted to be a doctor but', '494.716\\t496.416\\tParticipant\\tonce you start going to school', '496.641\\t498.731\\tParticipant\\tfor a little bit you change your mind', '499.101\\t500.381\\tParticipant\\tetcetera so', '500.335\\t500.845\\tEllie\\tmhm (mhm)', '502.673\\t503.933\\tEllie\\tstill_working_on_X (are you still working in that)', \"504.686\\t508.986\\tParticipant\\tum i'm actually in the wholesale business now\", '509.486\\t512.751\\tParticipant\\tfor wholesale distributors of furniture products', '513.566\\t517.276\\tParticipant\\tand it was a family business but i went to work there a number of years ago', '517.56\\t522.895\\tParticipant\\twell you know my grandfather and recently father passed away so i sort of run a eighty year old family business', \"523.15\\t524.57\\tParticipant\\tand it's\", '525.095\\t527.825\\tParticipant\\tpretty interesting i like it having grown up around it', \"528.175\\t530.635\\tParticipant\\tbut it's different than other jobs i've had in the past\", \"531.429\\t532.629\\tEllie\\tdream_job (what's your dream job)\", '533.83\\t534.47\\tParticipant\\thm', \"534.875\\t542.18\\tParticipant\\tactually probably my dream job i think cooking and staying at home this fun i've changed so much i enjoy cooking and staying at home\", '542.705\\t544.125\\tParticipant\\tand uh', '545.14\\t545.98\\tParticipant\\tuh', '546.665\\t551.315\\tParticipant\\ti would probably like to stay home and raise kids because i do have one daughter', '551.99\\t553.2\\tParticipant\\tand uh', '552.325\\t553.005\\tEllie\\taw (aw)', \"553.955\\t557.735\\tParticipant\\tyou know didn't get to spend as much time with her when she was younger as i would've liked\", '558.32\\t566.85\\tParticipant\\tbut i think i would be better than say a lot of women i know  that want to work i actually like cooking and hanging around the house and taking care of kids', \"567.25\\t575.34\\tParticipant\\tyou know that i like doing i'm always on a part time basis but do that having pretty much worked most of my life it seems like boy that would be fun to stay home and uh do that having pretty much worked most of my life\", '575.54\\t576.04\\tParticipant\\tso', '576.082\\t576.552\\tEllie\\tyeah3 (yeah)', '576.5\\t579.23\\tParticipant\\tprobably never happen but it sounds something that to me would be fun', '582.084\\t586.503\\tEllie\\tshyoutgoing (do you consider yourself more shy or outgoing)', \"585.72\\t591.42\\tParticipant\\tuh i think i'm um generally more reserved and shy with strangers\", '591.84\\t594.65\\tParticipant\\tbut when i get to know someone or feel comfortable', \"595.25\\t597.68\\tParticipant\\ti think i'm more of an extrovert\", \"598.28\\t601.29\\tParticipant\\twhereas most strangers might think i'm more introverted\", \"601.48\\t612.68\\tParticipant\\tbut i think i'm when i feel comfortable with certain people and i don't know what it is i can meet a stranger and  be totally confident or people that i might've known for years either from a personal or a business situation\", '613.84\\t616.61\\tParticipant\\tand be more um', '617.29\\t618.32\\tParticipant\\tintroverted', '618.89\\t627.025\\tParticipant\\ti mean i just i just go with the dynamics but i think my outward manifestation is to be a little more shy in general and reserved <reser> i use like to use the term reserved', '628.051\\t628.511\\tEllie\\tokay_confirm (okay)', \"631.516\\t643.294\\tEllie\\trelax_fishtank (sometimes when i'm feeling tense i turn on the fish tank screensaver hey i know it's not hawaii but it's the best i've got what do you do to relax)\", \"643.152\\t646.072\\tParticipant\\toh wow that's a great idea i used to have that on uh\", '646.587\\t649.412\\tParticipant\\tone of my i have uh several computers at home', '649.972\\t653.222\\tParticipant\\tand that used to be one of my screensavers uh as well', '653.752\\t667.922\\tParticipant\\ti usually tend when when i need to relax or had a stressful day or stressful personal events or going for a long walk or going for a long walk or going for a long walk i usually find exercise whether it be yoga or going for a long walk or going to the gym or going for a run or going to the beach', \"668.457\\t673.082\\tParticipant\\tyou know maybe going surfing when the weather's warm i don't surf in cold weather anymore because it makes\", \"674.012\\t677.737\\tParticipant\\tit gives me like a brain freeze even though i've surfed for you know over thirty years\", '678.302\\t679.182\\tParticipant\\ti had', '679.707\\t680.477\\tParticipant\\tit uh', '681.217\\t684.827\\tParticipant\\ti usually find exercise helps me relax the best', '685.107\\t689.287\\tParticipant\\tor sometimes just vegging out on the couch in front of the t_v i find very relaxing <laughter>', '690.952\\t695.895\\tParticipant\\tbut i like that screensaver i used to have that on one of my uh screensavers at home but', \"696.526\\t697.426\\tEllie\\tthats_great (that's great)\", '698.215\\t699.945\\tParticipant\\tyes that was uh', '700.235\\t701.165\\tParticipant\\tthat was it but', \"701.515\\t706.535\\tParticipant\\tthat's one of the things that took me a number of years to master though were my relaxation skills\", \"706.7\\t709.54\\tParticipant\\ti probably didn't have them the best in my twenties but over the years\", \"710.01\\t711.8\\tParticipant\\ti think i've gotten better\", '712.53\\t713.905\\tParticipant\\tuh at the', '712.868\\t713.398\\tEllie\\tyeah2 (yeah)', \"714.74\\t717.28\\tParticipant\\ti think that's a key thing and i think as we mature\", \"717.795\\t720.615\\tParticipant\\tas we learn how to do that i wish i'd learned how to do that and\", '721.165\\t722.295\\tParticipant\\tbe a little more', '722.815\\t724.925\\tParticipant\\thow do you had had the skills earlier', '727.187\\t729.247\\tEllie\\tcontrol_temper (how are you at controlling your temper)', \"729.965\\t734.38\\tParticipant\\ti like to think i'm pretty good i think i'm a lot better as well as that as i've aged\", '734.99\\t736.06\\tParticipant\\tum', '736.45\\t737.41\\tParticipant\\tyou know i', '738.235\\t742.355\\tParticipant\\ti am more likely to think before i speak now', '742.58\\t746.44\\tParticipant\\twhereas say twenty years ago i was more likely to act before i fought', \"747.115\\t749.245\\tParticipant\\tso i might've said more things that i\", '750.105\\t753.775\\tParticipant\\tin a whatever tense situation whether it be personal or', '754.3\\t755.75\\tParticipant\\ta work situation', '756.48\\t757.45\\tParticipant\\tum', \"757.75\\t765.025\\tParticipant\\tbut i've never had a a a violent temper but i would have a temper where i fly off the handle instead of taking a deep breath and reflecting on it\", \"765.31\\t769.72\\tParticipant\\ti think i'm a lot better at that  now than i was say in my teens or twenties\", '769.903\\t770.373\\tEllie\\tuh_huh (uh huh)', '771.34\\t775.42\\tParticipant\\tso when i think a lot of that comes i think the keyword there is maturity', '776.754\\t779.804\\tEllie\\tlast_argument (when was the last time you argued with someone and what was it about)', '779.83\\t780.85\\tParticipant\\toh wow', \"781.275\\t786.595\\tParticipant\\tyou know i haven't really had an argument with anybody in several years <y> what i would consider a traditional\", '787.64\\t789.53\\tParticipant\\targument um', '790.26\\t791.33\\tParticipant\\tprobably', '792.39\\t793.28\\tParticipant\\tum', '793.67\\t798.62\\tParticipant\\tmy ex wife a number of years ago wehad an argument basically just over my daughter', \"799.12\\t801.55\\tParticipant\\tand it wasn't anything violent but it was heated just\", \"801.7\\t806.885\\tParticipant\\tbasically one of the reasons we didn't weren't married our values were so different just our ideas of parenting\", '807.71\\t809.31\\tParticipant\\tand uh just', '810.155\\t813.415\\tParticipant\\tuh outlook on life was so different i think that caused', \"813.84\\t817.03\\tParticipant\\tus to butt heads but it was just i don't know if i'd call it an argument\", \"817.44\\t821.755\\tParticipant\\tbut it was more of just a uh one of those let's agree to disagree\", '822.28\\t823.15\\tParticipant\\tbutt heads', '823.37\\t823.89\\tParticipant\\tso', '824.49\\t826.03\\tEllie\\tdescribe_felt (how did you feel in that moment)', '827.705\\t829.785\\tParticipant\\ti felt like i was talking to a wall', \"830.26\\t833.33\\tParticipant\\tand i actually felt more mad at myself that i should've\", \"833.99\\t840.06\\tParticipant\\tlearned earlier in life that boy that before you get married to someone have children with them that's the kind of discussions that people should\", \"840.815\\t844.065\\tParticipant\\tusually have but you're not really thinking of that because\", \"844.44\\t845.74\\tParticipant\\tsometimes when we're younger we're\", '846.285\\t850.445\\tParticipant\\tlooking at boy how does that i look great on paper to her and she looked great on paper to me', '850.885\\t852.085\\tParticipant\\tbut you know', \"852.48\\t854.37\\tParticipant\\ti'm pretty easy going and i have\", '854.92\\t855.55\\tParticipant\\tdifferent', '855.91\\t858.13\\tParticipant\\tideas on raising children how she did', '858.375\\t859.455\\tParticipant\\tand that was more', '859.79\\t867.445\\tParticipant\\tnot that she was wrong and i was right not that i was right and she was wrong it was just how we were raised and our just different views and we never really', '868.152\\t871.182\\tParticipant\\tdiscussed those things but it was really just fundamental', \"871.512\\t874.967\\tParticipant\\treasons why we butted heads and more weren't really a good match\", '871.773\\t872.213\\tEllie\\tyeah_downer (yeah)', '875.427\\t877.227\\tParticipant\\twhereas other things looked good', '877.902\\t879.942\\tParticipant\\tyou know on paper to both of us', '881.478\\t881.988\\tEllie\\tmhm (mhm)', '883.787\\t887.565\\tEllie\\tsituation_handled (tell me about a situation that you wish you had handled differently)', '888.647\\t889.237\\tParticipant\\thm', \"895.467\\t899.482\\tParticipant\\tthere's one recently my father passed away uh recently\", \"899.931\\t900.671\\tEllie\\tim_sorry (i'm sorry)\", '900.897\\t901.687\\tParticipant\\tthank you', '901.997\\t903.437\\tParticipant\\tand', '904.582\\t911.062\\tParticipant\\treally because in our religion you know you plan a funeral very quickly you know typically within a couple of days', '911.447\\t915.677\\tParticipant\\tand i really only invited very very close friends and family members', '916.087\\t920.627\\tParticipant\\ti was more or less in charge of it my dad was remarried but his widow was sort of', '921.312\\t924.827\\tParticipant\\tnot really up to it so i took care of it and i wish i had invited a', '925.897\\t929.547\\tParticipant\\ti kept it very private and really just told people after the fact', \"929.887\\t934.287\\tParticipant\\tthat he knew that would've liked to have come tp the service had they known\", '934.607\\t940.092\\tParticipant\\tabout it so i really only invited because just the time pressure really just a handful of people but', \"940.509\\t942.749\\tParticipant\\tnow as time's passed i wish i'd invited\", '943.244\\t947.154\\tParticipant\\tmore of his friends instead of just two or three close friends', '947.474\\t952.804\\tParticipant\\tyou know ten or twenty acquaintances and people he knew from business or over the years and i really just', \"953.344\\t958.259\\tParticipant\\tand even distant family members i really just told after the fact i really didn't invite them because\", \"958.634\\t964.909\\tParticipant\\ti was under a time pressure but i could've easily done it via email or it's hard to call everybody personally but\", \"965.246\\t968.411\\tParticipant\\ti wish that's something 'cause people have expressed a little\", \"969.286\\t975.241\\tParticipant\\tthey were upset with me when my other family members threw it all back at me oh you didn't tell me 'til after the fact that\", '975.708\\t979.568\\tParticipant\\tyou know so and so had passed so they all threw it at me because i was more or less', \"980.203\\t984.648\\tParticipant\\tdoing it so i wish i i did that differently but i did the best i could at the time so i'm not really\", \"984.943\\t991.165\\tParticipant\\tmad at myself about something i probably should've been more prepared for also something <s s something> that was coming was inevitable so\", '991.977\\t992.417\\tEllie\\tisee_downer (i see)', '994.06\\t996.764\\tEllie\\tfamily_relationship (tell me about your relationship with your family)', '997.615\\t1000.88\\tParticipant\\tum well both my parents are recently', '1003.285\\t1005.785\\tParticipant\\tuh deceased in the last couple of years', '1006.44\\t1009.92\\tParticipant\\tand i had a brother that i have three younger brothers one of who passed away', '1010.5\\t1011.57\\tParticipant\\tin december', '1012.53\\t1013.46\\tParticipant\\tand', \"1013.98\\t1017.37\\tParticipant\\twe're not super close like i always like i look at other families\", '1017.67\\t1020.98\\tParticipant\\twe were just never like that norman rockwell uh painting', \"1021.22\\t1023.77\\tParticipant\\ti guess we're also uh different\", '1024.201\\t1024.971\\tEllie\\tEllie17Dec2012_02 (uh huh)', '1024.385\\t1025.655\\tParticipant\\tand uh', '1026.025\\t1030.615\\tParticipant\\ti have a close relationship with friends and a more distant relationship with family', \"1030.855\\t1036.515\\tParticipant\\tnot that it's strange but i wish it was more like boy one of those families that got together every sunday and had dinner and all that\", '1036.855\\t1037.575\\tParticipant\\twe just', \"1038.06\\t1040.09\\tParticipant\\tnever did that because we're all\", '1040.55\\t1041.67\\tParticipant\\tall so uh', '1042.385\\t1043.615\\tParticipant\\tuh different', '1044.224\\t1044.754\\tEllie\\tyeah2 (yeah)', '1047.029\\t1047.979\\tEllie\\tunderstand (i understand)', \"1048.2\\t1051.365\\tParticipant\\tyeah it's yeah just being that's how it is but\", \"1051.935\\t1056.322\\tParticipant\\tyou know to strangers and most people i just say you know howdy the family everybody's great you know\", '1056.65\\t1059.08\\tParticipant\\tbut i think every family has their own sort of', '1060.012\\t1061.112\\tParticipant\\tstuff', '1062.997\\t1065.037\\tEllie\\tptsd_diagnosed (have you ever been diagnosed with p_t_s_d)', \"1066.042\\t1070.477\\tParticipant\\tum no but i thought probably i could've had it before from\", \"1072.267\\t1077.502\\tParticipant\\tsome other events in my life and i just wasn't sure i've had been to some therapy in the past just from\", \"1078.802\\t1084.492\\tParticipant\\tyou know uh i was in the military and i was never really sure if that that's exactly what it was\", '1084.882\\t1086.352\\tParticipant\\tbut i think i function', \"1087.922\\t1092.432\\tParticipant\\tpretty well but i just wasn't sure that i had been to some therapy and counseling over the years\", \"1093.662\\t1095.512\\tEllie\\twhy_enlist (why'd you decide to enlist in the military)\", \"1095.677\\t1097.557\\tParticipant\\ti didn't enlist i was an officer\", '1098.382\\t1100.442\\tParticipant\\ti went to one of the service academies', '1101.406\\t1103.156\\tEllie\\told (how old were you when you joined the military)', '1101.527\\t1102.107\\tParticipant\\tthat', '1103.872\\t1107.012\\tParticipant\\tum seventeen i started when after high school', '1107.517\\t1109.507\\tParticipant\\tand i went to a service academy', \"1110.147\\t1116.132\\tParticipant\\tso it's more prestige it just isn't enlisting it's the hard where i went it's the hardest school in america to get into\", \"1116.883\\t1118.583\\tEllie\\tvery_young (you were very young weren't you)\", '1119.022\\t1121.632\\tParticipant\\ti was but same age as everybody else that went there', '1123.245\\t1124.365\\tEllie\\tcombat (did you ever see combat)', '1125.307\\t1126.657\\tParticipant\\tuh we did', '1127.737\\t1129.417\\tParticipant\\tnineteen eighty three', '1131.158\\t1132.318\\tEllie\\ttell_about_that (can you tell me about that)', '1133.157\\t1133.807\\tParticipant\\tum', \"1134.287\\t1138.452\\tParticipant\\tjust basically wasn't anything intense it was just we were just around some we were just\", \"1138.944\\t1142.944\\tParticipant\\twe weren't allowed to carry ammunition we were just our position were just shelled\", '1143.274\\t1144.064\\tParticipant\\tat the time', '1144.324\\t1146.374\\tParticipant\\tand poison gas was sprayed on us', '1148.254\\t1148.874\\tParticipant\\tso', '1148.561\\t1149.241\\tEllie\\tEllie17Dec2012_06 (wow)', '1149.634\\t1150.744\\tParticipant\\tthat was a', \"1151.394\\t1153.714\\tParticipant\\tit wasn't it wasn't anything too uh\", '1153.889\\t1161.106\\tParticipant\\ttoo intense it was a lot you know because it the service i was in the training was way more intense than any actual combat situation', '1162.075\\t1162.645\\tEllie\\twhy2 (why)', \"1163.171\\t1169.676\\tParticipant\\tthat's because they train you well it's like you practice harder than you play if you're an athlete if you play football you practice harder than you\", '1170.106\\t1172.576\\tParticipant\\tyou actually play in the game and the same with uh', \"1173.366\\t1174.776\\tParticipant\\tyou know if you're in a combat\", '1175.586\\t1176.236\\tParticipant\\tunit', '1177.037\\t1177.547\\tEllie\\tmhm (mhm)', '1178.303\\t1180.263\\tEllie\\teffectB (how did serving in the military change you)', '1180.946\\t1183.966\\tParticipant\\twell it made me more patriotic having grown up', '1184.856\\t1186.246\\tParticipant\\tin california', '1186.476\\t1188.616\\tParticipant\\twhereas people who are from all over the country', '1188.841\\t1193.666\\tParticipant\\tand i got to meet whereas most of say my friends who grew up in affluent los angeles like i did', '1194.101\\t1199.361\\tParticipant\\tnever really went out and met a lot of americans and people from different backgrounds and i', '1199.641\\t1201.321\\tParticipant\\tended up becoming uh', '1202.306\\t1205.986\\tParticipant\\tjust more patriotic and a deeper sense of pride in the country', \"1206.201\\t1211.081\\tParticipant\\twhereas you really don't grow up with that in southern california whereas someone in texas or kentucky or tennessee or\", '1211.736\\t1214.666\\tParticipant\\tgeorgia north dakota south dakota montana', '1215.386\\t1215.776\\tEllie\\tright2 (right)', '1216.336\\t1217.816\\tParticipant\\tgrows up with that kind of uh', '1218.801\\t1220.961\\tParticipant\\tpride so i thought it was good and it', '1221.316\\t1223.236\\tParticipant\\tunlike so many of my friends that', \"1223.511\\t1226.751\\tParticipant\\tthey don't know any there's any life between malibu and manhattan\", '1228.23\\t1230.02\\tEllie\\tafter (what did you do after the military)', '1230.436\\t1235.426\\tParticipant\\tuh i went to graduate i was still in the reserves but i went to graduate school', '1236.066\\t1238.056\\tParticipant\\tand i got two graduate degrees', '1238.796\\t1241.796\\tParticipant\\tand i went to work in private enterprise', '1242.011\\t1242.641\\tParticipant\\tuh', \"1243.051\\t1244.201\\tParticipant\\tdidn't care for it\", '1244.471\\t1248.036\\tParticipant\\tthen i joined the fire department i was a fire fighter and paramedic', '1248.481\\t1251.041\\tParticipant\\tfor a number of years and', \"1251.886\\t1259.881\\tParticipant\\tthen after i got divorced it was harder to do the custody situation with my daughter so i went to work in a family business and that's pretty much my career in a nutshell\", '1260.495\\t1263.215\\tEllie\\tcivilian_life (how easy was it for you to go back to civilian life)', '1264.671\\t1265.551\\tParticipant\\tum', '1267.356\\t1273.896\\tParticipant\\tat first it was because i had such a bearing in my butt from the way i walked i talked', '1274.406\\t1275.976\\tParticipant\\tand again i was an officer', '1276.486\\t1283.261\\tParticipant\\tuh you were very regimented on the way you dressed in your private time it was harder took me awhile', '1283.666\\t1285.546\\tParticipant\\tto be able to come back to los angeles', '1286.731\\t1287.751\\tParticipant\\tuh', '1288.096\\t1290.446\\tParticipant\\tbecause it was just so uh', '1290.716\\t1295.211\\tParticipant\\tso different i think i handled it better than most i have a stronger personality', '1296.216\\t1297.156\\tParticipant\\tso but', '1296.777\\t1297.247\\tEllie\\tmm (mm)', '1297.821\\t1299.601\\tParticipant\\tit was a great experience', \"1302.14\\t1302.78\\tEllie\\tthats_good (that's good)\", \"1304.324\\t1306.764\\tEllie\\teasy_sleep (how easy is it for you to get a good night's sleep)\", '1308.351\\t1309.311\\tParticipant\\tum', \"1309.666\\t1314.116\\tParticipant\\tit all depends if i exercise regularly and i don't eat too late\", '1314.521\\t1318.171\\tParticipant\\tand things are going well in my life i generally sleep pretty well', '1319.241\\t1323.221\\tParticipant\\teven though i might have to get up and go to the bathroom once during the night um', '1323.596\\t1325.276\\tParticipant\\tbut i generally sleep uh', '1325.731\\t1327.681\\tParticipant\\ti generally sleep pretty well', '1328.407\\t1329.787\\tEllie\\tfeel_lately (how have you been feeling lately)', '1330.426\\t1331.886\\tParticipant\\ti feel pretty good lately', \"1332.261\\t1336.386\\tParticipant\\tyou know i've been like anybody else more periods of blue in your life but\", '1337.266\\t1339.906\\tParticipant\\tboy the last few months i feel great pretty much', '1341.332\\t1344.502\\tEllie\\tbehavior_changes (have you noticed any changes in your behavior or thoughts lately)', '1345.381\\t1346.391\\tParticipant\\tno not really', '1346.981\\t1350.081\\tParticipant\\ti seem i think i seem a little happier more content lately', '1352.279\\t1352.739\\tEllie\\tokay_confirm (okay)', '1354.104\\t1355.914\\tEllie\\tdepression_diagnosed (have you been diagnosed with depression)', \"1356.716\\t1361.261\\tParticipant\\tum i've had thought maybe in the past because i do have a family history of it\", '1361.961\\t1362.851\\tParticipant\\tand', '1363.491\\t1364.111\\tParticipant\\tyou know', \"1364.646\\t1365.596\\tParticipant\\tit wasn't\", '1365.916\\t1368.226\\tParticipant\\tanything real too debilitating', \"1368.616\\t1370.246\\tParticipant\\tand i wasn't able to really function\", '1370.806\\t1373.706\\tParticipant\\ton my own but i was concerned with it and sought counseling', '1375.293\\t1376.743\\tEllie\\ttherapy_useful (do you feel like therapy is useful)', '1377.236\\t1379.666\\tParticipant\\ti do i was really against it in the past', '1380.266\\t1385.091\\tParticipant\\tand until after i went i mean i wish i went more say during my uh', \"1386.351\\t1392.371\\tParticipant\\tmy marriage over the course of uh my life now i think it's very useful however in the past\", '1392.696\\t1396.336\\tParticipant\\ti was one of those i grew up hearing that it was just ridiculous', \"1396.636\\t1400.936\\tParticipant\\tand it was a waste of money etcetera but i think it's a useful tool if you're open to it\", '1401.865\\t1403.215\\tEllie\\twhy_seek_help (what got you to seek help)', '1404.141\\t1411.461\\tParticipant\\toh just some questions i wanted just an honest opinion outside of friends or strangers from a professional you know about', '1412.286\\t1413.966\\tParticipant\\tlife relationships', \"1414.251\\t1416.681\\tParticipant\\tand sometimes it's good talking things out with a\", \"1417.111\\t1425.241\\tParticipant\\ta professional even though i wouldn't see someone like you in real life i prefer someone who's older than i am a little more life experience than someone who's maybe younger\", '1425.704\\t1426.654\\tEllie\\tunderstand (i understand)', \"1427.026\\t1430.251\\tParticipant\\tso but yeah i think it's a useful tool and\", '1430.931\\t1433.651\\tParticipant\\ti really did a hundred and eighty degree switch on that', '1434.676\\t1436.116\\tEllie\\ttherapy_going (do you still go to therapy now)', \"1436.441\\t1443.246\\tParticipant\\tuh i don't go now i'm sorta taking a break from it but i'm not against it if i have some issues i wanna bounce off\", '1443.621\\t1445.371\\tParticipant\\ti do have someone that i go to', '1446.191\\t1446.651\\tEllie\\tokay_confirm (okay)', '1446.976\\t1447.556\\tParticipant\\tyeah', '1448.734\\t1450.624\\tEllie\\ttherapist_affect (how has seeing a therapist affected you)', \"1451.931\\t1453.071\\tParticipant\\ti think it's nice\", '1453.416\\t1454.576\\tParticipant\\tyou know they really', \"1455.071\\t1459.386\\tParticipant\\tif you go to someone who's good and again i've been to a few different people and sort of therapist shopped\", \"1459.988\\t1463.248\\tParticipant\\tthey really don't tell you what to think which i think is great you know that's\", '1463.578\\t1466.148\\tParticipant\\talways in the past they just help you talk through your', '1466.618\\t1467.568\\tParticipant\\tyour thoughts', '1469.008\\t1472.718\\tParticipant\\tand your feelings and let you decide for yourself but bring a little clarity', '1469.251\\t1469.781\\tEllie\\tyeah2 (yeah)', \"1473.218\\t1475.198\\tParticipant\\tto the situation that's why i like\", '1476.223\\t1478.613\\tParticipant\\ttalking to someone who has a lot more life experience', '1479.723\\t1484.963\\tParticipant\\tand i generally feel more comfortable talking to a woman about that stuff than say to a man', '1479.863\\t1480.333\\tEllie\\tuh_huh (uh huh)', \"1486.088\\t1487.758\\tParticipant\\tso but it's\", '1488.768\\t1489.588\\tParticipant\\tum', \"1491.943\\t1495.468\\tParticipant\\ti think it's a a useful tool i got some good ideas and\", \"1495.808\\t1506.165\\tParticipant\\twas able to it's nice balancing some things off totally someone who's unbiased and not in your day to day life instead of talking to a a romantic partner or a close friend who knows you\", '1506.6\\t1509.44\\tParticipant\\tbut sometimes bouncing the people off of strangers is good', '1510.027\\t1510.497\\tEllie\\tuh_huh (uh huh)', '1512.769\\t1516.502\\tEllie\\thappy_lasttime (tell me about the last time you felt really happy)', '1516.635\\t1517.815\\tParticipant\\tuh this morning', \"1518.13\\t1523.125\\tParticipant\\ti know this this is weird but i'm clearly someone and i'd say this as a joke to my friends and\", \"1523.515\\t1528.255\\tParticipant\\tfamily and associates i clearly have i'm having an easy day today 'cause i knew we're having nice weather\", '1528.655\\t1531.17\\tParticipant\\tand i have a bunch of errands to run', \"1531.67\\t1538.32\\tParticipant\\tand i clearly have seasonal affective disorder but i woke up so happy today when i know it's gonna be eighty degrees out\", \"1538.855\\t1544.62\\tParticipant\\tand when the weather's nice i'm generally a lot more happier than when the weather's [laughter] dark and blue and rainy and cold\", '1545.25\\t1547.29\\tParticipant\\twhere i always i know that term so', \"1547.625\\t1551.07\\tParticipant\\tbut i'm just well i woke up really happy today because i knew it's gonna be a nice day\", \"1551.818\\t1552.718\\tEllie\\tthats_great (that's great)\", '1552.545\\t1554.265\\tParticipant\\tand i looked forward to feeling the sun', '1554.6\\t1555.08\\tParticipant\\tso', '1556.345\\t1558.035\\tEllie\\tBF_describe (how would your best friend describe you)', \"1559.545\\t1565.725\\tParticipant\\tuh most of my friends i'm sort of a renaissance man i know a little bit about a lot of subjects\", \"1566.03\\t1567.9\\tParticipant\\ti'm too smart for my own good\", \"1568.84\\t1570.79\\tParticipant\\tand i'm a\", \"1573.69\\t1579.015\\tParticipant\\ti know a a lot a lot of permeable things i'm pretty rational\", \"1579.515\\t1580.765\\tParticipant\\ti'm very resourceful\", '1581.175\\t1583.485\\tParticipant\\tpeople always call me when they have issues', \"1583.985\\t1587.725\\tParticipant\\tand i help talk them through it or i'm resourceful and tell them where to go\", \"1588.09\\t1590.8\\tParticipant\\twhether it's where to buy a new computer or buy a new car or\", \"1591.76\\t1594.44\\tParticipant\\tyou know i'm great with medical diagnoses\", '1595.205\\t1596.055\\tParticipant\\tuh', '1597.205\\t1598.455\\tParticipant\\tand uh', \"1599.525\\t1602.1\\tParticipant\\tyou know people also say i'm a lot of fun\", '1602.314\\t1602.824\\tEllie\\tmhm (mhm)', \"1602.94\\t1604.09\\tParticipant\\ti'm fun to be with\", '1604.59\\t1605.99\\tParticipant\\tand um', \"1607.275\\t1614.755\\tParticipant\\ti also have i don't have a lot of grey areas people will either really like me or don't like me with me things are pretty much black and white\", '1615.555\\t1616.735\\tParticipant\\ti am what i am', \"1617.24\\t1618.38\\tParticipant\\ti don't b_s\", '1619.435\\t1620.155\\tParticipant\\tyou know', \"1620.65\\t1623.19\\tParticipant\\ti'm the opposite of a politician\", \"1624.045\\t1630.21\\tParticipant\\tso i don't tell people what they want to hear i don't be rude not rude to anybody but i pretty much call things as i see them\", '1624.053\\t1624.523\\tEllie\\tyeah3 (yeah)', \"1631.032\\t1632.242\\tParticipant\\tso that's pretty much\", '1631.541\\t1633.021\\tEllie\\tlanded_trouble (has that gotten you in trouble)', \"1634.287\\t1636.607\\tParticipant\\tno not really 'cause i do everything tactfully\", '1638.34\\t1638.8\\tEllie\\tokay_confirm (okay)', '1639.897\\t1641.407\\tParticipant\\ti like to think i do', '1641.636\\t1642.706\\tEllie\\tregret (is there anything you regret)', '1644.907\\t1646.147\\tParticipant\\tuh', '1646.792\\t1651.332\\tParticipant\\tprobably just i probably spent more time with my parents before they passed but i was busy', '1652.017\\t1653.007\\tParticipant\\tuh', '1653.387\\t1657.077\\tParticipant\\ti probably wish i was able to spend more time with my daughter when she was younger', '1657.907\\t1658.977\\tParticipant\\tuh', \"1659.277\\t1661.247\\tParticipant\\tbut just a lot of it's very typical\", '1663.203\\t1666.153\\tEllie\\tadvice_back (what advice would you give to yourself ten or twenty years ago)', '1667.537\\t1671.517\\tParticipant\\treally to think things through a little bit more be a little less impulsive', '1672.227\\t1675.287\\tParticipant\\tor have pretended to be more impulsive when i was younger than i am now', \"1676.022\\t1680.782\\tParticipant\\ti think that's that's it and i would look at things in the long term instead of looking\", '1681.297\\t1684.867\\tParticipant\\tin things in the short term you know when you make decisions or choices', '1688.255\\t1690.555\\tEllie\\tEllie17Dec2012_08 (what are you most proud of in your life)', \"1691.967\\t1694.607\\tParticipant\\tum i'm proud of my daughter she's\", '1694.997\\t1697.627\\tParticipant\\ta nice young lady i am uh', \"1698.357\\t1702.672\\tParticipant\\tproud of my public service i've never done a job really for money of my\", '1703.102\\t1705.632\\tParticipant\\tmilitary service and fire service', '1706.487\\t1709.197\\tParticipant\\tum there are very few people like me who did it', '1709.577\\t1710.387\\tParticipant\\twho are as', '1710.727\\t1714.642\\tParticipant\\thad the background in education that i did but i like public service', '1715.682\\t1717.362\\tParticipant\\tand um', \"1717.717\\t1719.187\\tParticipant\\tso i'm proud of uh that\", '1719.729\\t1720.239\\tEllie\\tmhm (mhm)', '1719.997\\t1723.667\\tParticipant\\t proud of all the certificates i have hanging on my walls at home and degrees', '1724.117\\t1726.187\\tParticipant\\tsort of like trophies', \"1726.737\\t1730.522\\tParticipant\\ti'm proud that i've been able to stay in good physical shape over the years and\", '1731.072\\t1733.472\\tParticipant\\tknock wood maintain good health', '1734.756\\t1737.196\\tEllie\\tasked_everything (okay i think i have asked everything i need to)', '1737.858\\t1739.298\\tEllie\\tappreciate_open (thanks for sharing your thoughts with me)', '1739.857\\t1740.977\\tParticipant\\tit was nice meeting you', '1741.65\\t1742.26\\tEllie\\tbye (goodbye)', '1742.642\\t1743.792\\tParticipant\\tbye bye thank you']] \n",
      "\n",
      "After preprocessing: \n",
      "\n",
      "[['participant synch', 'ellie introvconfirmation hi im ellie thanks for coming in today i was created to talk to people in a safe and secure environment im not a therapist but im here to learn about people and would love to learn about you ill ask a few questions to get us started and please feel free to tell me anything your answers are totally confidential are you ok with this', 'participant yes', 'ellie okayconfirm okay', 'ellie howdoingv so how are you doing today', 'participant good how are you', 'ellie greatthanks im great thanks', 'ellie whereoriginally where are you from originally', 'participant i am from los angeles', 'ellie really really', 'participant yes', 'ellie likeaboutla what are some things you really like about la', 'participant ', 'participant its  center of everything eh you can get to all the places you need to go to  eh without having to drive very far', 'participant  i like being in the city', 'ellie hmm hmm', 'ellie dontlikela what are some things you dont really like about la', 'participant well', 'participant being in la also youre dealing with traffic a lot of congestion', 'participant and  obviously  the environment as far as  the air quality is not that great', 'participant but', 'ellie yeah yeah', 'participant you know you live with that', 'ellie seemean i see what you mean', 'ellie study what did you study at school', 'participant  i was a business administration major so i studied business and ', 'participant after i finished college i ', 'participant  pursued a career in retail operations', 'ellie stilldoingx are you still doing that', 'participant  no i as a matter of fact i am not i kinda changed career', 'participant  over the last four or five years so im concentrating more on the human resources side of the business', 'ellie changedirections what made you decide to do that', 'participant  a couple of factors  i after working numerous years in the retail business', 'participant i  switched over and worked in a  creative business which was a graphic design firm and i  captured a knowledge knowl a lot of knowledge ', 'participant in the a in the human resources side because i was the operations manager slash benefits manager for a a small company', 'ellie happydidthat are you happy you did that', 'participant yes im very happy i did that  i picked up on lot of knowledge and ', 'participant and its very helpful', 'ellie thatsgreat thats great', 'ellie jobvirtually i love my job you could almost say its virtually made for me whats your dream job', 'participant haha', 'participant well my dream job is ', 'participant im basically kinda doing what i wanna do now because i am a ', 'participant independent contractor i do freelance work as an hr consultant using all the knowledge that i  gained from previous jobs', 'participant and  i utilize that with the flexibility to do the things i wanna do as far as personally and have the time i need to to do the things i wanna do', 'participant and  obviously i worked hard early part of my career so the financial aspect of  my retirement is already set in place so', 'participant i do what i need to do as far as  maintaining a certain lifestyle but also i have i also enjoy what i do im not under as much stress as i used to be', 'ellie greatsituation that sounds like a great situation', 'ellie shyoutgoing do you consider yourself more shy or outgoing', 'participant hmm', 'participant im not', 'participant well im not totally outgoing but  im not im not extremely shy im', 'participant probably right in the middle maybe more towards outgoing but im not totally outgoing i mean', 'participant when im around other people i am  in a social situation i i guess you could consider me an outgoing person but ', 'participant obviously i do have my own little  private issues that i keep to myself', 'ellie tellaboutthat can you tell me about that', 'participant oh sure you know i have ', 'participant  couple years ago i had a heart attack and i had to have bypass operation and it had to', 'ellie elliedec wow', 'participant yeah it had to do with stress and things like that i dont talk about that much other than those around me that are close to me', 'participant  if i meet someone new i dont just openly say well you know ive experienced this this and this so i just basically ', 'participant if it comes up i wont deny it or if it comes up and if its if it i feel like its something to talk about i will talk about it', 'ellie okayconfirm okay', 'ellie relaxfishtank sometimes when im feeling tense i turn on the fish tank screensaver hey i know its not hawaii but its the best ive got what do you do to relax', 'participant actually ', 'participant my relaxation is  im currently ', 'participant living with my mom my mother and  shes a senior citizen and shes alone  so what i do for  relaxation or to relieve stress is i actually help he help her do yard work', 'participant take care of all the gardening and things like that and thats actually very  therapeutic you know', 'ellie aw aw', 'ellie controltemper how are you at controlling your temper', 'participant  im not ', 'participant im not a', 'participant shortfused kinda person it takes a lot to get me really angry so as far as  my tempers concerned', 'participant theres not theres not much to that', 'ellie lastargument when was the last time you argued with someone and what was it about', 'participant ', 'participant im trying to think here sigh i cant recall when the last time it was but it was probably last year sometime when i  had a creditor that i was dealing with ', 'participant being very difficult to work with ', 'participant and i owed money as far as  some medical expenses that were incurred when i had my heart attack a few years ago and ', 'participant they werent very understanding of the situation and i  i really got a little upset about that because', 'participant  i felt like i was being honest with them and i was i was more than willing to take care of my issues but  they were playing hardball and i didnt care for that', 'ellie yeah yeah', 'ellie thatsucks that sucks', 'participant it does haha', 'ellie harddecisionb tell me about the hardest decision youve ever had to make', 'participant probably the hardest xxx decision i ever had to make was ', 'participant it had to do with a life and death situation with my my stepfather who was battling  prostate cancer and', 'participant yeah  making a decision with my mother whether to proceed with a procedure that was gonna either  help him or there was a slight chance it was gonna help him even though he was pretty terminal at that point', 'participant or it would it would kill him you know', 'participant  and that was really tough it was really tough decision to make but   you know i', 'participant i felt like if i didnt try and see if we could save his life l help save his life or if it we didnt take a chance and and take that extra step that i would regret it in the long run', 'ellie yeahdowner yeah', 'ellie beenhard that sounds really hard', 'participant it is', 'participant it was', 'ellie familyrelationship tell me about your relationship with your family', 'participant ', 'participant well right now  im separated from my wife so  she has her issues i have my issues but we are not divorced were just separated', 'participant and  we still have a relationship where we still speak to each other we just dont live together', 'participant and the relationship with my mothers really great you know  shes very understanding im an only child so', 'participant she likes having me around which is good because shes in her late shes in her later stage of her life shes eighty two years old', 'ellie wow wow', 'participant and', 'participant and so she needs to', 'participant  i guess its good that in in in its own way maybe fate has taken place because you know eh', 'participant someone eighty two years old by themselves in a huge house is not a good thing but with me there i think she feels fe theres a comfort level she feels with me there especially being her only child', 'ellie yeahdowner yeah', 'ellie feelguilty whats something you feel guilty about', 'participant probably the most guilty i feel about anything are are the things that i did to hurt my marriage', 'participant  as far as ', 'participant the things that i did the selfish things that i did when i was much younger that  obviously affected the relationship between myself and my wife', 'ellie giveexample can you give me an example of that', 'participant  yeah i ', 'participant got caught up in a situation where', 'participant  i was working tremendous amounts of hours under a lotta stress my wife was also working a lotta hours in a job that she had and  we were growing apart', 'participant and  when she was away my form of release was to go  to the casinos and gamble and so', 'participant you know i spent a lot of time in in the casinos and what eventually happened was i spent a lot of money', 'participant and obviously that was a major issue regarding our relationship', 'participant had to do with trust because ', 'participant it it was devastating to my wife', 'ellie yeahdowner yeah', 'ellie describefelt how did you feel in that moment', 'participant i felt  when whe when it when it came to light', 'participant  i felt very guilty', 'participant and i felt less than a human being at that point in my life', 'ellie imsorry im sorry', 'ellie ptsddiagnosed have you ever been diagnosed with ptsd', 'participant no not at all', 'ellie depressiondiagnosed have you been diagnosed with depression', 'participant no not really no', 'ellie easysleep how easy is it for you to get a good nights sleep', 'participant i dont have problems sleeping thats i i dont ever recall having any problem sleeping so no', 'ellie thatsgood thats good', 'ellie feeldown do you feel down', 'participant no', 'participant not at all', 'ellie behaviorchanges have you noticed any changes in your behavior or thoughts lately', 'participant no  i well i just deep breath the only thing i could say is ', 'participant after i had my heart attack a few years ago', 'participant  i dont let i find myself not letting the small details or small things in life bother me as much as they did before', 'participant so i tend to be a little bit more easygoing and my friends and family have noticed that', 'ellie thatsgreat thats great', 'ellie happylasttime tell me about the last time you felt really happy', 'participant the last time i felt really happy', 'participant ', 'participant probably when', 'participant i had a visit with my cardiologist after my heart attack', 'participant and ', 'participant he basically said to me that after many tests and many  months of  rehabilitation that', 'participant he was happy to explain to me that there was no scar tissue', 'participant no major scar tissue that had occurred with my heart because of my heart heart attack', 'participant and that  i could count on living a pretty much normal life as long as i watched my diet and took my medications', 'ellie goodhear thats so good to hear', 'ellie selfchange what are some things you wish you could change about yourself', 'participant well i guess number one thing is ', 'participant my physical being itself', 'participant i like to be a little bit more healthier lose some more weight', 'participant ', 'participant just in general just be more healthier physically', 'participant and as far as mentally  just not', 'participant go back to those ways of thinking where i was doing the wrong things instead of the right things and not to be so selfish', 'ellie symptomscope how do you cope with them', 'participant just one day at a time', 'participant you know i just ', 'participant try to be at peace with my myself and try to have some peace of mind on a daily basis', 'participant i meditate i read you know i read some books i watch tv i i do things that i know that  if i can i if i can help myself', 'participant i do things to help myself', 'ellie hmm hmm', 'ellie regret is there anything you regret', 'participant well theres a lot that i regret obviously in my marriage', 'participant  my  working career as far as i had a long career with this majors  food chain and', 'participant and i basically because of my gambling issues i ended up ruining a a very good career but', 'participant ', 'participant at this point right now theres not much i can do i cant change whats been done', 'participant so i dont focus too much on the past', 'participant i just look at whats in front of me and just focus on whats in front of me eh every day', 'ellie yeahdowner yeah', 'ellie adviceback what advice would you give to yourself ten or twenty years ago', 'participant what advice haha wake up and see s and see what youre doing', 'participant to yourself and you know make the changes that need to be changed', 'participant  you know kno  you know im not a ', 'participant im not someone thats not intelligent but i was intelligent enough to know whats right from wrong and ', 'participant scrubbedentry', 'participant youre what youre doing is wrong you need to change your behavior immediately', 'ellie uhhuh  huh', 'ellie elliedec what are you most proud of in your life', 'participant probably', 'participant the proud pro what im proud about overall is the fact that', 'participant  i did all these awful things but deep down i dont think as a person im a bad person i have to remember that', 'participant  when i was caught up in all the gambling and compulsive behavior it was because i had an illness a compulsive', 'participant  obsessive compulsive behavior that made me ill and  that i was a sick person just trying to become healthy', 'participant and every day thats what my life is about its about recovery and ', 'participant just making sure that  i do the right things from the time i wake up in the morning to the time i go to sleep at night', 'participant one day at a time', 'ellie yeah yeah', 'ellie difficult how hard is that', 'participant its not as hard as you think its but it is a process where', 'participant you need to be diligent about your behavior and your routines', 'participant and  just know that whats not right for you you know it could be okay for other people to do certain things but i cannot do those things anymore', 'ellie hmm hmm', 'ellie bfdescribe how would your best friend describe you', 'participant  most of my best friends can  describe me as probably', 'participant easygoing generous', 'participant  a nice person to be around', 'participant and ', 'participant you know', 'participant they were obviously a little shocked when they found out of all my issues', 'participant  related to the gambling and the', 'participant my and the breakup of breakup of my marriage which you know its still not over yet you know', 'ellie uhhuh  huh', 'ellie idealweekendc tell me how you spend your ideal weekend', 'participant well my ideal weekend starts off usually ', 'participant after i have breakfast with my mother early in the morning like around six oclock', 'participant  i go to a local park and  its about', 'participant this park is probably laid out where you can walk up a hill and down a hill its about three and a half miles and i take a brisk walk in the morning', 'participant ', 'participant get my blood flowing and get my heart rate going and then after that i ', 'participant you know go home', 'participant  work in the yard a few hours', 'participant take a shower and relax and then', 'participant just  kinda kick back for the rest of the day and then the the the next day i i do the same thing again in the morning i go for a walk', 'participant work out in the yard', 'participant watch tv whatever just relax', 'participant thats how a weekend goes for me', 'ellie nice nice', 'ellie askedeverything okay i think i have asked everything i need to', 'ellie appreciateopen thanks for sharing your thoughts with me', 'participant and thank you', 'ellie bye goodbye', 'participant bye'], ['participant synch', 'ellie introvconfirmation hi im ellie thanks for coming in today i was created to talk to people in a safe and secure environment im not a therapist but im here to learn about people and would love to learn about you ill ask a few questions to get us started and please feel free to tell me anything your answers are totally confidential are you ok with this', 'participant i am', 'ellie okayconfirm okay', 'ellie howdoingv so how are you doing today', 'participant i feel pretty good im wide awake i had an good breakfast and a nice cup of coffee', 'participant and  i have an easy day today so i am just gonna chat with you then im going to the gym and run some errands so i plan on having a nice day today', 'ellie thatsgood thats good', 'ellie whereoriginally where are you from originally', 'participant i was born and raised in los angeles', 'participant and im one of the few locals from around here', 'participant and  i went to school away and ', 'participant but im one of the few natives that are actually in los angeles', 'ellie really really', 'participant yes i am', 'ellie likeaboutla what are some things you really like about la', 'participant i like the weather', 'participant having owned a vacation house in another state', 'participant that i found to be too hot and humid in florida i love the weather here', 'participant  i like the culture i like the diversity', 'participant i like the familiarity', 'participant i like that beaches', 'participant  but i also like that just an hour and a half away one can go to the desert say palm springs palm desert', 'participant but also another hour and a half two hours away you can go to arrowhead or big bear and go snowboarding or skiing or things like that', 'participant and  i think its a great place to live', 'ellie yeah yeah', 'ellie seemean i see what you mean', 'participant thank you', 'ellie dontlikela what are some things you dont really like about la', 'participant well', 'participant more of some maybe some of the', 'participant things i dont like about la or say california in general', 'participant say like the high tax rate', 'participant which the state tax rate is up to thirteen point something now', 'participant which is gonna chase business out of here also the regulations', 'participant im a small business owner', 'participant so all the regulations are clearly affecting business so many of my peers have moved their businesses to texas arizona nevada etcetera some of the other western states that are less regulated', 'participant and  thats a big problem here in ', 'participant  california', 'ellie thatsucks that sucks', 'participant it really does most people dont understand it but its ', 'participant also ', 'participant you know besides the high taxes you know theres a big immigration problem which being born and raised here most people dont', 'participant see that but its a big tax on the social service system', 'participant and thats what makes our taxes', 'participant  so high until they really secure the borders and get that taken care of', 'ellie hmm hmm', 'participant so thats', 'participant you know but people dont seem to want to really deal with  deal with that but it clearly affects businesses because from all the other things thats why our taxes are so high and people are moving out of state', 'ellie hmm hmm', 'ellie travelshoes im sure you can tell by my shoes im not much of a world explorer do you travel a lot', 'participant i enjoy traveling ive been to sixty six countries', 'participant and ', 'participant i dont travel as much as i used to', 'participant but ive traveled quite a bit', 'participant and ive learned a couple of languages and ', 'participant i served', 'ellie likewhat like what', 'participant im sorry', 'ellie likewhat like what', 'participant ', 'participant i didnt really understand  your question', 'participant when you said like what i dont think you understood what i said but ill just go back and', 'participant ive been all through europe eastern europe', 'participant asia', 'participant south america', 'participant north africa', 'participant  and i enjoy that and enjoy warm climates now especially where you can go and relax and theres warm water to surf', 'participant cause the cold water kind of makes my back stiffen up', 'participant and i also like to exercise and surf and do yoga', 'participant and work out and ', 'participant i try to eat healthy and ', 'participant thats a big part of my life', 'ellie traveltrips id love to hear about one of your trips', 'participant oh', 'participant sure', 'participant  one of my favorite trips of all time was i used to when i was younger see how many countries i could do in a relatively short period of time say in a three or four week span', 'participant but about ten years ago we actually went to paris and stayed for about a week and really got to know the city even though id been there about ten times', 'participant we got to know the city really well which was great really lived like a local', 'participant and rented a small flat and', 'participant cooked and did our own shopping but really', 'participant having been there so many times i really never stayed for more than three or four days', 'participant it was fun to stay there for about you know almost a month and  really get to learn the city', 'participant and it was fun even though i grew up in la i grew up taking french', 'participant which there wasnt a big spanish speaking population when i when i was younger', 'participant my mother insisted that all of us kids', 'participant take french even though spanish wouldve been a lot more valuable but i took french ', 'participant all through  elementary junior high and  high school', 'ellie nice nice', 'participant so it was nice to practice my french even though i dont remember a whole lot and even though i stopped speaking french', 'participant with the french', 'participant you know and my accent is not the greatest so after a couple sentences they start talking english to me', 'ellie wildhaha haha', 'participant haha so that was a', 'ellie study what did you study at school', 'participant ', 'participant i have a few different degrees', 'participant so  i was a naval science major as an undergraduate', 'participant and ', 'participant that was fun', 'participant and i also have a masters', 'participant  degree in economics', 'participant and i have a degree in crisis management', 'participant so', 'ellie changedirections what made you decide to do that', 'participant  i found them ', 'participant interesting', 'participant and ', 'participant it was something that i wanted to do', 'participant where i went to college i went to the naval academy i went there to play sports', 'participant and i found it real interesting being from southern california going to school in maryland', 'participant and i originally wanted to be a doctor but', 'participant once you start going to school', 'participant for a little bit you change your mind', 'participant etcetera so', 'ellie hmm hmm', 'ellie stillworkingonx are you still working in that', 'participant  im actually in the wholesale business now', 'participant for wholesale distributors of furniture products', 'participant and it was a family business but i went to work there a number of years ago', 'participant well you know my grandfather and recently father passed away so i sort of run a eighty year old family business', 'participant and its', 'participant pretty interesting i like it having grown up around it', 'participant but its different than other jobs ive had in the past', 'ellie dreamjob whats your dream job', 'participant hmm', 'participant actually probably my dream job i think cooking and staying at home this fun ive changed so much i enjoy cooking and staying at home', 'participant and ', 'participant ', 'participant i would probably like to stay home and raise kids because i do have one daughter', 'participant and ', 'ellie aw aw', 'participant you know didnt get to spend as much time with her when she was younger as i wouldve liked', 'participant but i think i would be better than say a lot of women i know that want to work i actually like cooking and hanging around the house and taking care of kids', 'participant you know that i like doing im always on a part time basis but do that having pretty much worked most of my life it seems like boy that would be fun to stay home and  do that having pretty much worked most of my life', 'participant so', 'ellie yeah yeah', 'participant probably never happen but it sounds something that to me would be fun', 'ellie shyoutgoing do you consider yourself more shy or outgoing', 'participant  i think im  generally more reserved and shy with strangers', 'participant but when i get to know someone or feel comfortable', 'participant i think im more of an extrovert', 'participant whereas most strangers might think im more introverted', 'participant but i think im when i feel comfortable with certain people and i dont know what it is i can meet a stranger and be totally confident or people that i mightve known for years either from a personal or a business situation', 'participant and be more ', 'participant introverted', 'participant i mean i just i just go with the dynamics but i think my outward manifestation is to be a little more shy in general and reserved reser i use like to use the term reserved', 'ellie okayconfirm okay', 'ellie relaxfishtank sometimes when im feeling tense i turn on the fish tank screensaver hey i know its not hawaii but its the best ive got what do you do to relax', 'participant oh wow thats a great idea i used to have that on ', 'participant one of my i have  several computers at home', 'participant and that used to be one of my screensavers  as well', 'participant i usually tend when when i need to relax or had a stressful day or stressful personal events or going for a long walk or going for a long walk or going for a long walk i usually find exercise whether it be yoga or going for a long walk or going to the gym or going for a run or going to the beach', 'participant you know maybe going surfing when the weathers warm i dont surf in cold weather anymore because it makes', 'participant it gives me like a brain freeze even though ive surfed for you know over thirty years', 'participant i had', 'participant it ', 'participant i usually find exercise helps me relax the best', 'participant or sometimes just vegging out on the couch in front of the tv i find very relaxing haha', 'participant but i like that screensaver i used to have that on one of my  screensavers at home but', 'ellie thatsgreat thats great', 'participant yes that was ', 'participant that was it but', 'participant thats one of the things that took me a number of years to master though were my relaxation skills', 'participant i probably didnt have them the best in my twenties but over the years', 'participant i think ive gotten better', 'participant  at the', 'ellie yeah yeah', 'participant i think thats a key thing and i think as we mature', 'participant as we learn how to do that i wish id learned how to do that and', 'participant be a little more', 'participant how do you had had the skills earlier', 'ellie controltemper how are you at controlling your temper', 'participant i like to think im pretty good i think im a lot better as well as that as ive aged', 'participant ', 'participant you know i', 'participant i am more likely to think before i speak now', 'participant whereas say twenty years ago i was more likely to act before i fought', 'participant so i mightve said more things that i', 'participant in a whatever tense situation whether it be personal or', 'participant a work situation', 'participant ', 'participant but ive never had a a a violent temper but i would have a temper where i fly off the handle instead of taking a deep breath and reflecting on it', 'participant i think im a lot better at that now than i was say in my teens or twenties', 'ellie uhhuh  huh', 'participant so when i think a lot of that comes i think the keyword there is maturity', 'ellie lastargument when was the last time you argued with someone and what was it about', 'participant oh wow', 'participant you know i havent really had an argument with anybody in several years y what i would consider a traditional', 'participant argument ', 'participant probably', 'participant ', 'participant my ex wife a number of years ago wehad an argument basically just over my daughter', 'participant and it wasnt anything violent but it was heated just', 'participant basically one of the reasons we didnt werent married our values were so different just our ideas of parenting', 'participant and  just', 'participant  outlook on life was so different i think that caused', 'participant us to butt heads but it was just i dont know if id call it an argument', 'participant but it was more of just a  one of those lets agree to disagree', 'participant butt heads', 'participant so', 'ellie describefelt how did you feel in that moment', 'participant i felt like i was talking to a wall', 'participant and i actually felt more mad at myself that i shouldve', 'participant learned earlier in life that boy that before you get married to someone have children with them thats the kind of discussions that people should', 'participant usually have but youre not really thinking of that because', 'participant sometimes when were younger were', 'participant looking at boy how does that i look great on paper to her and she looked great on paper to me', 'participant but you know', 'participant im pretty easy going and i have', 'participant different', 'participant ideas on raising children how she did', 'participant and that was more', 'participant not that she was wrong and i was right not that i was right and she was wrong it was just how we were raised and our just different views and we never really', 'participant discussed those things but it was really just fundamental', 'participant reasons why we butted heads and more werent really a good match', 'ellie yeahdowner yeah', 'participant whereas other things looked good', 'participant you know on paper to both of us', 'ellie hmm hmm', 'ellie situationhandled tell me about a situation that you wish you had handled differently', 'participant hmm', 'participant theres one recently my father passed away  recently', 'ellie imsorry im sorry', 'participant thank you', 'participant and', 'participant really because in our religion you know you plan a funeral very quickly you know typically within a couple of days', 'participant and i really only invited very very close friends and family members', 'participant i was more or less in charge of it my dad was remarried but his widow was sort of', 'participant not really up to it so i took care of it and i wish i had invited a', 'participant i kept it very private and really just told people after the fact', 'participant that he knew that wouldve liked to have come tp the service had they known', 'participant about it so i really only invited because just the time pressure really just a handful of people but', 'participant now as times passed i wish id invited', 'participant more of his friends instead of just two or three close friends', 'participant you know ten or twenty acquaintances and people he knew from business or over the years and i really just', 'participant and even distant family members i really just told after the fact i really didnt invite them because', 'participant i was under a time pressure but i couldve easily done it via email or its hard to call everybody personally but', 'participant i wish thats something cause people have expressed a little', 'participant they were upset with me when my other family members threw it all back at me oh you didnt tell me til after the fact that', 'participant you know so and so had passed so they all threw it at me because i was more or less', 'participant doing it so i wish i i did that differently but i did the best i could at the time so im not really', 'participant mad at myself about something i probably shouldve been more prepared for also something s s something that was coming was inevitable so', 'ellie iseedowner i see', 'ellie familyrelationship tell me about your relationship with your family', 'participant  well both my parents are recently', 'participant  deceased in the last couple of years', 'participant and i had a brother that i have three younger brothers one of who passed away', 'participant in december', 'participant and', 'participant were not super close like i always like i look at other families', 'participant we were just never like that norman rockwell  painting', 'participant i guess were also  different', 'ellie elliedec  huh', 'participant and ', 'participant i have a close relationship with friends and a more distant relationship with family', 'participant not that its strange but i wish it was more like boy one of those families that got together every sunday and had dinner and all that', 'participant we just', 'participant never did that because were all', 'participant all so ', 'participant  different', 'ellie yeah yeah', 'ellie understand i understand', 'participant yeah its yeah just being thats how it is but', 'participant you know to strangers and most people i just say you know howdy the family everybodys great you know', 'participant but i think every family has their own sort of', 'participant stuff', 'ellie ptsddiagnosed have you ever been diagnosed with ptsd', 'participant  no but i thought probably i couldve had it before from', 'participant some other events in my life and i just wasnt sure ive had been to some therapy in the past just from', 'participant you know  i was in the military and i was never really sure if that thats exactly what it was', 'participant but i think i function', 'participant pretty well but i just wasnt sure that i had been to some therapy and counseling over the years', 'ellie whyenlist whyd you decide to enlist in the military', 'participant i didnt enlist i was an officer', 'participant i went to one of the service academies', 'ellie old how old were you when you joined the military', 'participant that', 'participant  seventeen i started when after high school', 'participant and i went to a service academy', 'participant so its more prestige it just isnt enlisting its the hard where i went its the hardest school in america to get into', 'ellie veryyoung you were very young werent you', 'participant i was but same age as everybody else that went there', 'ellie combat did you ever see combat', 'participant  we did', 'participant nineteen eighty three', 'ellie tellaboutthat can you tell me about that', 'participant ', 'participant just basically wasnt anything intense it was just we were just around some we were just', 'participant we werent allowed to carry ammunition we were just our position were just shelled', 'participant at the time', 'participant and poison gas was sprayed on us', 'participant so', 'ellie elliedec wow', 'participant that was a', 'participant it wasnt it wasnt anything too ', 'participant too intense it was a lot you know because it the service i was in the training was way more intense than any actual combat situation', 'ellie why why', 'participant thats because they train you well its like you practice harder than you play if youre an athlete if you play football you practice harder than you', 'participant you actually play in the game and the same with ', 'participant you know if youre in a combat', 'participant unit', 'ellie hmm hmm', 'ellie effectb how did serving in the military change you', 'participant well it made me more patriotic having grown up', 'participant in california', 'participant whereas people who are from all over the country', 'participant and i got to meet whereas most of say my friends who grew up in affluent los angeles like i did', 'participant never really went out and met a lot of americans and people from different backgrounds and i', 'participant ended up becoming ', 'participant just more patriotic and a deeper sense of pride in the country', 'participant whereas you really dont grow up with that in southern california whereas someone in texas or kentucky or tennessee or', 'participant georgia north dakota south dakota montana', 'ellie right right', 'participant grows up with that kind of ', 'participant pride so i thought it was good and it', 'participant unlike so many of my friends that', 'participant they dont know any theres any life between malibu and manhattan', 'ellie after what did you do after the military', 'participant  i went to graduate i was still in the reserves but i went to graduate school', 'participant and i got two graduate degrees', 'participant and i went to work in private enterprise', 'participant ', 'participant didnt care for it', 'participant then i joined the fire department i was a fire fighter and paramedic', 'participant for a number of years and', 'participant then after i got divorced it was harder to do the custody situation with my daughter so i went to work in a family business and thats pretty much my career in a nutshell', 'ellie civilianlife how easy was it for you to go back to civilian life', 'participant ', 'participant at first it was because i had such a bearing in my butt from the way i walked i talked', 'participant and again i was an officer', 'participant  you were very regimented on the way you dressed in your private time it was harder took me awhile', 'participant to be able to come back to los angeles', 'participant ', 'participant because it was just so ', 'participant so different i think i handled it better than most i have a stronger personality', 'participant so but', 'ellie hmm hmm', 'participant it was a great experience', 'ellie thatsgood thats good', 'ellie easysleep how easy is it for you to get a good nights sleep', 'participant ', 'participant it all depends if i exercise regularly and i dont eat too late', 'participant and things are going well in my life i generally sleep pretty well', 'participant even though i might have to get up and go to the bathroom once during the night ', 'participant but i generally sleep ', 'participant i generally sleep pretty well', 'ellie feellately how have you been feeling lately', 'participant i feel pretty good lately', 'participant you know ive been like anybody else more periods of blue in your life but', 'participant boy the last few months i feel great pretty much', 'ellie behaviorchanges have you noticed any changes in your behavior or thoughts lately', 'participant no not really', 'participant i seem i think i seem a little happier more content lately', 'ellie okayconfirm okay', 'ellie depressiondiagnosed have you been diagnosed with depression', 'participant  ive had thought maybe in the past because i do have a family history of it', 'participant and', 'participant you know', 'participant it wasnt', 'participant anything real too debilitating', 'participant and i wasnt able to really function', 'participant on my own but i was concerned with it and sought counseling', 'ellie therapyuseful do you feel like therapy is useful', 'participant i do i was really against it in the past', 'participant and until after i went i mean i wish i went more say during my ', 'participant my marriage over the course of  my life now i think its very useful however in the past', 'participant i was one of those i grew up hearing that it was just ridiculous', 'participant and it was a waste of money etcetera but i think its a useful tool if youre open to it', 'ellie whyseekhelp what got you to seek help', 'participant oh just some questions i wanted just an honest opinion outside of friends or strangers from a professional you know about', 'participant life relationships', 'participant and sometimes its good talking things out with a', 'participant a professional even though i wouldnt see someone like you in real life i prefer someone whos older than i am a little more life experience than someone whos maybe younger', 'ellie understand i understand', 'participant so but yeah i think its a useful tool and', 'participant i really did a hundred and eighty degree switch on that', 'ellie therapygoing do you still go to therapy now', 'participant  i dont go now im sorta taking a break from it but im not against it if i have some issues i wanna bounce off', 'participant i do have someone that i go to', 'ellie okayconfirm okay', 'participant yeah', 'ellie therapistaffect how has seeing a therapist affected you', 'participant i think its nice', 'participant you know they really', 'participant if you go to someone whos good and again ive been to a few different people and sort of therapist shopped', 'participant they really dont tell you what to think which i think is great you know thats', 'participant always in the past they just help you talk through your', 'participant your thoughts', 'participant and your feelings and let you decide for yourself but bring a little clarity', 'ellie yeah yeah', 'participant to the situation thats why i like', 'participant talking to someone who has a lot more life experience', 'participant and i generally feel more comfortable talking to a woman about that stuff than say to a man', 'ellie uhhuh  huh', 'participant so but its', 'participant ', 'participant i think its a a useful tool i got some good ideas and', 'participant was able to its nice balancing some things off totally someone whos unbiased and not in your day to day life instead of talking to a a romantic partner or a close friend who knows you', 'participant but sometimes bouncing the people off of strangers is good', 'ellie uhhuh  huh', 'ellie happylasttime tell me about the last time you felt really happy', 'participant  this morning', 'participant i know this this is weird but im clearly someone and id say this as a joke to my friends and', 'participant family and associates i clearly have im having an easy day today cause i knew were having nice weather', 'participant and i have a bunch of errands to run', 'participant and i clearly have seasonal affective disorder but i woke up so happy today when i know its gonna be eighty degrees out', 'participant and when the weathers nice im generally a lot more happier than when the weathers haha dark and blue and rainy and cold', 'participant where i always i know that term so', 'participant but im just well i woke up really happy today because i knew its gonna be a nice day', 'ellie thatsgreat thats great', 'participant and i looked forward to feeling the sun', 'participant so', 'ellie bfdescribe how would your best friend describe you', 'participant  most of my friends im sort of a renaissance man i know a little bit about a lot of subjects', 'participant im too smart for my own good', 'participant and im a', 'participant i know a a lot a lot of permeable things im pretty rational', 'participant im very resourceful', 'participant people always call me when they have issues', 'participant and i help talk them through it or im resourceful and tell them where to go', 'participant whether its where to buy a new computer or buy a new car or', 'participant you know im great with medical diagnoses', 'participant ', 'participant and ', 'participant you know people also say im a lot of fun', 'ellie hmm hmm', 'participant im fun to be with', 'participant and ', 'participant i also have i dont have a lot of grey areas people will either really like me or dont like me with me things are pretty much black and white', 'participant i am what i am', 'participant i dont bs', 'participant you know', 'participant im the opposite of a politician', 'participant so i dont tell people what they want to hear i dont be rude not rude to anybody but i pretty much call things as i see them', 'ellie yeah yeah', 'participant so thats pretty much', 'ellie landedtrouble has that gotten you in trouble', 'participant no not really cause i do everything tactfully', 'ellie okayconfirm okay', 'participant i like to think i do', 'ellie regret is there anything you regret', 'participant ', 'participant probably just i probably spent more time with my parents before they passed but i was busy', 'participant ', 'participant i probably wish i was able to spend more time with my daughter when she was younger', 'participant ', 'participant but just a lot of its very typical', 'ellie adviceback what advice would you give to yourself ten or twenty years ago', 'participant really to think things through a little bit more be a little less impulsive', 'participant or have pretended to be more impulsive when i was younger than i am now', 'participant i think thats thats it and i would look at things in the long term instead of looking', 'participant in things in the short term you know when you make decisions or choices', 'ellie elliedec what are you most proud of in your life', 'participant  im proud of my daughter shes', 'participant a nice young lady i am ', 'participant proud of my public service ive never done a job really for money of my', 'participant military service and fire service', 'participant  there are very few people like me who did it', 'participant who are as', 'participant had the background in education that i did but i like public service', 'participant and ', 'participant so im proud of  that', 'ellie hmm hmm', 'participant proud of all the certificates i have hanging on my walls at home and degrees', 'participant sort of like trophies', 'participant im proud that ive been able to stay in good physical shape over the years and', 'participant knock wood maintain good health', 'ellie askedeverything okay i think i have asked everything i need to', 'ellie appreciateopen thanks for sharing your thoughts with me', 'participant it was nice meeting you', 'ellie bye goodbye', 'participant bye bye thank you']] \n",
      "\n"
     ]
    }
   ],
   "source": [
    "#Preprocessing training data pt.2\n",
    "preprocessed_data1=preprocess(dialog_data1)\n",
    "print(\"Before preprocessing: \\n\")\n",
    "print(dialog_data1[:2],\"\\n\")\n",
    "print(\"After preprocessing: \\n\")\n",
    "print(preprocessed_data1[:2],\"\\n\")"
   ]
  },
  {
   "cell_type": "code",
   "execution_count": 8,
   "metadata": {},
   "outputs": [],
   "source": [
    "#splitting data\n",
    "def input_output_split(data,num):\n",
    "    start_string=['ellie how are you doing today','ellie so how are you doing today','ellie okay so how are you doing today',\n",
    "                 'ellie  how are you doing today','ellie  so how are you doing today','ellie  okay so how are you doing today',\n",
    "                 'participant how are you doing today','participant so how are you doing today','participant okay so how are you doing today',\n",
    "                 'participant  how are you doing today','participant  so how are you doing today','participant  okay so how are you doing today',\n",
    "                 'how are you doing today','so how are you doing today','okay so how are you doing today']\n",
    "                \n",
    "    input_vect=[]\n",
    "    output_vect=[]\n",
    "    for j in data:\n",
    "        input1=[]\n",
    "        output=[]\n",
    "        flag=0\n",
    "        count=2\n",
    "        count1=2\n",
    "        temp_vect=[]\n",
    "        for i in j:\n",
    "            if num==0:\n",
    "                if i in start_string:\n",
    "                    flag=1\n",
    "                    continue\n",
    "            else:\n",
    "                if '(' in i:\n",
    "                    start = re.search('\\(', i, re.I) \n",
    "                    if start is not None: \n",
    "                        start1 = start.start() \n",
    "                    if i[start1+1:-1] in start_string:\n",
    "                        flag=1\n",
    "                        continue\n",
    "                else:\n",
    "                    if i in start_string:\n",
    "                        flag=1\n",
    "                        continue                    \n",
    "                        \n",
    "            if flag==1:\n",
    "                if i[0:5]==\"ellie\":\n",
    "                    count=1\n",
    "                    if count!=count1:\n",
    "                        input1.append(temp_vect)\n",
    "                        count1=1\n",
    "                        temp_vect=[]\n",
    "                    if num==0:\n",
    "                        temp_vect.append(i[6:].strip())\n",
    "                    else:\n",
    "                        if '(' in i:\n",
    "                            start = re.search('\\(', i, re.I) \n",
    "                            if start is not None: \n",
    "                                start1 = start.start() \n",
    "                            temp_vect.append(i[start1+1:-1].strip())\n",
    "                        else:\n",
    "                            temp_vect.append(i[6:].strip())\n",
    "                else:\n",
    "                    count=2\n",
    "                    if count!=count1:\n",
    "                        output.append(temp_vect)\n",
    "                        count1=2\n",
    "                        temp_vect=[]\n",
    "                    if num==0:\n",
    "                        temp_vect.append(i[12:].strip())\n",
    "                    else:\n",
    "                        if '(' in i:\n",
    "                            start = re.search('\\(', i, re.I) \n",
    "                            if start is not None: \n",
    "                                start1 = start.start() \n",
    "                            temp_vect.append(i[start1+1:-1].strip())\n",
    "                        else:\n",
    "                            temp_vect.append(i[12:].strip())                        \n",
    "        if count==2: \n",
    "            input1.append(temp_vect)\n",
    "        else:\n",
    "            output.append(temp_vect)\n",
    "        input_vect.append(input1)\n",
    "        output_vect.append(output)\n",
    "    return input_vect,output_vect"
   ]
  },
  {
   "cell_type": "code",
   "execution_count": 9,
   "metadata": {},
   "outputs": [],
   "source": [
    "#splitting into input and output vectors pt.1\n",
    "input1,output=input_output_split(preprocessed_data,0)"
   ]
  },
  {
   "cell_type": "code",
   "execution_count": 10,
   "metadata": {},
   "outputs": [],
   "source": [
    "#splitting into input and output vectors pt.2\n",
    "input2,output1=input_output_split(preprocessed_data1,1)"
   ]
  },
  {
   "cell_type": "code",
   "execution_count": 117,
   "metadata": {},
   "outputs": [],
   "source": [
    "#to remove consecutive repeating words and phrases from the string data\n",
    "from itertools import groupby\n",
    "def remove_repeats(vector):\n",
    "    vector1=[]\n",
    "    for i in vector:\n",
    "        temp_vect=[]\n",
    "        for j in i:\n",
    "            temp=j.split()\n",
    "            vect=[k[0] for k in groupby(temp)]\n",
    "            len1=len(vect)\n",
    "            if len1>0:\n",
    "                while(True):\n",
    "                    temp1=[]\n",
    "                    for k in range(0,len(vect),2):\n",
    "                        temp1.append(' '.join(vect[k:k+2]))\n",
    "                    if k!=len(vect)-1:\n",
    "                        temp1.append(' '.join(vect[k:]))\n",
    "                    vect1=[k[0] for k in groupby(temp1)]\n",
    "                    for i in range(len(vect1)):\n",
    "                        vect1[i]=vect1[i].split()\n",
    "                    vect2=[sub for item in vect1 for sub in item] \n",
    "                    if len1==len(vect2):\n",
    "                        break\n",
    "                    len1=len(vect2)\n",
    "                    vect=vect2\n",
    "\n",
    "                while(True):\n",
    "                    temp1=[]\n",
    "                    temp1.append(vect[0])\n",
    "                    for k in range(1,len(vect),2):\n",
    "                        temp1.append(' '.join(vect[k:k+2]))\n",
    "                    if k!=len(vect)-1:\n",
    "                        temp1.append(' '.join(vect[k:]))\n",
    "                    vect1=[k[0] for k in groupby(temp1)]\n",
    "                    for i in range(len(vect1)):\n",
    "                        vect1[i]=vect1[i].split()\n",
    "                    vect2=[sub for item in vect1 for sub in item]\n",
    "                    if len1==len(vect2):\n",
    "                        break\n",
    "                    else:\n",
    "                        len1=len(vect2)\n",
    "                        vect=vect2\n",
    "\n",
    "                while(True):\n",
    "                    temp2=[]\n",
    "                    for k in range(0,len(vect2),3):\n",
    "                        temp2.append(' '.join(vect2[k:k+3]))\n",
    "                    if k!=len(vect2)-1:\n",
    "                        temp2.append(' '.join(vect2[k:k+3]))\n",
    "                    vect3=[k[0] for k in groupby(temp2)]\n",
    "                    for i in range(len(vect3)):\n",
    "                        vect3[i]=vect3[i].split()\n",
    "                    vect4=[sub for item in vect3 for sub in item]\n",
    "                    if len1==len(vect4):\n",
    "                        break\n",
    "                    else:\n",
    "                        len1=len(vect4)\n",
    "                        vect2=vect4\n",
    "\n",
    "                while(True):\n",
    "                    temp2=[]\n",
    "                    temp2.append(vect2[0])\n",
    "                    for k in range(1,len(vect2),3):\n",
    "                        temp2.append(' '.join(vect2[k:k+3]))\n",
    "                    if k!=len(vect2)-1:\n",
    "                        temp2.append(' '.join(vect2[k:k+3]))\n",
    "                    vect3=[k[0] for k in groupby(temp2)]\n",
    "                    for i in range(len(vect3)):\n",
    "                        vect3[i]=vect3[i].split()\n",
    "                    vect4=[sub for item in vect3 for sub in item]\n",
    "                    if len1==len(vect4):\n",
    "                        break\n",
    "                    else:\n",
    "                        len1=len(vect4)\n",
    "                        vect2=vect4\n",
    "\n",
    "                while(True):\n",
    "                    temp2=[]\n",
    "                    temp2.append(' '.join(vect2[:2]))\n",
    "                    for k in range(2,len(vect2),3):\n",
    "                        temp2.append(' '.join(vect2[k:k+3]))\n",
    "                    if k!=len(vect2)-1:\n",
    "                        temp2.append(' '.join(vect2[k:k+3]))\n",
    "                    vect3=[k[0] for k in groupby(temp2)]\n",
    "                    for i in range(len(vect3)):\n",
    "                        vect3[i]=vect3[i].split()\n",
    "                    vect4=[sub for item in vect3 for sub in item]\n",
    "                    if len1==len(vect4):\n",
    "                        break\n",
    "                    else:\n",
    "                        len1=len(vect4)\n",
    "                        vect2=vect4\n",
    "\n",
    "                temp3=' '.join(vect4)\n",
    "                if len(temp3)>0:\n",
    "                    temp_vect.append(temp3)\n",
    "        vector1.append(temp_vect)\n",
    "    return vector1"
   ]
  },
  {
   "cell_type": "code",
   "execution_count": 118,
   "metadata": {},
   "outputs": [
    {
     "data": {
      "text/plain": [
       "[['good'],\n",
       " ['atlanta georgia'],\n",
       " ['my parents are from here'],\n",
       " ['i love it'],\n",
       " ['i like the weather', 'i like the opportunities', 'yes'],\n",
       " ['it took a minute', 'somewhat easy'],\n",
       " ['congestion'],\n",
       " ['that is it'],\n",
       " ['i took up business and administration'],\n",
       " ['yeah i am',\n",
       "  'here and there i am on a break right now but i plan on going back in the next semester'],\n",
       " ['probably to open up my own business'],\n",
       " ['no'],\n",
       " ['no specific reason i just', 'do not travel a lot', 'i am pretty local'],\n",
       " ['once a year'],\n",
       " ['can you be a little bit more specific'],\n",
       " ['no answer'],\n",
       " ['i like reading books i enjoy cooking', 'exercising is great'],\n",
       " ['hello i am a i am pretty good at it'],\n",
       " ['who is been a positive pos',\n",
       "  'i think it is just friends in general who seem to do well and i think they are very inspiring and',\n",
       "  \"which is sometimes a bit tough in a town like los angeles where i think everybody's on the go trying to accomplish their own goals so they do not\"]]"
      ]
     },
     "execution_count": 118,
     "metadata": {},
     "output_type": "execute_result"
    }
   ],
   "source": [
    "#example for remove_repeats()\n",
    "a=[['good'],\n",
    " ['atlanta georgia'],\n",
    " ['my parents are from here'],\n",
    " ['i love it'],\n",
    " ['i like the weather', 'i like the opportunities', '', 'yes'],\n",
    " ['', 'it took a minute', 'somewhat easy'],\n",
    " ['congestion'],\n",
    " ['that is it'],\n",
    " ['i took up business and administration'],\n",
    " ['yeah i am',\n",
    "  'here and there i am on a break right now but i plan on going back in the  next semester'],\n",
    " ['probably to open up my own business'],\n",
    " ['no'],\n",
    " ['no specific reason i just', 'do not travel a lot', 'i am pretty local'],\n",
    " ['once a year'],\n",
    " ['can you be a little bit more specific'],\n",
    " ['no answer'],\n",
    " ['i like reading books i enjoy i enjoy cooking', 'exercising is great'],\n",
    " ['hello hello i am i am a i am pretty good at it', ''],['who is been a positive pos',\n",
    "  'i think it is just friends in general who who seem to who seem to do well and i think they they are very inspiring and',\n",
    "  \"which is sometimes a a bit tough in in a town like los angeles where i think everybody's on the go trying to accomplish their own goals so they do not\"]]\n",
    "remove_repeats(a)"
   ]
  },
  {
   "cell_type": "code",
   "execution_count": 119,
   "metadata": {},
   "outputs": [],
   "source": [
    "#adding necessary punctuations to the input dialogus vector\n",
    "questions=['what','why','where','when','which','who','how','do','does','did','have','has','had','can','could','will','would','shall','should','is','was','were','really','are']\n",
    "exclamations=['wow','great','that is great','wonderful','excellent','awesome','cool','that is cool','brilliant','sounds great','that sounds great','beautiful','my goodness','marvelous','jeez','fabulous','fantastic','bye','goodbye']\n",
    "\n",
    "def add_input_punctuations(vector):\n",
    "    vector1=[]\n",
    "    for i in vector:\n",
    "        count=0\n",
    "        flag=0\n",
    "        temp_vect=[]\n",
    "        for j in i:\n",
    "            count+=1\n",
    "            if len(j)>0:\n",
    "                if count==1:\n",
    "                    if j.split()[0] in questions:\n",
    "                        j=j+' ?'\n",
    "                        flag=1\n",
    "                if j in exclamations and flag==0:\n",
    "                    j=j+' !'\n",
    "                elif flag==0:\n",
    "                    j=j+' .'\n",
    "                j=re.sub('[\\s]+(?=[\\s])','',j)\n",
    "                temp_vect.append(j)\n",
    "        vector1.append(' '.join(temp_vect))\n",
    "    return vector1"
   ]
  },
  {
   "cell_type": "code",
   "execution_count": 120,
   "metadata": {},
   "outputs": [],
   "source": [
    "#adding necessary punctuations to the output dialogus vector\n",
    "def add_output_punctuations(vector):\n",
    "    vector1=[]\n",
    "    for i in vector:\n",
    "        count=0\n",
    "        flag=0\n",
    "        temp_vect=[]\n",
    "        for j in i:\n",
    "            if j.split()[0] in questions:\n",
    "                j=j+' ?'\n",
    "            elif j in exclamations:\n",
    "                j=j+' !'\n",
    "            else:\n",
    "                j=j+' .'\n",
    "            temp_vect.append(j)\n",
    "        vector1.append(' '.join(temp_vect))\n",
    "    return vector1"
   ]
  },
  {
   "cell_type": "code",
   "execution_count": 121,
   "metadata": {},
   "outputs": [],
   "source": [
    "#second preprocessing phase to remove repeats, and to add punctuations\n",
    "def preprocess2(input1,output):\n",
    "    input1_cp=input1.copy()\n",
    "    output_cp=output.copy()\n",
    "    for i in range(len(input1)):\n",
    "        max_len=min(len(input1[i]),len(output[i]))\n",
    "        input1_cp[i]=input1[i][:max_len]\n",
    "        output_cp[i]=output[i][:max_len]\n",
    "    input_vect=[sub for item in input1_cp for sub in item]\n",
    "    output_vect=[sub for item in output_cp for sub in item]\n",
    "    input_vect1=remove_repeats(input_vect)\n",
    "    output_vect1=remove_repeats(output_vect)\n",
    "    input_vect2=add_input_punctuations(input_vect1)\n",
    "    output_vect2=add_output_punctuations(output_vect1)\n",
    "    return input_vect2,output_vect2"
   ]
  },
  {
   "cell_type": "code",
   "execution_count": 153,
   "metadata": {},
   "outputs": [
    {
     "name": "stdout",
     "output_type": "stream",
     "text": [
      "47 46\n",
      "\n",
      "\n",
      "3550 3550\n"
     ]
    }
   ],
   "source": [
    "#applying preprocess2() pt.1\n",
    "input_vect,output_vect=preprocess2(input1,output)\n",
    "print(len(input1[1]),len(output[1]))\n",
    "print(\"\\n\")\n",
    "print(len(input_vect),len(output_vect))"
   ]
  },
  {
   "cell_type": "code",
   "execution_count": 154,
   "metadata": {},
   "outputs": [
    {
     "name": "stdout",
     "output_type": "stream",
     "text": [
      "72 71\n",
      "\n",
      "\n",
      "6656 6656\n"
     ]
    }
   ],
   "source": [
    "#applying preprocess2() pt.2\n",
    "input_vect1,output_vect1=preprocess2(input2,output1)\n",
    "print(len(input2[1]),len(output1[1]))\n",
    "print(\"\\n\")\n",
    "print(len(input_vect1),len(output_vect1))"
   ]
  },
  {
   "cell_type": "code",
   "execution_count": 155,
   "metadata": {},
   "outputs": [
    {
     "name": "stdout",
     "output_type": "stream",
     "text": [
      "233\n",
      "33\n"
     ]
    }
   ],
   "source": [
    "#max length of input and output vectors pt.1\n",
    "input_len=[len(i.split()) for i in input_vect]\n",
    "print(max(input_len))\n",
    "output_len=[len(i.split()) for i in output_vect]\n",
    "print(max(output_len))"
   ]
  },
  {
   "cell_type": "code",
   "execution_count": 156,
   "metadata": {},
   "outputs": [
    {
     "name": "stdout",
     "output_type": "stream",
     "text": [
      "482\n",
      "70\n"
     ]
    }
   ],
   "source": [
    "#max length of input and output vectors pt.2\n",
    "input_len1=[len(i.split()) for i in input_vect1]\n",
    "print(max(input_len1))\n",
    "output_len1=[len(i.split()) for i in output_vect1]\n",
    "print(max(output_len1))"
   ]
  },
  {
   "cell_type": "code",
   "execution_count": 157,
   "metadata": {},
   "outputs": [],
   "source": [
    "#concatenating pt.1 and pt.2 of input and output vectors\n",
    "input_vect+=input_vect1\n",
    "output_vect+=output_vect1"
   ]
  },
  {
   "cell_type": "code",
   "execution_count": 158,
   "metadata": {},
   "outputs": [
    {
     "name": "stdout",
     "output_type": "stream",
     "text": [
      "10206 10206\n"
     ]
    }
   ],
   "source": [
    "print(len(input_vect),len(output_vect))"
   ]
  },
  {
   "cell_type": "code",
   "execution_count": 159,
   "metadata": {},
   "outputs": [
    {
     "name": "stdout",
     "output_type": "stream",
     "text": [
      "my dream job would be to just work for myself and making lots of money . i do not know i do not really have a dream job just something that i can . i can work under my own terms and get paid decently and be in a creative environment .\n",
      "hmm . how hard is that ?\n",
      "\n",
      "\n",
      "i do not know i think it is just a matter of finding the right situation so right now eh it is been people are a little conservative about what they want so and how they want it so it is a little tougher than it seems se it should be but i do not know i think when the situation's right i do not think it is too difficult .\n",
      "yeah . it can be tough to find a good job these days .\n",
      "\n",
      "\n",
      "yep .\n",
      "what do you do now ?\n",
      "\n",
      "\n",
      "i work as an assistant as administrative assistant through a temp agency so . it is just basically i get sent out to do .\n",
      "cool !\n",
      "\n",
      "\n",
      "to do desk jobs .\n",
      "are you happy you did that ?\n",
      "\n",
      "\n",
      "yes and no i mean i feel like i could do more but you know it works so . you know yeah .\n",
      "okay . how close are you to your family ?\n",
      "\n",
      "\n",
      "i am pretty close i mean they are around so .\n",
      "hmm . what are some things that make you really mad ?\n",
      "\n",
      "\n",
      "god really mad . stupid people just basically doing just doing anything to annoy me . that is basically ba that is the big thing just irritating stupid people haha who just do things just to provoke me for no reason at all .\n",
      "hmm . can you give me an example of that ?\n",
      "\n",
      "\n",
      "what is a good example ? just random people who think it is funny to just sit there and get a rise out of me just it does not have to be one any specific situation it is just people who just think it is funny to i think they are just generally sadistic and they just think it is funny to just prod you like it is like poking a stick at an angry dog knowing that they know how to they just wanna push your buttons for no reason so\n",
      "right . when was the last time that happened ?\n",
      "\n",
      "\n",
      "god . i do not remember i with those situations i usually try not to remember haha when it happens i just let it go and just like the past is the past i just tend not to look back .\n",
      "i understand . do you consider yourself an introvert ?\n",
      "\n",
      "\n",
      "what do you mean ?\n",
      "let us come back to that later .\n",
      "\n",
      "\n",
      "okay .\n",
      "what do you do to relax ?\n",
      "\n",
      "\n",
      "god what do i do to relax i like to run i like to go to the gym . listen to music i have a lot of musician friends so i just so i am usually around musicians so . anything of that sort i like . i like everything from punk rock art to tattoos to just anything that is generally art and creative .\n",
      "awesome ! who is someone that is been a positive influence in your life ?\n",
      "\n",
      "\n",
      "who is been a positive pos ? i think it is just friends in general who seem to do well and i think they are very inspiring and which is sometimes a bit tough in a town like los angeles where i think everybody's on the go trying to accomplish their own goals so they do not\n",
      "hmm .\n",
      "\n",
      "\n",
      "it is sometimes hard to find someone who is gonna be uplifting or try to be inspiring so . i do not really have anybody in particular but people have kind of brought up things here and there .\n",
      "like what .\n",
      "\n",
      "\n",
      "you know just like hey instead of doing this how about doing that or hey you are good at this why are not you doing that or something like that just you know i am always looking for new opportunities so they always point out things that maybe i might i could do differently . instead of just being negative saying hey do not do that is no that is why are you doing that it is a waste of time .\n",
      "hmm . that is good . how are you at controlling your temper ?\n",
      "\n",
      "\n",
      "i guess it depends on who you talk to .\n",
      "haha .\n",
      "\n",
      "\n",
      "i am okay at it i could probably work at that . i do not know i mean i can i think i can do better at it .\n",
      "can you give me an example of that ?\n",
      "\n",
      "\n",
      "well back to the point about people provoking me so i mean i try not to blow steam and let them get under my skin so i just usually try not to let it get to me . but i do not know i guess with temper i guess it depends on how i handle my stress . lately i have been better at it just because i think my situation's been a little bit better .\n",
      "that is good . have you been diagnosed with depression ?\n",
      "\n",
      "\n",
      "no .\n",
      "have you ever been diagnosed with ptsd ?\n",
      "\n",
      "\n"
     ]
    }
   ],
   "source": [
    "#displaying the concatenated vectors\n",
    "for i in range(70,90):\n",
    "    print(input_vect[i])\n",
    "    print(output_vect[i])\n",
    "    print(\"\\n\")"
   ]
  },
  {
   "cell_type": "code",
   "execution_count": 160,
   "metadata": {},
   "outputs": [],
   "source": [
    "#functio for trimming vectors to length <= 30\n",
    "def trimming_data(input_vect,output_vect):\n",
    "    count=count1=count2=0\n",
    "    for i in range(len(input_vect)):\n",
    "        if len(input_vect[i].split())<=28 and len(output_vect[i].split())<=28:\n",
    "            count+=1\n",
    "        else:\n",
    "            end1=[]\n",
    "            if len(input_vect[i].split())>28:\n",
    "                len1=len(input_vect[i].split())\n",
    "                inp=' '.join(input_vect[i].split()[len1-27:])\n",
    "                if '.' in inp[:-1]:\n",
    "                    end1.append(inp.index('.'))\n",
    "                if '?' in inp[:-1]:\n",
    "                    end1.append(inp.index('?'))\n",
    "                if '!' in inp[:-1]:\n",
    "                    end1.append(inp.index('!'))\n",
    "                if len(end1)>0:\n",
    "                    end=min(end1)\n",
    "                    inp=inp[end+1:]\n",
    "                    input_vect[i]=inp.strip()\n",
    "                else:\n",
    "                    input_vect[i]=inp.strip()\n",
    "                count1+=1\n",
    "            if len(output_vect[i].split())>28:\n",
    "                end1=[]\n",
    "                out=' '.join(output_vect[i].split()[:28])\n",
    "                if '.' in out:\n",
    "                    end1.append(out.rindex('.'))\n",
    "                if '?' in out:\n",
    "                    end1.append(out.rindex('?'))\n",
    "                if '!' in out:\n",
    "                    end1.append(out.rindex('!'))\n",
    "                if len(end1)>0:\n",
    "                    end=max(end1)\n",
    "                    out=out[:end+1]\n",
    "                    output_vect[i]=out.strip()\n",
    "                else:\n",
    "                    output_vect[i]=out\n",
    "                count2+=1\n",
    "    return input_vect,output_vect,count,count1,count2"
   ]
  },
  {
   "cell_type": "code",
   "execution_count": 161,
   "metadata": {},
   "outputs": [
    {
     "name": "stdout",
     "output_type": "stream",
     "text": [
      "No. of dialogue pairs already of length <= 30: 6795\n",
      "No. of input dialogues trimmed to length <= 30: 3293\n",
      "No. of output dialogues trimmed to length <= 30: 178\n"
     ]
    }
   ],
   "source": [
    "#trimming vectors\n",
    "input_vect_cp=input_vect.copy()\n",
    "output_vect_cp=output_vect.copy()\n",
    "input_vect,output_vect,count,count1,count2=trimming_data(input_vect,output_vect)\n",
    "print(\"No. of dialogue pairs already of length <= 30:\",count)\n",
    "print(\"No. of input dialogues trimmed to length <= 30:\",count1)\n",
    "print(\"No. of output dialogues trimmed to length <= 30:\",count2)"
   ]
  },
  {
   "cell_type": "code",
   "execution_count": 162,
   "metadata": {},
   "outputs": [
    {
     "name": "stdout",
     "output_type": "stream",
     "text": [
      "i can work under my own terms and get paid decently and be in a creative environment .\n",
      "hmm . how hard is that ?\n",
      "\n",
      "\n",
      "than it seems se it should be but i do not know i think when the situation's right i do not think it is too difficult .\n",
      "yeah . it can be tough to find a good job these days .\n",
      "\n",
      "\n",
      "yep .\n",
      "what do you do now ?\n",
      "\n",
      "\n",
      "i work as an assistant as administrative assistant through a temp agency so . it is just basically i get sent out to do .\n",
      "cool !\n",
      "\n",
      "\n",
      "to do desk jobs .\n",
      "are you happy you did that ?\n",
      "\n",
      "\n",
      "yes and no i mean i feel like i could do more but you know it works so . you know yeah .\n",
      "okay . how close are you to your family ?\n",
      "\n",
      "\n",
      "i am pretty close i mean they are around so .\n",
      "hmm . what are some things that make you really mad ?\n",
      "\n",
      "\n",
      "is basically ba that is the big thing just irritating stupid people haha who just do things just to provoke me for no reason at all .\n",
      "hmm . can you give me an example of that ?\n",
      "\n",
      "\n",
      "like it is like poking a stick at an angry dog knowing that they know how to they just wanna push your buttons for no reason so\n",
      "right . when was the last time that happened ?\n",
      "\n",
      "\n",
      "to remember haha when it happens i just let it go and just like the past is the past i just tend not to look back .\n",
      "i understand . do you consider yourself an introvert ?\n",
      "\n",
      "\n",
      "what do you mean ?\n",
      "let us come back to that later .\n",
      "\n",
      "\n",
      "okay .\n",
      "what do you do to relax ?\n",
      "\n",
      "\n",
      "anything of that sort i like . i like everything from punk rock art to tattoos to just anything that is generally art and creative .\n",
      "awesome ! who is someone that is been a positive influence in your life ?\n",
      "\n",
      "\n",
      "sometimes a bit tough in a town like los angeles where i think everybody's on the go trying to accomplish their own goals so they do not\n",
      "hmm .\n",
      "\n",
      "\n",
      "i do not really have anybody in particular but people have kind of brought up things here and there .\n",
      "like what .\n",
      "\n",
      "\n",
      "instead of just being negative saying hey do not do that is no that is why are you doing that it is a waste of time .\n",
      "hmm . that is good . how are you at controlling your temper ?\n",
      "\n",
      "\n",
      "i guess it depends on who you talk to .\n",
      "haha .\n",
      "\n",
      "\n",
      "i do not know i mean i can i think i can do better at it .\n",
      "can you give me an example of that ?\n",
      "\n",
      "\n",
      "lately i have been better at it just because i think my situation's been a little bit better .\n",
      "that is good . have you been diagnosed with depression ?\n",
      "\n",
      "\n",
      "no .\n",
      "have you ever been diagnosed with ptsd ?\n",
      "\n",
      "\n"
     ]
    }
   ],
   "source": [
    "#displaying the concatenated vectors\n",
    "for i in range(70,90):\n",
    "    print(input_vect[i])\n",
    "    print(output_vect[i])\n",
    "    print(\"\\n\")"
   ]
  },
  {
   "cell_type": "code",
   "execution_count": 163,
   "metadata": {},
   "outputs": [
    {
     "name": "stdout",
     "output_type": "stream",
     "text": [
      "28\n",
      "28\n"
     ]
    }
   ],
   "source": [
    "#max length of input and output vectors pt.1\n",
    "input_len=[len(i.split()) for i in input_vect]\n",
    "print(max(input_len))\n",
    "output_len=[len(i.split()) for i in output_vect]\n",
    "print(max(output_len))"
   ]
  },
  {
   "cell_type": "code",
   "execution_count": 164,
   "metadata": {},
   "outputs": [
    {
     "name": "stdout",
     "output_type": "stream",
     "text": [
      "487 4391\n"
     ]
    }
   ],
   "source": [
    "#importing daily dialogue data\n",
    "with open('D:/BDA/AI project/ijcnlp_dailydialog/dialogues_topic.txt','r',encoding='utf-8') as data:\n",
    "    topics=[]\n",
    "    for i in data:\n",
    "        i=re.sub('\\n','',i)\n",
    "        topics.append(int(i))\n",
    "ind2=[]\n",
    "ind5=[]\n",
    "for i in range(len(topics)):\n",
    "    if(topics[i]==2):\n",
    "        ind2.append(i)\n",
    "    elif(topics[i]==5):\n",
    "        ind5.append(i)    \n",
    "print(len(ind2),len(ind5))"
   ]
  },
  {
   "cell_type": "code",
   "execution_count": 165,
   "metadata": {},
   "outputs": [],
   "source": [
    "#importing dialogue acts \n",
    "with open('D:/BDA/AI project/ijcnlp_dailydialog/dialogues_act.txt','r',encoding='utf-8') as data:\n",
    "    acts=[]\n",
    "    for i in data:\n",
    "        i=re.sub('\\n','',i)\n",
    "        acts.append(i)"
   ]
  },
  {
   "cell_type": "code",
   "execution_count": 166,
   "metadata": {},
   "outputs": [],
   "source": [
    "#function to fetch data\n",
    "def fetch_data(path):\n",
    "    with open(os.path.join('D:/BDA/AI project/ijcnlp_dailydialog/',path),'r',encoding='utf-8') as data:\n",
    "        data_vector=[]\n",
    "        count=-1\n",
    "        count1=[]\n",
    "        for i in data:\n",
    "            count+=1\n",
    "            if count in ind2 or count in ind5:\n",
    "                data_vector.append(i.split('__eou__'))\n",
    "                count1.append(count)\n",
    "    return data_vector,count,count1"
   ]
  },
  {
   "cell_type": "code",
   "execution_count": 167,
   "metadata": {},
   "outputs": [],
   "source": [
    "#fetching data\n",
    "data_train,count,count1=fetch_data('dialogues_text.txt')"
   ]
  },
  {
   "cell_type": "code",
   "execution_count": 168,
   "metadata": {},
   "outputs": [
    {
     "data": {
      "text/plain": [
       "4878"
      ]
     },
     "execution_count": 168,
     "metadata": {},
     "output_type": "execute_result"
    }
   ],
   "source": [
    "len(data_train)"
   ]
  },
  {
   "cell_type": "code",
   "execution_count": 169,
   "metadata": {},
   "outputs": [],
   "source": [
    "#curating answer-question conversations\n",
    "data_train1=[]\n",
    "for i in range(len(data_train)):\n",
    "    temp=re.sub('[\\s]','',acts[count1[i]])\n",
    "    ind=[]\n",
    "    for j in re.finditer('12',temp):\n",
    "        ind.append(j.start())\n",
    "        ind.append(j.start()+1)\n",
    "    temp_vect=[]\n",
    "    for j in ind:\n",
    "        temp_vect.append(data_train[i][j])\n",
    "    data_train1.append(temp_vect)"
   ]
  },
  {
   "cell_type": "code",
   "execution_count": 170,
   "metadata": {},
   "outputs": [
    {
     "data": {
      "text/plain": [
       "4878"
      ]
     },
     "execution_count": 170,
     "metadata": {},
     "output_type": "execute_result"
    }
   ],
   "source": [
    "len(data_train1)"
   ]
  },
  {
   "cell_type": "code",
   "execution_count": 171,
   "metadata": {},
   "outputs": [
    {
     "name": "stdout",
     "output_type": "stream",
     "text": [
      "['You look hot and tired . Jack , have you been exercising ? ', ' Yes . We just had a basketball match with Class Two . ', ' Who won ? ', ' They did . ', ' What was the score ? ', ' Seventy to sixty-seven . ', '\\n']\n",
      "[' Yes . We just had a basketball match with Class Two . ', ' Who won ? ', ' They did . ', ' What was the score ? ']\n",
      "\n",
      "\n",
      "['What do you think of the test ? ', ' Rather difficult . How about you ? ', \" It wasn't too bad . Were you nervous ? \", \" Rather . I'm afraid I didn't do very well . \", \" Oh , I wouldn't worry about it . \", \" That's because you did well . \", \" No , I wouldn't worry about you . \", ' Why ? ', ' It seems to me that you always do better than you say . ', '\\n']\n",
      "[\" No , I wouldn't worry about you . \", ' Why ? ']\n",
      "\n",
      "\n",
      "['Can I ask you a question ? ', ' Sure , go ahead . ', ' How do you get along with the American students in your classes ? ', \" I don't have much contact with them . \", \" Really ? Why not ? Don't you go up and talk to them ? \", \" No , I don't . I'm too afraid of making mistakes in English . I don't want to be laughed at . \", \" You won't get anywhere that way . You're the one who needs to practice English , so you should make the first move . Besides , most American students are really friendly and outgoing . They will be glad to talk to you . \", \" Thanks for the advice . I guess you're right . It's just hard to overcome my shyness . I really will try from now on . I promise . \", '\\n']\n",
      "[\" I don't have much contact with them . \", \" Really ? Why not ? Don't you go up and talk to them ? \"]\n",
      "\n",
      "\n",
      "['Hi . Are you new in this class ? ', \" Yes , I am . I really don't know anyone . \", ' Did you just arrive in this country ? You look a little nervous . ', \" No . I was here last semester , but I didn't find out about this class in time . So I'm taking it this semester . \", ' I took this course last semester too . Now I am taking it again ! ', ' How is it ? Did you learn anything here ? Why are you taking it again ? ', \" Wow , you have a lot of questions ! I learned a lot . In fact , that's why I am taking it again . I get lots of practice in speaking , and also in writing . I'm sure you'll be glad you took this course . I'll even help you study if you'd like . \", \" That's just what I need . Thanks so much . You'Ve been a big help already . \", '\\n']\n",
      "[\" Yes , I am . I really don't know anyone . \", ' Did you just arrive in this country ? You look a little nervous . ', ' I took this course last semester too . Now I am taking it again ! ', ' How is it ? Did you learn anything here ? Why are you taking it again ? ']\n",
      "\n",
      "\n",
      "['I really want to take a nap . I feel very sleepy today . ', \" What's the matter ? Didn't you get enough sleep last night ? \", \" I fell asleep very late . It was almost two o'clock in the morning when I finally fell asleep . \", \" Are you worried about something ? Why couldn't you sleep ? \", \" You know how it is when you're in a strange country . Everything is new , and you get tired and nervous sometimes . Then you worry about your family , about conditions back home , about your courses , about your money , about everything . I tried to fall asleep but I just had too much on my mind . \", ' Well , take it easy . Things will look better tomorrow . Maybe you should try exercising or a hot bath to help you relax . ', ' Anything is worth a try . But right now I really just want to find a quiet place to take a nap . ', '\\n']\n",
      "['I really want to take a nap . I feel very sleepy today . ', \" What's the matter ? Didn't you get enough sleep last night ? \", \" I fell asleep very late . It was almost two o'clock in the morning when I finally fell asleep . \", \" Are you worried about something ? Why couldn't you sleep ? \"]\n",
      "\n",
      "\n",
      "[\"Do you mind if I ask you a question ? If it's too personal you can forget it . \", \" I don't mind at all . You can ask me anything . We're friends . \", ' Have you got a scholarship , or are you on your own ? ', ' I have a scholarship from my government for four years . How about you ? ', \" I have a tuition scholarship from the university . Otherwise I'm on my own . \", \" Do you mean that you're self-supporting ? I didn't even know you had a job ! \", ' Oh no . My family supports me . And believe me , changing foreign money into dollars is heart-breaking . You seem to get so little in return . ', \" Yeah , I really know the feeling . I can't wait to graduate so I can get a good job and earn my own money . \", '\\n']\n",
      "[\" I have a tuition scholarship from the university . Otherwise I'm on my own . \", \" Do you mean that you're self-supporting ? I didn't even know you had a job ! \"]\n",
      "\n",
      "\n",
      "['I was wondering if you could help me with something . ', ' Sure , anything you say . ', \" Actually , it's a little bit silly . \", \" Don't worry about it , just ask . \", ' What words do I need to know to buy a pair of shoes ? ', ' You need to know the type of shoes you want . ', \" Don't worry about that . I can point it out in the store . \", ' The shoes can be comfortable or not comfortable , too wide , too narrow , or just right ; and long or short . In girls shoes , the heel can be high or low . ', \" Let me write all that down . I'm going shopping this afternoon . \", '\\n']\n",
      "[]\n",
      "\n",
      "\n",
      "['I really think all Americans look alike . ', \" You're crazy ! You haven't been here long enough . \", ' But they do . ', ' What makes you say that ? ', \" They wear the same clothes , they're all blond , they all drive cars , they all own Parker fountain pens ; they all drink Coca Cola , and they all chew gum . \", \" I disagree with you . They don't all wear the same clothes ; they're definitely not all blond ; they don't all own Parker fountain pens ; they don't all drink Coca Cola , and they don't all chew gum . I do think they all drive cars though ! But that doesn't have anything to do with how they look ! \", \" Maybe I am just homesick . I know you're right . I just miss China , that's all . \", '\\n']\n",
      "[' But they do . ', ' What makes you say that ? ']\n",
      "\n",
      "\n",
      "['Excuse me , I would like to know something about this campus . Right now it seems very big and confusing ! I have no idea where I am going or what I am doing . ', ' Do you have a map of the campus ? ', \" Yes , I have , but it doesn't help me very much . I'm not very good at reading maps . \", ' Do you know where your classes are ? ', \" More or less . I go to three different buildings , and always get there late . I feel so hopeless . I don't know why I am late all the time . No one else seems to be . \", \" That's because you don't know the short cuts . You'll learn them after a while . I can show you the ropes . \", '\\n']\n",
      "[\" Yes , I have , but it doesn't help me very much . I'm not very good at reading maps . \", ' Do you know where your classes are ? ']\n",
      "\n",
      "\n",
      "['Hi Jim . Do you have a minute ? ', \" Sure , what's up ? \", ' Some of us are going to start a soccer team . Would you like to join us ? ', \" I don't know anything about it . Soccer isn't as popular in my country as it is here . \", \" That's all right . We'll teach you . \", ' Is it anything like American football ? ', \" Not very much . It's something like hockey , except that you use a big ball and no stick . \", \" I'll come down and watch you play some day , and see what it's like . \", \" Good idea . I think you'll like it if you give it a chance . \", '\\n']\n",
      "[\" That's all right . We'll teach you . \", ' Is it anything like American football ? ']\n",
      "\n",
      "\n",
      "[\"Tom , you're my good friend , right ? \", \" Sure . What's the matter with you ? \", \" The exam ! The terrible exam ! I'm not ready yet . Can you tell me how to get good marks ? \", \" Don't be so nervous ! Relax ! First , sleep early at night . Second , study two hours a day after school . Third , don't tire yourself out , but don't be lazy . Will that help ? \", ' Yes , thank you . ', '\\n']\n",
      "[]\n",
      "\n",
      "\n",
      "['Are you going abroad to study ? ', \" I'll have to think about it . \", '\\n']\n",
      "[]\n",
      "\n",
      "\n",
      "[\"I'm sorry for being late . \", \" You're supposed to stand here quietly until the flag - raising ceremony is over . \", ' About what time can I go to my own class ? ', ' When everything is over . ', ' Now that it is all over . can I go now ? ', ' Not yet . You should stand still for another few minutes . Late-comers must be recorded . ', \" That's too bad ! \", '\\n']\n",
      "[\" You're supposed to stand here quietly until the flag - raising ceremony is over . \", ' About what time can I go to my own class ? ', ' When everything is over . ', ' Now that it is all over . can I go now ? ']\n",
      "\n",
      "\n",
      "[\"Hi , Tom . You forgot to put on your sports shoes ! It's Games Day today ! \", \" Well , I have them in my bag . I'Il put them on right away ! \", ' Let me give you a hand . You are carrying so many books . ', ' Thanks ! ', ' Have you forgotten the cheers ? ', \" No , I haven't . I've tried hard to remember and I'm quite sure I've memorized the rhythm correctly . \", \" That's good ! \", '\\n']\n",
      "[]\n",
      "\n",
      "\n",
      "['Why are you so late ? ', \" I've been through a lot today . I forgot to set my alarm clock last night , so I woke up late this morning . And what is worse , I missed the school bus . \", \" That's enough . Sit down . \", '\\n']\n",
      "[]\n",
      "\n",
      "\n",
      "['You did well on the math test . ', ' Of course . ', \" Don't you always fail in the math tests ? \", ' Things were different this time . I sat by a math genius . ', ' Huh ? You mean you snuck a peek at his test ? ', ' B :: Come on ! I just took a glance . ', ' Are you crazy ? You were cheating . ', '\\n']\n",
      "[' Of course . ', \" Don't you always fail in the math tests ? \", ' Things were different this time . I sat by a math genius . ', ' Huh ? You mean you snuck a peek at his test ? ', ' B :: Come on ! I just took a glance . ', ' Are you crazy ? You were cheating . ']\n",
      "\n",
      "\n",
      "['Good morning . I want to apply for a library card . ', ' Give me 10 yuan , your ID card and a photo of you please . ', ' But I hear that the card is free . ', ' Yes , it is . But you must pay a deposit for the card . ', ' There will be a refund when I return the card , right ? ', ' Yes , if the card is well kept and has no dirt and scratches . ', ' OK , here you are . ', '\\n']\n",
      "[]\n",
      "\n",
      "\n",
      "[\"Mary , I've some bad news for you . \", \" I have already known that . I didn't get the scholarship , right ? \", ' Yes . The board was favorably impressed with your application , but the competition was very fierce . ', ' Can you help me ? You know I do need the scholarship . ', \" I'm afraid I can't I advise you to try again next year . \", ' Thank you . I will . ', '\\n']\n",
      "[]\n",
      "\n",
      "\n",
      "['Excuse me , are you American ? ', ' No . ', ' Do you speak English ? ', ' A little , but not very well . ', ' How long have you been here ? ', ' 2 months . ', ' What do you do for work ? ', \" I'm a student . How about you ? \", \" I'm a student too . \", '\\n']\n",
      "[' No . ', ' Do you speak English ? ', ' A little , but not very well . ', ' How long have you been here ? ', ' 2 months . ', ' What do you do for work ? ']\n",
      "\n",
      "\n",
      "['William , do you like studying English ? ', ' I like studying English , and I can read well , but speaking can be difficult . ', \" It's not that bad . If you talk to your American friends every day , you'll learn quickly . \", ' Can I ask you a question ? ', ' Sure , what do you want to know ? ', ' I have my book from class here . How do you say this word ? ', ' Laptop . ', \" Sorry , I don't understand . What does that mean ? \", ' A laptop is a type of computer that you can carry with you . Do you understand ? ', ' Yes , I think so . Can you say it again ? ', ' Laptop . ', ' Laptop . Did I pronounce that correctly ? ', \" Yes , that's right . That's very good . \", ' Thanks . And this word ? How do you pronounce this ? ', ' That word is pronounced kitchen . ', \" Thanks so much . You're a good teacher . \", ' Thanks . ', '\\n']\n",
      "[' Laptop . ', \" Sorry , I don't understand . What does that mean ? \", ' Laptop . ', ' Laptop . Did I pronounce that correctly ? ', \" Yes , that's right . That's very good . \", ' Thanks . And this word ? How do you pronounce this ? ']\n",
      "\n",
      "\n"
     ]
    }
   ],
   "source": [
    "#displaying answer-question conversations\n",
    "for i in range(20):\n",
    "    print(data_train[i])\n",
    "    print(data_train1[i])\n",
    "    print(\"\\n\")"
   ]
  },
  {
   "cell_type": "code",
   "execution_count": 172,
   "metadata": {},
   "outputs": [
    {
     "name": "stdout",
     "output_type": "stream",
     "text": [
      "4878\n",
      "Before preprocessing: \n",
      "\n",
      "[[' Yes . We just had a basketball match with Class Two . ', ' Who won ? ', ' They did . ', ' What was the score ? '], [\" No , I wouldn't worry about you . \", ' Why ? '], [\" I don't have much contact with them . \", \" Really ? Why not ? Don't you go up and talk to them ? \"], [\" Yes , I am . I really don't know anyone . \", ' Did you just arrive in this country ? You look a little nervous . ', ' I took this course last semester too . Now I am taking it again ! ', ' How is it ? Did you learn anything here ? Why are you taking it again ? '], ['I really want to take a nap . I feel very sleepy today . ', \" What's the matter ? Didn't you get enough sleep last night ? \", \" I fell asleep very late . It was almost two o'clock in the morning when I finally fell asleep . \", \" Are you worried about something ? Why couldn't you sleep ? \"], [\" I have a tuition scholarship from the university . Otherwise I'm on my own . \", \" Do you mean that you're self-supporting ? I didn't even know you had a job ! \"], [], [' But they do . ', ' What makes you say that ? '], [\" Yes , I have , but it doesn't help me very much . I'm not very good at reading maps . \", ' Do you know where your classes are ? '], [\" That's all right . We'll teach you . \", ' Is it anything like American football ? '], [], [], [\" You're supposed to stand here quietly until the flag - raising ceremony is over . \", ' About what time can I go to my own class ? ', ' When everything is over . ', ' Now that it is all over . can I go now ? '], [], [], [' Of course . ', \" Don't you always fail in the math tests ? \", ' Things were different this time . I sat by a math genius . ', ' Huh ? You mean you snuck a peek at his test ? ', ' B :: Come on ! I just took a glance . ', ' Are you crazy ? You were cheating . '], [], [], [' No . ', ' Do you speak English ? ', ' A little , but not very well . ', ' How long have you been here ? ', ' 2 months . ', ' What do you do for work ? '], [' Laptop . ', \" Sorry , I don't understand . What does that mean ? \", ' Laptop . ', ' Laptop . Did I pronounce that correctly ? ', \" Yes , that's right . That's very good . \", ' Thanks . And this word ? How do you pronounce this ? ']] \n",
      "\n",
      "After preprocessing: \n",
      "\n",
      "[['yes . we just had a basketball match with class two .', 'who won ?', 'they did .', 'what was the score ?'], ['no , i would not worry about you .', 'why ?'], ['i do not have much contact with them .', 'really ? why not ? do not you go up and talk to them ?'], ['yes , i am . i really do not know anyone .', 'did you just arrive in this country ? you look a little nervous .', 'i took this course last semester too . now i am taking it again !', 'how is it ? did you learn anything here ? why are you taking it again ?'], ['i really want to take a nap . i feel very sleepy today .', 'what is the matter ? did not you get enough sleep last night ?', 'i fell asleep very late . it was almost two of the clock in the morning when i finally fell asleep .', 'are you worried about something ? why could not you sleep ?'], ['i have a tuition scholarship from the university . otherwise i am on my own .', 'do you mean that you are self-supporting ? i did not even know you had a job !'], [], ['but they do .', 'what makes you say that ?'], ['yes , i have , but it does not help me very much . i am not very good at reading maps .', 'do you know where your classes are ?'], ['that is all right . we will teach you .', 'is it anything like american football ?'], [], [], ['you are supposed to stand here quietly until the flag - raising ceremony is over .', 'about what time can i go to my own class ?', 'when everything is over .', 'now that it is all over . can i go now ?'], [], [], ['of course .', 'do not you always fail in the math tests ?', 'things were different this time . i sat by a math genius .', 'huh ? you mean you snuck a peek at his test ?', 'b come on ! i just took a glance .', 'are you crazy ? you were cheating .'], [], [], ['no .', 'do you speak english ?', 'a little , but not very well .', 'how long have you been here ?', 'months .', 'what do you do for work ?'], ['laptop .', 'sorry , i do not understand . what does that mean ?', 'laptop .', 'laptop . did i pronounce that correctly ?', 'yes , that is right . that is very good .', 'thanks . and this word ? how do you pronounce this ?']] \n",
      "\n"
     ]
    }
   ],
   "source": [
    "#preprocessing fetched data\n",
    "preprocessed_data2=preprocess(data_train1)\n",
    "print(len(preprocessed_data2))\n",
    "print(\"Before preprocessing: \\n\")\n",
    "print(data_train1[:20],\"\\n\")\n",
    "print(\"After preprocessing: \\n\")\n",
    "print(preprocessed_data2[:20],\"\\n\")"
   ]
  },
  {
   "cell_type": "code",
   "execution_count": 173,
   "metadata": {},
   "outputs": [
    {
     "name": "stdout",
     "output_type": "stream",
     "text": [
      "5822 5822\n"
     ]
    }
   ],
   "source": [
    "#splitting data into input and output vectors\n",
    "input_vect1=[]\n",
    "output_vect1=[]\n",
    "for i in preprocessed_data2:\n",
    "    if len(i)>0 and len(i)%2==0:\n",
    "        for j in range(len(i)):\n",
    "            if j%2==0:\n",
    "                input_vect1.append(i[j].strip())\n",
    "            else:\n",
    "                output_vect1.append(i[j].strip())\n",
    "print(len(input_vect1),len(output_vect1))"
   ]
  },
  {
   "cell_type": "code",
   "execution_count": 174,
   "metadata": {},
   "outputs": [
    {
     "name": "stdout",
     "output_type": "stream",
     "text": [
      "i was not feeling really well .\n",
      "what was wrong with you ?\n",
      "\n",
      "\n",
      "my stomach was upset .\n",
      "do you feel better now ?\n",
      "\n",
      "\n",
      "i do not really feel too well yet .\n",
      "do you want anything to make you feel better ?\n",
      "\n",
      "\n",
      "i am pretty good . thanks for asking .\n",
      "no problem . so how have you been ?\n",
      "\n",
      "\n",
      "i have been good . i am in school right now .\n",
      "what school do you go to ?\n",
      "\n",
      "\n",
      "i go to pcc .\n",
      "do you like it there ?\n",
      "\n",
      "\n",
      "i am absolutely lovely , thank you .\n",
      "everything's been good with you ?\n",
      "\n",
      "\n",
      "i started school recently .\n",
      "where are you going to school ?\n",
      "\n",
      "\n",
      "i am going to pcc .\n",
      "how do you like it so far ?\n",
      "\n",
      "\n",
      "i was sick .\n",
      "how were you sick ?\n",
      "\n",
      "\n",
      "i had a stomachache .\n",
      "did it get any better ?\n",
      "\n",
      "\n",
      "i am still feeling under the weather .\n",
      "would you like anything for your stomach ?\n",
      "\n",
      "\n",
      "you missed a really good game .\n",
      "oh , really ? who won ?\n",
      "\n",
      "\n",
      "yeah , you should have . it was really exciting .\n",
      "so what was the score ?\n",
      "\n",
      "\n",
      "you should have been there . it was intense .\n",
      "is that right . who ended up winning ?\n",
      "\n",
      "\n",
      "it was a great game .\n",
      "what was the score at the end of the game ?\n",
      "\n",
      "\n",
      "it was a great game .\n",
      "it is too bad that i could not make it . who won ?\n",
      "\n",
      "\n",
      "the weather this weekend is supposed to be warm .\n",
      "will it be good beach weather ?\n",
      "\n",
      "\n",
      "it is okay .\n",
      "so what were you calling me about ?\n",
      "\n",
      "\n",
      "that is all right .\n",
      "what was the reason for your call ?\n",
      "\n",
      "\n",
      "i want to do something tomorrow with you .\n",
      "sounds good . what did you have in mind ?\n",
      "\n",
      "\n",
      "no problem .\n",
      "did you need something ?\n",
      "\n",
      "\n",
      "did you want to do something tomorrow ?\n",
      "is there somewhere special you wanted to go ?\n",
      "\n",
      "\n",
      "i got a promotion at my job .\n",
      "did you really ?\n",
      "\n",
      "\n",
      "i am so happy for you .\n",
      "really ?\n",
      "\n",
      "\n",
      "yes . you really deserved this .\n",
      "you think so ?\n",
      "\n",
      "\n",
      "my boss offered me a promotion , and i took it .\n",
      "are you serious ?\n",
      "\n",
      "\n",
      "you have no idea how happy i am for you .\n",
      "for real ?\n",
      "\n",
      "\n",
      "i got a promotion at work earlier this week .\n",
      "is that right ?\n",
      "\n",
      "\n",
      "i am really excited for you .\n",
      "are you really ?\n",
      "\n",
      "\n",
      "i am serious . you deserved this promotion .\n",
      "is that what you really think ?\n",
      "\n",
      "\n",
      "our cousin went into labor and had her baby last week .\n",
      "she did ? why did not anyone tell me ?\n",
      "\n",
      "\n",
      "oh my god , that is great !\n",
      "are you going to go and visit her and the baby ?\n",
      "\n",
      "\n",
      "that is good to hear .\n",
      "will you go and visit them ?\n",
      "\n",
      "\n",
      "thank you . i am glad that you are enjoying it .\n",
      "where did you get your fantastic recipes ?\n",
      "\n",
      "\n",
      "that is a special coconut ginger chicken with rice dish .\n",
      "is that shrimp in the soup ?\n",
      "\n",
      "\n",
      "yes , it seems that way to me also .\n",
      "how are your vegetables ?\n",
      "\n",
      "\n",
      "that is exactly what i was thinking had happened .\n",
      "are your vegetables ok ?\n",
      "\n",
      "\n",
      "thank you . i am glad that everything turned out so well .\n",
      "who taught you how to cook this well ?\n",
      "\n",
      "\n",
      "i took a cooking class at the culinary institute .\n",
      "wow , what is in this chicken dish ?\n",
      "\n",
      "\n",
      "is not that great ? that is coconut ginger chicken with rice .\n",
      "is the soup a shrimp soup ?\n",
      "\n",
      "\n",
      "thanks . i was hoping that you would all enjoy this meal .\n",
      "where did you learn to cook these amazing dishes ?\n",
      "\n",
      "\n",
      "i love that dish as well . it is coconut chicken with rice .\n",
      "i was wondering if there was shrimp in the soup .\n",
      "\n",
      "\n",
      "yes , maybe they are short-handed in the kitchen tonight .\n",
      "are your vegetables a little mushy ?\n",
      "\n",
      "\n",
      "thank you . i just got this outfit the other day .\n",
      "really , where did you get it ?\n",
      "\n",
      "\n",
      "thank you . i just got these shoes today .\n",
      "really ? what kind of shoes are they ?\n",
      "\n",
      "\n",
      "these are called all star chuck taylors .\n",
      "i really like those . how much did they cost ?\n",
      "\n",
      "\n",
      "she is one of the prettiest girls at the school .\n",
      "what does she look like ?\n",
      "\n",
      "\n",
      "well , she is quite short .\n",
      "how tall would you say that she is ?\n",
      "\n",
      "\n",
      "i would say she is only feet .\n",
      "what about her facial features ?\n",
      "\n",
      "\n"
     ]
    }
   ],
   "source": [
    "#Displaying input and output vectors\n",
    "for i in range(len(input_vect1)-100,len(input_vect1)-50):\n",
    "    print(input_vect1[i])\n",
    "    print(output_vect1[i])\n",
    "    print('\\n')"
   ]
  },
  {
   "cell_type": "code",
   "execution_count": 175,
   "metadata": {},
   "outputs": [
    {
     "data": {
      "text/plain": [
       "5822"
      ]
     },
     "execution_count": 175,
     "metadata": {},
     "output_type": "execute_result"
    }
   ],
   "source": [
    "len(input_vect1)"
   ]
  },
  {
   "cell_type": "code",
   "execution_count": 176,
   "metadata": {},
   "outputs": [
    {
     "name": "stdout",
     "output_type": "stream",
     "text": [
      "No. of dialogue pairs already of length <= 30: 4985\n",
      "No. of input dialogues trimmed to length <= 30: 699\n",
      "No. of output dialogues trimmed to length <= 30: 190\n"
     ]
    }
   ],
   "source": [
    "#trimming data\n",
    "input_vect1_cp=input_vect1.copy()\n",
    "output_vect1_cp=output_vect1.copy()\n",
    "input_vect1,output_vect1,count3,count4,count5=trimming_data(input_vect1,output_vect1)\n",
    "print(\"No. of dialogue pairs already of length <= 30:\",count3)\n",
    "print(\"No. of input dialogues trimmed to length <= 30:\",count4)\n",
    "print(\"No. of output dialogues trimmed to length <= 30:\",count5)"
   ]
  },
  {
   "cell_type": "code",
   "execution_count": 177,
   "metadata": {},
   "outputs": [
    {
     "name": "stdout",
     "output_type": "stream",
     "text": [
      "28\n",
      "28\n"
     ]
    }
   ],
   "source": [
    "#max length of input and output vectors pt.1\n",
    "input1_len=[len(i.split()) for i in input_vect1]\n",
    "print(max(input_len))\n",
    "output1_len=[len(i.split()) for i in output_vect1]\n",
    "print(max(output_len))"
   ]
  },
  {
   "cell_type": "code",
   "execution_count": 178,
   "metadata": {},
   "outputs": [
    {
     "data": {
      "text/plain": [
       "5822"
      ]
     },
     "execution_count": 178,
     "metadata": {},
     "output_type": "execute_result"
    }
   ],
   "source": [
    "len(input_vect1)"
   ]
  },
  {
   "cell_type": "code",
   "execution_count": 179,
   "metadata": {},
   "outputs": [
    {
     "name": "stdout",
     "output_type": "stream",
     "text": [
      "yes . we just had a basketball match with class two .\n",
      "who won ?\n",
      "\n",
      "\n",
      "they did .\n",
      "what was the score ?\n",
      "\n",
      "\n",
      "no , i would not worry about you .\n",
      "why ?\n",
      "\n",
      "\n",
      "i do not have much contact with them .\n",
      "really ? why not ? do not you go up and talk to them ?\n",
      "\n",
      "\n",
      "yes , i am . i really do not know anyone .\n",
      "did you just arrive in this country ? you look a little nervous .\n",
      "\n",
      "\n",
      "i took this course last semester too . now i am taking it again !\n",
      "how is it ? did you learn anything here ? why are you taking it again ?\n",
      "\n",
      "\n",
      "i really want to take a nap . i feel very sleepy today .\n",
      "what is the matter ? did not you get enough sleep last night ?\n",
      "\n",
      "\n",
      "i fell asleep very late . it was almost two of the clock in the morning when i finally fell asleep .\n",
      "are you worried about something ? why could not you sleep ?\n",
      "\n",
      "\n",
      "i have a tuition scholarship from the university . otherwise i am on my own .\n",
      "do you mean that you are self-supporting ? i did not even know you had a job !\n",
      "\n",
      "\n",
      "but they do .\n",
      "what makes you say that ?\n",
      "\n",
      "\n"
     ]
    }
   ],
   "source": [
    "#displaying trimmed data\n",
    "for i in range(len(input_vect1[:10])):\n",
    "    print(input_vect1[i])\n",
    "    print(output_vect1[i])\n",
    "    print(\"\\n\")"
   ]
  },
  {
   "cell_type": "code",
   "execution_count": 180,
   "metadata": {},
   "outputs": [
    {
     "name": "stdout",
     "output_type": "stream",
     "text": [
      "16028 16028\n"
     ]
    }
   ],
   "source": [
    "#concatenating input and output vectors\n",
    "input_vect+=input_vect1\n",
    "output_vect+=output_vect1\n",
    "print(len(input_vect),len(output_vect))"
   ]
  },
  {
   "cell_type": "code",
   "execution_count": 181,
   "metadata": {},
   "outputs": [],
   "source": [
    "#Function for adding BOS (Beginning of Sentence) and EOS (End of Sentence) tags for the target vector\n",
    "def add_tokens(vect):\n",
    "    bos=\"bos \"\n",
    "    eos=\" eos\"\n",
    "    output_vect=[bos+text+eos for text in vect]\n",
    "    return output_vect"
   ]
  },
  {
   "cell_type": "code",
   "execution_count": 182,
   "metadata": {},
   "outputs": [],
   "source": [
    "input_vect_fin=add_tokens(input_vect)\n",
    "output_vect_fin=add_tokens(output_vect)"
   ]
  },
  {
   "cell_type": "code",
   "execution_count": 183,
   "metadata": {},
   "outputs": [
    {
     "name": "stdout",
     "output_type": "stream",
     "text": [
      "16028 16028\n"
     ]
    }
   ],
   "source": [
    "print(len(input_vect_fin),len(output_vect_fin))"
   ]
  },
  {
   "cell_type": "code",
   "execution_count": 184,
   "metadata": {},
   "outputs": [
    {
     "name": "stdout",
     "output_type": "stream",
     "text": [
      "30\n",
      "30\n"
     ]
    }
   ],
   "source": [
    "#max length of input and output vectors pt.1\n",
    "input_fin_len=[len(i.split()) for i in input_vect_fin]\n",
    "print(max(input_fin_len))\n",
    "output_fin_len=[len(i.split()) for i in output_vect_fin]\n",
    "print(max(output_fin_len))"
   ]
  },
  {
   "cell_type": "code",
   "execution_count": 185,
   "metadata": {},
   "outputs": [
    {
     "name": "stdout",
     "output_type": "stream",
     "text": [
      "bos i am all right , thanks . just a little tired . eos\n",
      "bos late night ? eos\n",
      "\n",
      "\n",
      "bos i am fine . i have been out of town . i just got back . eos\n",
      "bos where were you ? eos\n",
      "\n",
      "\n",
      "bos well , i guess that is about it . everything's packed and ready to go . eos\n",
      "bos it is hard to believer you are really retiring . what are you going to do with yourself ? eos\n",
      "\n",
      "\n",
      "bos hello , mr . macmillan . eos\n",
      "bos hi , susan . how are you feeling today ? eos\n",
      "\n",
      "\n",
      "bos i did not really like it all that much . eos\n",
      "bos what do you think the problem was ? eos\n",
      "\n",
      "\n",
      "bos well , they are pretty new . i just did not feel that they were ready to open yet . eos\n",
      "bos how did you feel about the food ? eos\n",
      "\n",
      "\n",
      "bos i really enjoyed the food . eos\n",
      "bos what did you enjoy the most ? eos\n",
      "\n",
      "\n",
      "bos actually , it could have been better . eos\n",
      "bos what did not you like about it ? eos\n",
      "\n",
      "\n",
      "bos it is a new restaurant . i do not think they have their act together yet . eos\n",
      "bos what did you think about the food ? eos\n",
      "\n",
      "\n",
      "bos i agree . the service was not good . eos\n",
      "bos do you think that you want to try this restaurant another time ? eos\n",
      "\n",
      "\n"
     ]
    }
   ],
   "source": [
    "#displaying trimmed data\n",
    "for i in range(-10,0):\n",
    "    print(input_vect_fin[i])\n",
    "    print(output_vect_fin[i])\n",
    "    print(\"\\n\")"
   ]
  },
  {
   "cell_type": "code",
   "execution_count": 194,
   "metadata": {},
   "outputs": [],
   "source": [
    "f=open('AI_project_inpdata.txt','w')\n",
    "for ele in input_vect_fin:\n",
    "    f.write(ele+'\\n')\n",
    "f.close()"
   ]
  },
  {
   "cell_type": "code",
   "execution_count": 195,
   "metadata": {},
   "outputs": [],
   "source": [
    "f=open('AI_project_outdata.txt','w')\n",
    "for ele in output_vect_fin:\n",
    "    f.write(ele+'\\n')\n",
    "f.close()"
   ]
  },
  {
   "cell_type": "code",
   "execution_count": null,
   "metadata": {},
   "outputs": [],
   "source": [
    "from itertools import groupby\n",
    "input_vect1=[]\n",
    "for i in input_vect:\n",
    "    temp_vect=[]\n",
    "    for j in i:\n",
    "        temp=j.split()\n",
    "        vect=[k[0] for k in groupby(temp)]\n",
    "        temp1=[' '.join(vect[k:k+2]) for k in range(0,len(vect),2)]\n",
    "        vect1=[k[0] for k in groupby(temp1)]\n",
    "        temp2=[' '.join(vect1[k:k+2]) for k in range(0,len(vect1),2)]\n",
    "        vect2=[k[0] for k in groupby(temp2)]\n",
    "        temp3=' '.join(vect2)\n",
    "        if len(temp3)>0:\n",
    "            temp_vect.append(temp3)\n",
    "    input_vect1.append(temp_vect)\n",
    "print(len(input_vect1))\n",
    "print(input_vect1)"
   ]
  },
  {
   "cell_type": "code",
   "execution_count": null,
   "metadata": {},
   "outputs": [],
   "source": [
    "from itertools import groupby\n",
    "output_vect1=[]\n",
    "for i in output_vect:\n",
    "    temp_vect=[]\n",
    "    for j in i:\n",
    "        temp=j.split()\n",
    "        vect=[k[0] for k in groupby(temp)]\n",
    "        temp1=[' '.join(vect[k:k+2]) for k in range(0,len(vect),2)]\n",
    "        vect1=[k[0] for k in groupby(temp1)]\n",
    "        temp2=[' '.join(vect1[k:k+2]) for k in range(0,len(vect1),2)]\n",
    "        vect2=[k[0] for k in groupby(temp2)]\n",
    "        temp3=' '.join(vect2)\n",
    "        if len(temp3)>0:\n",
    "            temp_vect.append(temp3)\n",
    "    output_vect1.append(temp_vect)\n",
    "print(len(output_vect1))\n",
    "print(output_vect1)"
   ]
  },
  {
   "cell_type": "code",
   "execution_count": null,
   "metadata": {},
   "outputs": [],
   "source": [
    "questions=['what','why','where','when','which','who','how','do','does','did','have','has','had','can','could','will','would','shall','should','is','was','were','really']\n",
    "exclamations=['wow','great','that is great','wonderful','excellent','awesome','cool','that is cool','brilliant','sounds great','that sounds great','beautiful','my goodness','marvelous','jeez','fabulous','fantastic','bye','goodbye']\n",
    "b=[]\n",
    "for i in input_vect1:\n",
    "    count=0\n",
    "    flag=0\n",
    "    a=[]\n",
    "    for j in i:\n",
    "        count+=1\n",
    "        if len(j)>0:\n",
    "            if count==1:\n",
    "                if j.split()[0] in questions:\n",
    "                    j=j+' ?'\n",
    "                    flag=1\n",
    "            if j in exclamations and flag==0:\n",
    "                j=j+' !'\n",
    "            elif flag==0:\n",
    "                j=j+' .'\n",
    "            j=re.sub('[\\s]+(?=[\\s])','',j)\n",
    "            a.append(j)\n",
    "    b.append(' '.join(a))"
   ]
  },
  {
   "cell_type": "code",
   "execution_count": null,
   "metadata": {},
   "outputs": [],
   "source": [
    "questions=['what','why','where','when','which','who','how','do','does','did','have','has','had','can','could','will','would','shall','should','is','was','were','really']\n",
    "exclamations=['wow','great','that is great','wonderful','excellent','awesome','cool','that is cool','brilliant','sounds great','that sounds great','beautiful','my goodness','marvelous','jeez','fabulous','fantastic','bye','goodbye']\n",
    "d=[]\n",
    "for i in output_vect:\n",
    "    count=0\n",
    "    flag=0\n",
    "    c=[]\n",
    "    for j in i:\n",
    "        if j.split()[0] in questions:\n",
    "            j=j+' ?'\n",
    "        elif j in exclamations:\n",
    "            j=j+' !'\n",
    "        else:\n",
    "            j=j+' .'\n",
    "        c.append(j)\n",
    "    d.append(' '.join(c))"
   ]
  }
 ],
 "metadata": {
  "kernelspec": {
   "display_name": "Python 3",
   "language": "python",
   "name": "python3"
  },
  "language_info": {
   "codemirror_mode": {
    "name": "ipython",
    "version": 3
   },
   "file_extension": ".py",
   "mimetype": "text/x-python",
   "name": "python",
   "nbconvert_exporter": "python",
   "pygments_lexer": "ipython3",
   "version": "3.8.3"
  }
 },
 "nbformat": 4,
 "nbformat_minor": 4
}
